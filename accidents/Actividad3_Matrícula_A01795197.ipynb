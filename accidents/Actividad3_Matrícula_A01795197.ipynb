{
 "cells": [
  {
   "metadata": {},
   "cell_type": "markdown",
   "source": [
    "# Actividad 3 | Aprendizaje supervisado y no supervisado\n",
    "\n",
    "Curso: Análisis de grandes volúmenes de datos\n",
    "\n",
    "Alumno: Luis Daniel Ortega Muñoz | A01795197"
   ],
   "id": "59aa221361d3a410"
  },
  {
   "metadata": {
    "ExecuteTime": {
     "end_time": "2025-05-26T04:00:19.145240Z",
     "start_time": "2025-05-26T04:00:18.161029Z"
    }
   },
   "cell_type": "code",
   "source": [
    "import kagglehub\n",
    "from pyspark.ml.regression import LinearRegression\n",
    "from pyspark.ml.clustering import KMeans\n",
    "from pyspark.ml.evaluation import RegressionEvaluator\n",
    "from pyspark.ml.feature import StringIndexer, OneHotEncoder, StandardScaler, VectorAssembler\n",
    "from pyspark.sql import SparkSession\n",
    "from pyspark.sql.functions import when, col, hour, date_format, count, round, concat_ws, rand\n",
    "from pyspark.sql.window import Window\n",
    "from pyspark.sql.functions import row_number"
   ],
   "id": "edc18bba85d21f9b",
   "outputs": [
    {
     "name": "stderr",
     "output_type": "stream",
     "text": [
      "C:\\Users\\danie\\anaconda3\\envs\\env_pyspark\\Lib\\site-packages\\tqdm\\auto.py:21: TqdmWarning: IProgress not found. Please update jupyter and ipywidgets. See https://ipywidgets.readthedocs.io/en/stable/user_install.html\n",
      "  from .autonotebook import tqdm as notebook_tqdm\n"
     ]
    }
   ],
   "execution_count": 1
  },
  {
   "metadata": {},
   "cell_type": "markdown",
   "source": "## Introducción teórica\n",
   "id": "68ec472df4b917a"
  },
  {
   "metadata": {},
   "cell_type": "markdown",
   "source": [
    "En este ejercicio se explorarán métodos de aprendizaje de máquina utilizando PySpark. A alto nivel, el aprendizaje de máquina se puede dividir en aprendizaje supervisado y aprendizaje no supervisado.\n",
    "\n",
    "El aprendizaje supervisado es aquel en el que se tiene un conjunto de datos etiquetado; es decir, para cada elemento en el conjunto sabemos cuál es la \"respuesta correcta\". En este tipo de técnicas, se busca predecir el resultado de nuevas observaciones a partir de lo aprendido a través del conjunto de datos de entrenamiento. En general, el aprendizaje supervisado se aplica en dos clases de problemas: los problemas de regresión, donde se busca predecir un valor numérico real y continuo, y los problemas de clasificación, en los cuales el objetivo es determinar si un elemento pertenece o no a una categoría. Algunos algoritmos comunes de aprendizaje supervisado son regresión lineal, regresión logística, MLP, DecisionTree, etc.\n",
    "\n",
    "Por otra parte, en problemas de aprendizaje no supervisado no se cuenta con una variable de salida, por lo que el objetivo general consiste en extraer información y características de nuestro conjunto de datos. Es común utilizar técnicas de aprendizaje no supervisado para realizar clustering (o agrupamiento) de datos, detección de anomalías, para implementar sistemas de recomendación, reducción de dimensionalidad, etc. Algoritmos populares son KMeans, Mean-Shift, PCA, LDA, entre otros.\n",
    "\n",
    "PySpark proporciona una gran variedad de algoritmos de aprendizaje automático, incluyendo todos los mencionados anteriormente. La lista completa puede ser consultada en la documentación oficial: https://spark.apache.org/docs/latest/api/python/reference/pyspark.ml.html"
   ],
   "id": "db11c30fa2e6fcdf"
  },
  {
   "metadata": {},
   "cell_type": "markdown",
   "source": "## Selección de los datos",
   "id": "3edb094c293f94f7"
  },
  {
   "metadata": {},
   "cell_type": "markdown",
   "source": "### Carga del conjunto de datos con PySpark",
   "id": "ae1700fb41679cbc"
  },
  {
   "metadata": {
    "ExecuteTime": {
     "end_time": "2025-05-26T04:00:20.256252Z",
     "start_time": "2025-05-26T04:00:19.602495Z"
    }
   },
   "cell_type": "code",
   "source": [
    "# Download the latest version\n",
    "path = kagglehub.dataset_download(\"sobhanmoosavi/us-accidents\")\n",
    "\n",
    "print(\"Path to dataset files:\", path)\n",
    "\n",
    "dataset_path = path + \"/US_Accidents_March23.csv\""
   ],
   "id": "f884e3285535a5ac",
   "outputs": [
    {
     "name": "stdout",
     "output_type": "stream",
     "text": [
      "Path to dataset files: C:\\Users\\danie\\.cache\\kagglehub\\datasets\\sobhanmoosavi\\us-accidents\\versions\\13\n"
     ]
    }
   ],
   "execution_count": 2
  },
  {
   "metadata": {
    "ExecuteTime": {
     "end_time": "2025-05-26T04:00:24.030542Z",
     "start_time": "2025-05-26T04:00:20.266241Z"
    }
   },
   "cell_type": "code",
   "source": [
    "# Create a Spark session\n",
    "spark = SparkSession.builder.master(\"local[*]\").getOrCreate()\n",
    "\n",
    "spark.conf.set(\"spark.sql.repl.eagerEval.enabled\", True)\n",
    "\n",
    "spark"
   ],
   "id": "b742ca62fd04a9db",
   "outputs": [
    {
     "data": {
      "text/plain": [
       "<pyspark.sql.session.SparkSession at 0x1f5a3cac4d0>"
      ],
      "text/html": [
       "\n",
       "            <div>\n",
       "                <p><b>SparkSession - in-memory</b></p>\n",
       "                \n",
       "        <div>\n",
       "            <p><b>SparkContext</b></p>\n",
       "\n",
       "            <p><a href=\"http://raspberrypi:4040\">Spark UI</a></p>\n",
       "\n",
       "            <dl>\n",
       "              <dt>Version</dt>\n",
       "                <dd><code>v3.5.4</code></dd>\n",
       "              <dt>Master</dt>\n",
       "                <dd><code>local[*]</code></dd>\n",
       "              <dt>AppName</dt>\n",
       "                <dd><code>pyspark-shell</code></dd>\n",
       "            </dl>\n",
       "        </div>\n",
       "        \n",
       "            </div>\n",
       "        "
      ]
     },
     "execution_count": 3,
     "metadata": {},
     "output_type": "execute_result"
    }
   ],
   "execution_count": 3
  },
  {
   "metadata": {
    "ExecuteTime": {
     "end_time": "2025-05-26T04:00:34.842719Z",
     "start_time": "2025-05-26T04:00:24.052317Z"
    }
   },
   "cell_type": "code",
   "source": [
    "df = spark.read.csv(dataset_path, header=True, inferSchema=True)\n",
    "\n",
    "df.show(5)"
   ],
   "id": "8ec0c0a980b82139",
   "outputs": [
    {
     "name": "stdout",
     "output_type": "stream",
     "text": [
      "+---+-------+--------+-------------------+-------------------+-----------------+------------------+-------+-------+------------+--------------------+--------------------+------------+----------+-----+----------+-------+----------+------------+-------------------+--------------+-------------+-----------+------------+--------------+--------------+---------------+-----------------+-----------------+-------+-----+--------+--------+--------+-------+-------+----------+-------+-----+---------------+--------------+------------+--------------+--------------+-----------------+---------------------+\n",
      "| ID| Source|Severity|         Start_Time|           End_Time|        Start_Lat|         Start_Lng|End_Lat|End_Lng|Distance(mi)|         Description|              Street|        City|    County|State|   Zipcode|Country|  Timezone|Airport_Code|  Weather_Timestamp|Temperature(F)|Wind_Chill(F)|Humidity(%)|Pressure(in)|Visibility(mi)|Wind_Direction|Wind_Speed(mph)|Precipitation(in)|Weather_Condition|Amenity| Bump|Crossing|Give_Way|Junction|No_Exit|Railway|Roundabout|Station| Stop|Traffic_Calming|Traffic_Signal|Turning_Loop|Sunrise_Sunset|Civil_Twilight|Nautical_Twilight|Astronomical_Twilight|\n",
      "+---+-------+--------+-------------------+-------------------+-----------------+------------------+-------+-------+------------+--------------------+--------------------+------------+----------+-----+----------+-------+----------+------------+-------------------+--------------+-------------+-----------+------------+--------------+--------------+---------------+-----------------+-----------------+-------+-----+--------+--------+--------+-------+-------+----------+-------+-----+---------------+--------------+------------+--------------+--------------+-----------------+---------------------+\n",
      "|A-1|Source2|       3|2016-02-08 05:46:00|2016-02-08 11:00:00|        39.865147|        -84.058723|   NULL|   NULL|        0.01|Right lane blocke...|              I-70 E|      Dayton|Montgomery|   OH|     45424|     US|US/Eastern|        KFFO|2016-02-08 05:58:00|          36.9|         NULL|       91.0|       29.68|          10.0|          Calm|           NULL|             0.02|       Light Rain|  false|false|   false|   false|   false|  false|  false|     false|  false|false|          false|         false|       false|         Night|         Night|            Night|                Night|\n",
      "|A-2|Source2|       2|2016-02-08 06:07:59|2016-02-08 06:37:59|39.92805900000001|        -82.831184|   NULL|   NULL|        0.01|Accident on Brice...|            Brice Rd|Reynoldsburg|  Franklin|   OH|43068-3402|     US|US/Eastern|        KCMH|2016-02-08 05:51:00|          37.9|         NULL|      100.0|       29.65|          10.0|          Calm|           NULL|              0.0|       Light Rain|  false|false|   false|   false|   false|  false|  false|     false|  false|false|          false|         false|       false|         Night|         Night|            Night|                  Day|\n",
      "|A-3|Source2|       2|2016-02-08 06:49:27|2016-02-08 07:19:27|        39.063148|        -84.032608|   NULL|   NULL|        0.01|Accident on OH-32...|      State Route 32|Williamsburg|  Clermont|   OH|     45176|     US|US/Eastern|        KI69|2016-02-08 06:56:00|          36.0|         33.3|      100.0|       29.67|          10.0|            SW|            3.5|             NULL|         Overcast|  false|false|   false|   false|   false|  false|  false|     false|  false|false|          false|          true|       false|         Night|         Night|              Day|                  Day|\n",
      "|A-4|Source2|       3|2016-02-08 07:23:34|2016-02-08 07:53:34|        39.747753|-84.20558199999998|   NULL|   NULL|        0.01|Accident on I-75 ...|              I-75 S|      Dayton|Montgomery|   OH|     45417|     US|US/Eastern|        KDAY|2016-02-08 07:38:00|          35.1|         31.0|       96.0|       29.64|           9.0|            SW|            4.6|             NULL|    Mostly Cloudy|  false|false|   false|   false|   false|  false|  false|     false|  false|false|          false|         false|       false|         Night|           Day|              Day|                  Day|\n",
      "|A-5|Source2|       2|2016-02-08 07:39:07|2016-02-08 08:09:07|        39.627781|        -84.188354|   NULL|   NULL|        0.01|Accident on McEwe...|Miamisburg Center...|      Dayton|Montgomery|   OH|     45459|     US|US/Eastern|        KMGY|2016-02-08 07:53:00|          36.0|         33.3|       89.0|       29.65|           6.0|            SW|            3.5|             NULL|    Mostly Cloudy|  false|false|   false|   false|   false|  false|  false|     false|  false|false|          false|          true|       false|           Day|           Day|              Day|                  Day|\n",
      "+---+-------+--------+-------------------+-------------------+-----------------+------------------+-------+-------+------------+--------------------+--------------------+------------+----------+-----+----------+-------+----------+------------+-------------------+--------------+-------------+-----------+------------+--------------+--------------+---------------+-----------------+-----------------+-------+-----+--------+--------+--------+-------+-------+----------+-------+-----+---------------+--------------+------------+--------------+--------------+-----------------+---------------------+\n",
      "only showing top 5 rows\n",
      "\n"
     ]
    }
   ],
   "execution_count": 4
  },
  {
   "metadata": {},
   "cell_type": "markdown",
   "source": "### Sub-muestreo del conjunto de datos",
   "id": "2c6c9672d0adf48a"
  },
  {
   "metadata": {},
   "cell_type": "markdown",
   "source": [
    "A continuación aplicamos nuestro muestreo del conjunto de datos, tal como se describió en la actividad anterior.\n",
    "\n",
    "El primer paso consiste en crear las columnas Weather_Condition, Hora_Periodo y Tipo_Día. "
   ],
   "id": "15c00f4c26cd8979"
  },
  {
   "metadata": {
    "ExecuteTime": {
     "end_time": "2025-05-26T04:00:35.109628Z",
     "start_time": "2025-05-26T04:00:35.008987Z"
    }
   },
   "cell_type": "code",
   "source": [
    "df = df.withColumn(\"Weather_Type\",\n",
    "    when(col(\"Weather_Condition\").isNull(), \"Desconocido\")\n",
    "    .when(col(\"Weather_Condition\").rlike(\"(?i)null|N/A\"), \"Desconocido\")\n",
    "    .when(col(\"Weather_Condition\").rlike(\"(?i)Rain|Drizzle|Thunder|Storm|Snow|Sleet|Hail|Ice|Fog|Haze|Mist|Dust|Sand|Smoke|Wintry|Squall|Tornado|Ash|Funnel\"), \"Adverso\")\n",
    "    .otherwise(\"Favorable\")\n",
    ")\n",
    "\n",
    "df = df.withColumn(\n",
    "    \"Hora_Periodo\",\n",
    "    when(hour(\"Start_Time\") < 6, \"Madrugada\")\n",
    "    .when(hour(\"Start_Time\") < 18, \"Alta actividad\")\n",
    "    .otherwise(\"Tarde-Noche\")\n",
    ")\n",
    "\n",
    "df = df.withColumn(\"Dia_Semana\", date_format(\"Start_Time\", \"E\"))\n",
    "df = df.withColumn(\n",
    "    \"Tipo_Día\",\n",
    "    when(col(\"Dia_Semana\").isin(\"Sat\", \"Sun\"), \"Fin de semana\").otherwise(\"Laboral\")\n",
    ")"
   ],
   "id": "25b471117dac9b97",
   "outputs": [],
   "execution_count": 5
  },
  {
   "metadata": {},
   "cell_type": "markdown",
   "source": "Posteriormente, filtramos cualquier registro en el cual las columnas clave (Severity, Hora_Periodo, Tipo_Día y Weather_Type) son nulas.",
   "id": "adc893d9093466f8"
  },
  {
   "metadata": {
    "ExecuteTime": {
     "end_time": "2025-05-26T04:00:36.379067Z",
     "start_time": "2025-05-26T04:00:36.363654Z"
    }
   },
   "cell_type": "code",
   "source": [
    "df_filtrado = df.filter(\n",
    "    (col(\"Severity\").isNotNull()) &\n",
    "    (col(\"Hora_Periodo\").isNotNull()) &\n",
    "    (col(\"Tipo_Día\").isNotNull()) &\n",
    "    (col(\"Weather_Type\").isNotNull())\n",
    ")"
   ],
   "id": "89c56a72d6519948",
   "outputs": [],
   "execution_count": 6
  },
  {
   "metadata": {},
   "cell_type": "markdown",
   "source": "Ahora obtenemos los estratos a partir de las diferentes combinaciones de estas variables, al igual que la probabilidad para cada estrato.",
   "id": "31c3ea2c24674a2"
  },
  {
   "metadata": {
    "ExecuteTime": {
     "end_time": "2025-05-26T04:00:39.998788Z",
     "start_time": "2025-05-26T04:00:36.726516Z"
    }
   },
   "cell_type": "code",
   "source": [
    "total_registros = df_filtrado.count()\n",
    "\n",
    "estratos = df_filtrado.groupBy(\"Severity\", \"Hora_Periodo\", \"Tipo_Día\", \"Weather_Type\") \\\n",
    "    .agg(count(\"*\").alias(\"frecuencia\")) \\\n",
    "    .withColumn(\"probabilidad\", round(col(\"frecuencia\") / total_registros, 6)) \\\n",
    "    .orderBy(col(\"probabilidad\").desc())"
   ],
   "id": "63226ed1513c5c58",
   "outputs": [],
   "execution_count": 7
  },
  {
   "metadata": {},
   "cell_type": "markdown",
   "source": "Para cada estrato, calculamos el número de elementos a incluir a partir del tamaño de la muestra deseado y la probabilidad para cada estrato. En este caso, buscamos una sub-muestra de 10,000 elementos.",
   "id": "966a61c18b6811a3"
  },
  {
   "metadata": {
    "ExecuteTime": {
     "end_time": "2025-05-26T04:00:46.753073Z",
     "start_time": "2025-05-26T04:00:46.730023Z"
    }
   },
   "cell_type": "code",
   "source": [
    "# Tamaño total de muestra deseado\n",
    "n_muestra = 10000\n",
    "\n",
    "estratos = estratos.withColumn(\n",
    "    \"n_estrato\",\n",
    "    round(col(\"probabilidad\") * n_muestra).cast(\"integer\")\n",
    ")"
   ],
   "id": "65a11235caea4c32",
   "outputs": [],
   "execution_count": 8
  },
  {
   "metadata": {},
   "cell_type": "markdown",
   "source": "Unimos los dataframes con la información de los estratos con nuestro dataset.",
   "id": "ada93795339eb0cf"
  },
  {
   "metadata": {
    "ExecuteTime": {
     "end_time": "2025-05-26T04:00:52.931882Z",
     "start_time": "2025-05-26T04:00:52.861514Z"
    }
   },
   "cell_type": "code",
   "source": [
    "# En df_filtrado (base depurada sin nulos en variables clave)\n",
    "df_filtrado = df_filtrado.withColumn(\n",
    "    \"estrato_id\",\n",
    "    concat_ws(\"_\", \"Severity\", \"Hora_Periodo\", \"Tipo_Día\", \"Weather_Type\")\n",
    ")\n",
    "\n",
    "# Igual en la tabla de estratos con probabilidades y n_estrato\n",
    "estratos = estratos.withColumn(\n",
    "    \"estrato_id\",\n",
    "    concat_ws(\"_\", \"Severity\", \"Hora_Periodo\", \"Tipo_Día\", \"Weather_Type\")\n",
    ")\n",
    "\n",
    "df_muestreo = df_filtrado.join(\n",
    "    estratos.select(\"estrato_id\", \"n_estrato\"),\n",
    "    on=\"estrato_id\",\n",
    "    how=\"inner\"\n",
    ")"
   ],
   "id": "7d702c4e789b6bf7",
   "outputs": [],
   "execution_count": 9
  },
  {
   "metadata": {},
   "cell_type": "markdown",
   "source": "Ordenamos de forma aleatoria los elementos dentro de cada estrato.",
   "id": "f131594b21a9e1bb"
  },
  {
   "metadata": {
    "ExecuteTime": {
     "end_time": "2025-05-26T04:01:24.300634Z",
     "start_time": "2025-05-26T04:01:24.260439Z"
    }
   },
   "cell_type": "code",
   "source": [
    "# Asignar un número aleatorio y calcular el orden por estrato\n",
    "df_muestreo = df_muestreo.withColumn(\"rand\", rand(seed=42))\n",
    "\n",
    "window = Window.partitionBy(\"estrato_id\").orderBy(\"rand\")\n",
    "\n",
    "df_muestreo = df_muestreo.withColumn(\"row_num\", row_number().over(window))"
   ],
   "id": "d2bfb0724eecb860",
   "outputs": [],
   "execution_count": 10
  },
  {
   "metadata": {},
   "cell_type": "markdown",
   "source": "Finalmente, creamos nuestro data frame con la muestra a utilizar, incluyendo sólamente el número de elementos correspondiente a cada estrato.",
   "id": "bfb583fa67fa281c"
  },
  {
   "metadata": {
    "ExecuteTime": {
     "end_time": "2025-05-26T04:03:46.788838Z",
     "start_time": "2025-05-26T04:01:57.194064Z"
    }
   },
   "cell_type": "code",
   "source": [
    "df_muestra_final = df_muestreo.filter(col(\"row_num\") <= col(\"n_estrato\"))\n",
    "df_muestra_final.summary()"
   ],
   "id": "e3d9d5fad83cd8b3",
   "outputs": [
    {
     "data": {
      "text/plain": [
       "+-------+--------------------+---------+-------+-------------------+------------------+------------------+-----------------+------------------+------------------+--------------------+--------+---------+---------+-----+------------------+-------+----------+------------+-----------------+------------------+-----------------+------------------+------------------+--------------+-----------------+--------------------+-----------------+--------------+--------------+-----------------+---------------------+------------+--------------+----------+-------------+------------------+--------------------+------------------+\n",
       "|summary|          estrato_id|       ID| Source|           Severity|         Start_Lat|         Start_Lng|          End_Lat|           End_Lng|      Distance(mi)|         Description|  Street|     City|   County|State|           Zipcode|Country|  Timezone|Airport_Code|   Temperature(F)|     Wind_Chill(F)|      Humidity(%)|      Pressure(in)|    Visibility(mi)|Wind_Direction|  Wind_Speed(mph)|   Precipitation(in)|Weather_Condition|Sunrise_Sunset|Civil_Twilight|Nautical_Twilight|Astronomical_Twilight|Weather_Type|  Hora_Periodo|Dia_Semana|     Tipo_Día|         n_estrato|                rand|           row_num|\n",
       "+-------+--------------------+---------+-------+-------------------+------------------+------------------+-----------------+------------------+------------------+--------------------+--------+---------+---------+-----+------------------+-------+----------+------------+-----------------+------------------+-----------------+------------------+------------------+--------------+-----------------+--------------------+-----------------+--------------+--------------+-----------------+---------------------+------------+--------------+----------+-------------+------------------+--------------------+------------------+\n",
       "|  count|               10003|    10003|  10003|              10003|             10003|             10003|             5595|              5595|             10003|               10003|    9992|    10003|    10003|10003|             10001|  10003|      9999|        9976|             9790|              7470|             9776|              9823|              9774|          9771|             9323|                7202|             9774|          9978|          9978|             9978|                 9978|       10003|         10003|     10003|        10003|             10003|               10003|             10003|\n",
       "|   mean|                NULL|     NULL|   NULL|  2.212636209137259| 36.24469909840036|-94.61993688756752|36.34681220541541| -95.7346700438495|0.5559247225484412|                NULL|    NULL|     NULL|     NULL| NULL| 56379.03567874911|   NULL|      NULL|        NULL|61.71598569969356|58.311485943775125|64.96389116202946| 29.53263870507992| 9.099752404338043|          NULL|7.593403410919228|0.007060538739239098|             NULL|          NULL|          NULL|             NULL|                 NULL|        NULL|          NULL|      NULL|         NULL| 2107.662801159652|6.466151770978525E-4| 1054.331400579826|\n",
       "| stddev|                NULL|     NULL|   NULL|0.48787772380159755| 5.070605427026113| 17.38554958180918|5.263693355873905|18.136207202853882| 1.597624680398425|                NULL|    NULL|     NULL|     NULL| NULL|31097.037297564257|   NULL|      NULL|        NULL| 18.9999059851054| 22.32139247726831|22.82312340594708|1.0044580229406097|2.5724033627643097|          NULL|5.192230141415713|0.041519987983880714|             NULL|          NULL|          NULL|             NULL|                 NULL|        NULL|          NULL|      NULL|         NULL|1861.2403085753288|3.789342770944724E-4|1234.8936379224372|\n",
       "|    min|1_Alta actividad_...|A-1000027|Source1|                  1|24.954442999999998|       -124.486977|        25.451418|       -124.486179|               0.0|#1 #2 #3 lane blo...|  1/2 Rd|Abbeville|Abbeville|   AL|        01373-9764|     US|US/Central|        K04W|            -15.0|             -31.0|              2.0|             19.82|               0.0|          CALM|              0.0|                 0.0|     Blowing Snow|           Day|           Day|              Day|                  Day|     Adverso|Alta actividad|       Fri|Fin de semana|                 1| 3.88564060815888E-7|                 1|\n",
       "|    25%|                NULL|     NULL|   NULL|                  2|         33.427165|       -117.217077|        33.547271|       -117.809275|               0.0|                NULL|    NULL|     NULL|     NULL| NULL|           29334.0|   NULL|      NULL|        NULL|             49.0|              43.0|             49.0|             29.36|              10.0|          NULL|              4.6|                 0.0|             NULL|          NULL|          NULL|             NULL|                 NULL|        NULL|          NULL|      NULL|         NULL|               501|3.258897606087663E-4|               119|\n",
       "|    50%|                NULL|     NULL|   NULL|                  2| 35.87199000000001|        -87.630844|         36.54587|         -87.92061|             0.034|                NULL|    NULL|     NULL|     NULL| NULL|           55413.0|   NULL|      NULL|        NULL|             64.0|              62.0|             67.0|             29.85|              10.0|          NULL|              7.0|                 0.0|             NULL|          NULL|          NULL|             NULL|                 NULL|        NULL|          NULL|      NULL|         NULL|               995|6.423893092273314E-4|               473|\n",
       "|    75%|                NULL|     NULL|   NULL|                  2|40.106846000000004|        -80.315125|      40.25729854|          -80.2061|             0.489|                NULL|    NULL|     NULL|     NULL| NULL|           90650.0|   NULL|      NULL|        NULL|             76.0|              75.0|             84.0|             30.03|              10.0|          NULL|             10.0|                 0.0|             NULL|          NULL|          NULL|             NULL|                 NULL|        NULL|          NULL|      NULL|         NULL|              4251| 9.60305785783433E-4|              1751|\n",
       "|    max|4_Tarde-Noche_Lab...|  A-99962|Source3|                  4|         48.930842|        -69.907569|         48.93099|        -69.884072| 37.27999877929688|sb 29 jso 11th. 7...|Zorn Ave| Zumbrota|     Yuma|   WY|             99338|     US|US/Pacific|        KZZV|            113.0|             111.0|            100.0|             30.87|              60.0|          West|             33.0|                0.99|       Wintry Mix|         Night|         Night|            Night|                Night|   Favorable|   Tarde-Noche|       Wed|      Laboral|              4251|0.005325347834556515|              4251|\n",
       "+-------+--------------------+---------+-------+-------------------+------------------+------------------+-----------------+------------------+------------------+--------------------+--------+---------+---------+-----+------------------+-------+----------+------------+-----------------+------------------+-----------------+------------------+------------------+--------------+-----------------+--------------------+-----------------+--------------+--------------+-----------------+---------------------+------------+--------------+----------+-------------+------------------+--------------------+------------------+"
      ],
      "text/html": [
       "<table border='1'>\n",
       "<tr><th>summary</th><th>estrato_id</th><th>ID</th><th>Source</th><th>Severity</th><th>Start_Lat</th><th>Start_Lng</th><th>End_Lat</th><th>End_Lng</th><th>Distance(mi)</th><th>Description</th><th>Street</th><th>City</th><th>County</th><th>State</th><th>Zipcode</th><th>Country</th><th>Timezone</th><th>Airport_Code</th><th>Temperature(F)</th><th>Wind_Chill(F)</th><th>Humidity(%)</th><th>Pressure(in)</th><th>Visibility(mi)</th><th>Wind_Direction</th><th>Wind_Speed(mph)</th><th>Precipitation(in)</th><th>Weather_Condition</th><th>Sunrise_Sunset</th><th>Civil_Twilight</th><th>Nautical_Twilight</th><th>Astronomical_Twilight</th><th>Weather_Type</th><th>Hora_Periodo</th><th>Dia_Semana</th><th>Tipo_D&iacute;a</th><th>n_estrato</th><th>rand</th><th>row_num</th></tr>\n",
       "<tr><td>count</td><td>10003</td><td>10003</td><td>10003</td><td>10003</td><td>10003</td><td>10003</td><td>5595</td><td>5595</td><td>10003</td><td>10003</td><td>9992</td><td>10003</td><td>10003</td><td>10003</td><td>10001</td><td>10003</td><td>9999</td><td>9976</td><td>9790</td><td>7470</td><td>9776</td><td>9823</td><td>9774</td><td>9771</td><td>9323</td><td>7202</td><td>9774</td><td>9978</td><td>9978</td><td>9978</td><td>9978</td><td>10003</td><td>10003</td><td>10003</td><td>10003</td><td>10003</td><td>10003</td><td>10003</td></tr>\n",
       "<tr><td>mean</td><td>NULL</td><td>NULL</td><td>NULL</td><td>2.212636209137259</td><td>36.24469909840036</td><td>-94.61993688756752</td><td>36.34681220541541</td><td>-95.7346700438495</td><td>0.5559247225484412</td><td>NULL</td><td>NULL</td><td>NULL</td><td>NULL</td><td>NULL</td><td>56379.03567874911</td><td>NULL</td><td>NULL</td><td>NULL</td><td>61.71598569969356</td><td>58.311485943775125</td><td>64.96389116202946</td><td>29.53263870507992</td><td>9.099752404338043</td><td>NULL</td><td>7.593403410919228</td><td>0.007060538739239098</td><td>NULL</td><td>NULL</td><td>NULL</td><td>NULL</td><td>NULL</td><td>NULL</td><td>NULL</td><td>NULL</td><td>NULL</td><td>2107.662801159652</td><td>6.466151770978525E-4</td><td>1054.331400579826</td></tr>\n",
       "<tr><td>stddev</td><td>NULL</td><td>NULL</td><td>NULL</td><td>0.48787772380159755</td><td>5.070605427026113</td><td>17.38554958180918</td><td>5.263693355873905</td><td>18.136207202853882</td><td>1.597624680398425</td><td>NULL</td><td>NULL</td><td>NULL</td><td>NULL</td><td>NULL</td><td>31097.037297564257</td><td>NULL</td><td>NULL</td><td>NULL</td><td>18.9999059851054</td><td>22.32139247726831</td><td>22.82312340594708</td><td>1.0044580229406097</td><td>2.5724033627643097</td><td>NULL</td><td>5.192230141415713</td><td>0.041519987983880714</td><td>NULL</td><td>NULL</td><td>NULL</td><td>NULL</td><td>NULL</td><td>NULL</td><td>NULL</td><td>NULL</td><td>NULL</td><td>1861.2403085753288</td><td>3.789342770944724E-4</td><td>1234.8936379224372</td></tr>\n",
       "<tr><td>min</td><td>1_Alta actividad_...</td><td>A-1000027</td><td>Source1</td><td>1</td><td>24.954442999999998</td><td>-124.486977</td><td>25.451418</td><td>-124.486179</td><td>0.0</td><td>#1 #2 #3 lane blo...</td><td> 1/2 Rd</td><td>Abbeville</td><td>Abbeville</td><td>AL</td><td>01373-9764</td><td>US</td><td>US/Central</td><td>K04W</td><td>-15.0</td><td>-31.0</td><td>2.0</td><td>19.82</td><td>0.0</td><td>CALM</td><td>0.0</td><td>0.0</td><td>Blowing Snow</td><td>Day</td><td>Day</td><td>Day</td><td>Day</td><td>Adverso</td><td>Alta actividad</td><td>Fri</td><td>Fin de semana</td><td>1</td><td>3.88564060815888E-7</td><td>1</td></tr>\n",
       "<tr><td>25%</td><td>NULL</td><td>NULL</td><td>NULL</td><td>2</td><td>33.427165</td><td>-117.217077</td><td>33.547271</td><td>-117.809275</td><td>0.0</td><td>NULL</td><td>NULL</td><td>NULL</td><td>NULL</td><td>NULL</td><td>29334.0</td><td>NULL</td><td>NULL</td><td>NULL</td><td>49.0</td><td>43.0</td><td>49.0</td><td>29.36</td><td>10.0</td><td>NULL</td><td>4.6</td><td>0.0</td><td>NULL</td><td>NULL</td><td>NULL</td><td>NULL</td><td>NULL</td><td>NULL</td><td>NULL</td><td>NULL</td><td>NULL</td><td>501</td><td>3.258897606087663E-4</td><td>119</td></tr>\n",
       "<tr><td>50%</td><td>NULL</td><td>NULL</td><td>NULL</td><td>2</td><td>35.87199000000001</td><td>-87.630844</td><td>36.54587</td><td>-87.92061</td><td>0.034</td><td>NULL</td><td>NULL</td><td>NULL</td><td>NULL</td><td>NULL</td><td>55413.0</td><td>NULL</td><td>NULL</td><td>NULL</td><td>64.0</td><td>62.0</td><td>67.0</td><td>29.85</td><td>10.0</td><td>NULL</td><td>7.0</td><td>0.0</td><td>NULL</td><td>NULL</td><td>NULL</td><td>NULL</td><td>NULL</td><td>NULL</td><td>NULL</td><td>NULL</td><td>NULL</td><td>995</td><td>6.423893092273314E-4</td><td>473</td></tr>\n",
       "<tr><td>75%</td><td>NULL</td><td>NULL</td><td>NULL</td><td>2</td><td>40.106846000000004</td><td>-80.315125</td><td>40.25729854</td><td>-80.2061</td><td>0.489</td><td>NULL</td><td>NULL</td><td>NULL</td><td>NULL</td><td>NULL</td><td>90650.0</td><td>NULL</td><td>NULL</td><td>NULL</td><td>76.0</td><td>75.0</td><td>84.0</td><td>30.03</td><td>10.0</td><td>NULL</td><td>10.0</td><td>0.0</td><td>NULL</td><td>NULL</td><td>NULL</td><td>NULL</td><td>NULL</td><td>NULL</td><td>NULL</td><td>NULL</td><td>NULL</td><td>4251</td><td>9.60305785783433E-4</td><td>1751</td></tr>\n",
       "<tr><td>max</td><td>4_Tarde-Noche_Lab...</td><td>A-99962</td><td>Source3</td><td>4</td><td>48.930842</td><td>-69.907569</td><td>48.93099</td><td>-69.884072</td><td>37.27999877929688</td><td>sb 29 jso 11th. 7...</td><td>Zorn Ave</td><td>Zumbrota</td><td>Yuma</td><td>WY</td><td>99338</td><td>US</td><td>US/Pacific</td><td>KZZV</td><td>113.0</td><td>111.0</td><td>100.0</td><td>30.87</td><td>60.0</td><td>West</td><td>33.0</td><td>0.99</td><td>Wintry Mix</td><td>Night</td><td>Night</td><td>Night</td><td>Night</td><td>Favorable</td><td>Tarde-Noche</td><td>Wed</td><td>Laboral</td><td>4251</td><td>0.005325347834556515</td><td>4251</td></tr>\n",
       "</table>\n"
      ]
     },
     "execution_count": 11,
     "metadata": {},
     "output_type": "execute_result"
    }
   ],
   "execution_count": 11
  },
  {
   "metadata": {},
   "cell_type": "markdown",
   "source": "## Preparación de los datos",
   "id": "8e537900d2c54b3d"
  },
  {
   "metadata": {},
   "cell_type": "markdown",
   "source": "El primer paso es remover las columnas que no son relevantes para nuestros algoritmos de ML. Esto incluye las columnas generadas durante el proceso de sub-muestreo. Por ahora solo nos interesa identificar estas columnas, el proceso de removerlas se realizará posteriormente.",
   "id": "c8fc8916dd7207c2"
  },
  {
   "metadata": {
    "ExecuteTime": {
     "end_time": "2025-05-26T04:04:45.265691Z",
     "start_time": "2025-05-26T04:04:45.262088Z"
    }
   },
   "cell_type": "code",
   "source": [
    "# Comenzamos con la limpieza de las columnas agregadas para el sub muestreo\n",
    "cols_to_drop = ['ID', 'estrato_id', 'n_estrato', 'rand', 'row_num', 'rand', 'Source']\n"
   ],
   "id": "1ba3b6172acc4338",
   "outputs": [],
   "execution_count": 12
  },
  {
   "metadata": {},
   "cell_type": "markdown",
   "source": "Ahora eliminamos columnas que no son relevantes para este ejercicio. Esto incluye columnas con información geográfica, ya que para este ejercicio se busca generalizar los hallazgos fuera de Estados Unidos. También eliminamos columnas referentes a la zona horaria y a la hora en que se monitoreó el estado del clima. Aprovechamos también para eliminar columnas redundantes; por ejemplo, las diferentes columnas indicando si es de noche o de día son mayormente redundantes a menos que se busque hacer un análisis muy específico en ese periodo de tiempo. Otro ejemplo es la temperatura del viento, la cual es mayormente redundante en nuestro análisis ya que tenemos la temperatura ambiental registrada.",
   "id": "701e3923a10383de"
  },
  {
   "metadata": {
    "ExecuteTime": {
     "end_time": "2025-05-26T04:05:52.012343Z",
     "start_time": "2025-05-26T04:05:52.008730Z"
    }
   },
   "cell_type": "code",
   "source": [
    "# Ahora las columnas irrelevantes o redundantes.\n",
    "cols_to_drop += ['Start_Lng', 'End_Lng', 'Start_Lat', 'End_Lat', 'Street', 'City', 'County', 'State', 'Zipcode', 'Country', 'Timezone', 'Airport_Code', 'Weather_Timestamp', 'Civil_Twilight', 'Nautical_Twilight', 'Astronomical_Twilight', 'Wind_Chill(F)', 'Description', 'Wind_Direction', 'Sunrise_Sunset']\n"
   ],
   "id": "fbef585c27e0989f",
   "outputs": [],
   "execution_count": 13
  },
  {
   "metadata": {},
   "cell_type": "markdown",
   "source": "Ahora manejamos las columnas con valores faltantes. El primer paso es remover cualquier columna donde más del 5% de elementos sea nulo.",
   "id": "cd4089ed6f2ee61c"
  },
  {
   "metadata": {
    "ExecuteTime": {
     "end_time": "2025-05-26T04:17:07.797521Z",
     "start_time": "2025-05-26T04:06:50.054040Z"
    }
   },
   "cell_type": "code",
   "source": [
    "# Ignoramos las columnas que ya identificamos como columnas a remover\n",
    "cols = [c for c in df_muestra_final.columns if c not in cols_to_drop]\n",
    "total = df_muestra_final.count()\n",
    "\n",
    "for c in cols:\n",
    "    n_missing = df_muestra_final.filter(col(c).isNull()).count()\n",
    "    if n_missing > (total*0.05):\n",
    "        print(f'Dropping column {c}')\n",
    "        cols_to_drop.append(c)\n"
   ],
   "id": "139dba5bf97f7fcd",
   "outputs": [
    {
     "name": "stdout",
     "output_type": "stream",
     "text": [
      "Dropping column Wind_Speed(mph)\n",
      "Dropping column Precipitation(in)\n"
     ]
    }
   ],
   "execution_count": 14
  },
  {
   "metadata": {},
   "cell_type": "markdown",
   "source": "Para el resto del dataset, eliminamos cualquier fila que contenga valores nulos",
   "id": "9e9c6e78361e4357"
  },
  {
   "metadata": {
    "ExecuteTime": {
     "end_time": "2025-05-26T04:41:03.531746Z",
     "start_time": "2025-05-26T04:41:03.512319Z"
    }
   },
   "cell_type": "code",
   "source": [
    "cols = [c for c in df_muestra_final.columns if c not in cols_to_drop]\n",
    "df_processed = df_muestra_final.dropna(subset=cols)"
   ],
   "id": "e85dbb02694a3abb",
   "outputs": [],
   "execution_count": 29
  },
  {
   "metadata": {},
   "cell_type": "markdown",
   "source": "Mostramos las columnas a utilizar en nuestro análisis",
   "id": "9cec839d01d2c528"
  },
  {
   "metadata": {
    "ExecuteTime": {
     "end_time": "2025-05-26T04:42:21.799111Z",
     "start_time": "2025-05-26T04:42:21.794487Z"
    }
   },
   "cell_type": "code",
   "source": "print(cols)",
   "id": "5d5a8974a0bfdb6e",
   "outputs": [
    {
     "name": "stdout",
     "output_type": "stream",
     "text": [
      "['Severity', 'Start_Time', 'End_Time', 'Distance(mi)', 'Temperature(F)', 'Humidity(%)', 'Pressure(in)', 'Visibility(mi)', 'Weather_Condition', 'Amenity', 'Bump', 'Crossing', 'Give_Way', 'Junction', 'No_Exit', 'Railway', 'Roundabout', 'Station', 'Stop', 'Traffic_Calming', 'Traffic_Signal', 'Turning_Loop', 'Weather_Type', 'Hora_Periodo', 'Dia_Semana', 'Tipo_Día']\n"
     ]
    }
   ],
   "execution_count": 30
  },
  {
   "metadata": {},
   "cell_type": "markdown",
   "source": "Ahora codificamos nuestras variables categóricas mediante el uso de StringIndexer y OneHotEncoder",
   "id": "4bcb34f013d755a9"
  },
  {
   "metadata": {
    "ExecuteTime": {
     "end_time": "2025-05-26T04:46:35.786262Z",
     "start_time": "2025-05-26T04:43:35.674962Z"
    }
   },
   "cell_type": "code",
   "source": [
    "categorical_columns = ['Weather_Condition', 'Weather_Type', 'Dia_Semana', 'Tipo_Día', 'Hora_Periodo']\n",
    "\n",
    "# Primero convertimos todas las columnas a índices\n",
    "for c in categorical_columns:\n",
    "    indexer = StringIndexer(inputCol=c, outputCol=f\"{c}_index\", handleInvalid='keep')\n",
    "    df_processed = indexer.fit(df_processed).transform(df_processed)\n",
    "\n",
    "df_processed.show(1)"
   ],
   "id": "be4b1ed77edf94b7",
   "outputs": [
    {
     "name": "stdout",
     "output_type": "stream",
     "text": [
      "+--------------------+---------+-------+--------+-------------------+-------------------+---------+----------+---------+----------+------------+--------------------+-----------+--------+--------------+-----+----------+-------+----------+------------+-------------------+--------------+-------------+-----------+------------+--------------+--------------+---------------+-----------------+-----------------+-------+-----+--------+--------+--------+-------+-------+----------+-------+-----+---------------+--------------+------------+--------------+--------------+-----------------+---------------------+------------+------------+----------+-------------+---------+--------------------+-------+-----------------------+------------------+----------------+--------------+------------------+\n",
      "|          estrato_id|       ID| Source|Severity|         Start_Time|           End_Time|Start_Lat| Start_Lng|  End_Lat|   End_Lng|Distance(mi)|         Description|     Street|    City|        County|State|   Zipcode|Country|  Timezone|Airport_Code|  Weather_Timestamp|Temperature(F)|Wind_Chill(F)|Humidity(%)|Pressure(in)|Visibility(mi)|Wind_Direction|Wind_Speed(mph)|Precipitation(in)|Weather_Condition|Amenity| Bump|Crossing|Give_Way|Junction|No_Exit|Railway|Roundabout|Station| Stop|Traffic_Calming|Traffic_Signal|Turning_Loop|Sunrise_Sunset|Civil_Twilight|Nautical_Twilight|Astronomical_Twilight|Weather_Type|Hora_Periodo|Dia_Semana|     Tipo_Día|n_estrato|                rand|row_num|Weather_Condition_index|Weather_Type_index|Dia_Semana_index|Tipo_Día_index|Hora_Periodo_index|\n",
      "+--------------------+---------+-------+--------+-------------------+-------------------+---------+----------+---------+----------+------------+--------------------+-----------+--------+--------------+-----+----------+-------+----------+------------+-------------------+--------------+-------------+-----------+------------+--------------+--------------+---------------+-----------------+-----------------+-------+-----+--------+--------+--------+-------+-------+----------+-------+-----+---------------+--------------+------------+--------------+--------------+-----------------+---------------------+------------+------------+----------+-------------+---------+--------------------+-------+-----------------------+------------------+----------------+--------------+------------------+\n",
      "|2_Madrugada_Fin d...|A-6574801|Source1|       2|2020-12-27 00:01:31|2020-12-27 02:10:28|38.790776|-77.515457|38.789805|-77.515058|        0.07|Incident on SUDLE...| Donegan Dr|Manassas|Prince William|   VA|20109-2874|     US|US/Eastern|        KHEF|2020-12-27 00:56:00|          20.0|         20.0|       89.0|       29.95|          10.0|          CALM|            0.0|              0.0|             Fair|  false|false|   false|   false|   false|  false|  false|     false|  false|false|          false|         false|       false|         Night|         Night|            Night|                Night|   Favorable|   Madrugada|       Sun|Fin de semana|      167|4.317232333517218E-6|      1|                    0.0|               0.0|             6.0|           1.0|               2.0|\n",
      "+--------------------+---------+-------+--------+-------------------+-------------------+---------+----------+---------+----------+------------+--------------------+-----------+--------+--------------+-----+----------+-------+----------+------------+-------------------+--------------+-------------+-----------+------------+--------------+--------------+---------------+-----------------+-----------------+-------+-----+--------+--------+--------+-------+-------+----------+-------+-----+---------------+--------------+------------+--------------+--------------+-----------------+---------------------+------------+------------+----------+-------------+---------+--------------------+-------+-----------------------+------------------+----------------+--------------+------------------+\n",
      "only showing top 1 row\n",
      "\n"
     ]
    }
   ],
   "execution_count": 31
  },
  {
   "metadata": {
    "ExecuteTime": {
     "end_time": "2025-05-26T04:48:25.319021Z",
     "start_time": "2025-05-26T04:47:48.706857Z"
    }
   },
   "cell_type": "code",
   "source": [
    "categorical_index_cols = [f\"{c}_index\" for c in categorical_columns]\n",
    "\n",
    "encoder = OneHotEncoder(inputCols=categorical_index_cols, outputCols=[f\"{c}_vector\" for c in categorical_columns], handleInvalid='keep')\n",
    "df_processed = encoder.fit(df_processed).transform(df_processed)\n",
    "\n",
    "df_processed.show(1)"
   ],
   "id": "fac818193f230a04",
   "outputs": [
    {
     "name": "stdout",
     "output_type": "stream",
     "text": [
      "+--------------------+---------+-------+--------+-------------------+-------------------+---------+----------+---------+----------+------------+--------------------+-----------+--------+--------------+-----+----------+-------+----------+------------+-------------------+--------------+-------------+-----------+------------+--------------+--------------+---------------+-----------------+-----------------+-------+-----+--------+--------+--------+-------+-------+----------+-------+-----+---------------+--------------+------------+--------------+--------------+-----------------+---------------------+------------+------------+----------+-------------+---------+--------------------+-------+-----------------------+------------------+----------------+--------------+------------------+------------------------+-------------------+-----------------+---------------+-------------------+\n",
      "|          estrato_id|       ID| Source|Severity|         Start_Time|           End_Time|Start_Lat| Start_Lng|  End_Lat|   End_Lng|Distance(mi)|         Description|     Street|    City|        County|State|   Zipcode|Country|  Timezone|Airport_Code|  Weather_Timestamp|Temperature(F)|Wind_Chill(F)|Humidity(%)|Pressure(in)|Visibility(mi)|Wind_Direction|Wind_Speed(mph)|Precipitation(in)|Weather_Condition|Amenity| Bump|Crossing|Give_Way|Junction|No_Exit|Railway|Roundabout|Station| Stop|Traffic_Calming|Traffic_Signal|Turning_Loop|Sunrise_Sunset|Civil_Twilight|Nautical_Twilight|Astronomical_Twilight|Weather_Type|Hora_Periodo|Dia_Semana|     Tipo_Día|n_estrato|                rand|row_num|Weather_Condition_index|Weather_Type_index|Dia_Semana_index|Tipo_Día_index|Hora_Periodo_index|Weather_Condition_vector|Weather_Type_vector|Dia_Semana_vector|Tipo_Día_vector|Hora_Periodo_vector|\n",
      "+--------------------+---------+-------+--------+-------------------+-------------------+---------+----------+---------+----------+------------+--------------------+-----------+--------+--------------+-----+----------+-------+----------+------------+-------------------+--------------+-------------+-----------+------------+--------------+--------------+---------------+-----------------+-----------------+-------+-----+--------+--------+--------+-------+-------+----------+-------+-----+---------------+--------------+------------+--------------+--------------+-----------------+---------------------+------------+------------+----------+-------------+---------+--------------------+-------+-----------------------+------------------+----------------+--------------+------------------+------------------------+-------------------+-----------------+---------------+-------------------+\n",
      "|2_Madrugada_Fin d...|A-6574801|Source1|       2|2020-12-27 00:01:31|2020-12-27 02:10:28|38.790776|-77.515457|38.789805|-77.515058|        0.07|Incident on SUDLE...| Donegan Dr|Manassas|Prince William|   VA|20109-2874|     US|US/Eastern|        KHEF|2020-12-27 00:56:00|          20.0|         20.0|       89.0|       29.95|          10.0|          CALM|            0.0|              0.0|             Fair|  false|false|   false|   false|   false|  false|  false|     false|  false|false|          false|         false|       false|         Night|         Night|            Night|                Night|   Favorable|   Madrugada|       Sun|Fin de semana|      167|4.317232333517218E-6|      1|                    0.0|               0.0|             6.0|           1.0|               2.0|          (56,[0],[1.0])|      (4,[0],[1.0])|    (8,[6],[1.0])|  (3,[1],[1.0])|      (4,[2],[1.0])|\n",
      "+--------------------+---------+-------+--------+-------------------+-------------------+---------+----------+---------+----------+------------+--------------------+-----------+--------+--------------+-----+----------+-------+----------+------------+-------------------+--------------+-------------+-----------+------------+--------------+--------------+---------------+-----------------+-----------------+-------+-----+--------+--------+--------+-------+-------+----------+-------+-----+---------------+--------------+------------+--------------+--------------+-----------------+---------------------+------------+------------+----------+-------------+---------+--------------------+-------+-----------------------+------------------+----------------+--------------+------------------+------------------------+-------------------+-----------------+---------------+-------------------+\n",
      "only showing top 1 row\n",
      "\n"
     ]
    }
   ],
   "execution_count": 32
  },
  {
   "metadata": {},
   "cell_type": "markdown",
   "source": "Ya contamos con la columna `Hora_Periodo` derivada de la hora del accidente, por lo que no nos es tan relevante la hora exacta de los accidentes. Sin embargo, podemos crear una nueva columna derivada con la diferencia entre el momento de inicio y final, expresando los minutos transcurridos hasta que el impacto del accidente terminó.",
   "id": "4e72575186c04db1"
  },
  {
   "metadata": {
    "ExecuteTime": {
     "end_time": "2025-05-26T04:49:43.214561Z",
     "start_time": "2025-05-26T04:49:43.189861Z"
    }
   },
   "cell_type": "code",
   "source": "df_processed = df_processed.withColumn('Minutes', (col('End_Time').cast('long') - col('Start_Time').cast('long')) / 60)",
   "id": "d245e70cf954bf38",
   "outputs": [],
   "execution_count": 33
  },
  {
   "metadata": {
    "ExecuteTime": {
     "end_time": "2025-05-26T04:51:12.296550Z",
     "start_time": "2025-05-26T04:50:51.679708Z"
    }
   },
   "cell_type": "code",
   "source": "df_processed.show(1)",
   "id": "bbf1e0f5e2a161f8",
   "outputs": [
    {
     "name": "stdout",
     "output_type": "stream",
     "text": [
      "+--------------------+---------+-------+--------+-------------------+-------------------+---------+----------+---------+----------+------------+--------------------+-----------+--------+--------------+-----+----------+-------+----------+------------+-------------------+--------------+-------------+-----------+------------+--------------+--------------+---------------+-----------------+-----------------+-------+-----+--------+--------+--------+-------+-------+----------+-------+-----+---------------+--------------+------------+--------------+--------------+-----------------+---------------------+------------+------------+----------+-------------+---------+--------------------+-------+-----------------------+------------------+----------------+--------------+------------------+------------------------+-------------------+-----------------+---------------+-------------------+-------+\n",
      "|          estrato_id|       ID| Source|Severity|         Start_Time|           End_Time|Start_Lat| Start_Lng|  End_Lat|   End_Lng|Distance(mi)|         Description|     Street|    City|        County|State|   Zipcode|Country|  Timezone|Airport_Code|  Weather_Timestamp|Temperature(F)|Wind_Chill(F)|Humidity(%)|Pressure(in)|Visibility(mi)|Wind_Direction|Wind_Speed(mph)|Precipitation(in)|Weather_Condition|Amenity| Bump|Crossing|Give_Way|Junction|No_Exit|Railway|Roundabout|Station| Stop|Traffic_Calming|Traffic_Signal|Turning_Loop|Sunrise_Sunset|Civil_Twilight|Nautical_Twilight|Astronomical_Twilight|Weather_Type|Hora_Periodo|Dia_Semana|     Tipo_Día|n_estrato|                rand|row_num|Weather_Condition_index|Weather_Type_index|Dia_Semana_index|Tipo_Día_index|Hora_Periodo_index|Weather_Condition_vector|Weather_Type_vector|Dia_Semana_vector|Tipo_Día_vector|Hora_Periodo_vector|Minutes|\n",
      "+--------------------+---------+-------+--------+-------------------+-------------------+---------+----------+---------+----------+------------+--------------------+-----------+--------+--------------+-----+----------+-------+----------+------------+-------------------+--------------+-------------+-----------+------------+--------------+--------------+---------------+-----------------+-----------------+-------+-----+--------+--------+--------+-------+-------+----------+-------+-----+---------------+--------------+------------+--------------+--------------+-----------------+---------------------+------------+------------+----------+-------------+---------+--------------------+-------+-----------------------+------------------+----------------+--------------+------------------+------------------------+-------------------+-----------------+---------------+-------------------+-------+\n",
      "|2_Madrugada_Fin d...|A-6574801|Source1|       2|2020-12-27 00:01:31|2020-12-27 02:10:28|38.790776|-77.515457|38.789805|-77.515058|        0.07|Incident on SUDLE...| Donegan Dr|Manassas|Prince William|   VA|20109-2874|     US|US/Eastern|        KHEF|2020-12-27 00:56:00|          20.0|         20.0|       89.0|       29.95|          10.0|          CALM|            0.0|              0.0|             Fair|  false|false|   false|   false|   false|  false|  false|     false|  false|false|          false|         false|       false|         Night|         Night|            Night|                Night|   Favorable|   Madrugada|       Sun|Fin de semana|      167|4.317232333517218E-6|      1|                    0.0|               0.0|             6.0|           1.0|               2.0|          (56,[0],[1.0])|      (4,[0],[1.0])|    (8,[6],[1.0])|  (3,[1],[1.0])|      (4,[2],[1.0])| 128.95|\n",
      "+--------------------+---------+-------+--------+-------------------+-------------------+---------+----------+---------+----------+------------+--------------------+-----------+--------+--------------+-----+----------+-------+----------+------------+-------------------+--------------+-------------+-----------+------------+--------------+--------------+---------------+-----------------+-----------------+-------+-----+--------+--------+--------+-------+-------+----------+-------+-----+---------------+--------------+------------+--------------+--------------+-----------------+---------------------+------------+------------+----------+-------------+---------+--------------------+-------+-----------------------+------------------+----------------+--------------+------------------+------------------------+-------------------+-----------------+---------------+-------------------+-------+\n",
      "only showing top 1 row\n",
      "\n"
     ]
    }
   ],
   "execution_count": 34
  },
  {
   "metadata": {},
   "cell_type": "markdown",
   "source": "Eliminamos las columnas del DataFrame y persistimos para que PySpark optimice las transformaciones posteriores. Al persistir el DataFrame, nos aseguramos de \"congelar\" su estado actual, de modo que cualquier operación posterior tenga un punto de partida definido.",
   "id": "7fb9518d4be8f6e7"
  },
  {
   "metadata": {
    "ExecuteTime": {
     "end_time": "2025-05-26T04:52:19.250720Z",
     "start_time": "2025-05-26T04:52:19.053019Z"
    }
   },
   "cell_type": "code",
   "source": [
    "for c in cols_to_drop:\n",
    "    df_processed = df_processed.drop(c)\n",
    "\n",
    "df_processed = df_processed.persist()"
   ],
   "id": "de9ca463321d7cd4",
   "outputs": [],
   "execution_count": 35
  },
  {
   "metadata": {
    "ExecuteTime": {
     "end_time": "2025-05-26T04:53:43.173936Z",
     "start_time": "2025-05-26T04:53:35.872593Z"
    }
   },
   "cell_type": "code",
   "source": "df_processed.summary()",
   "id": "a43202d0db1cfbc2",
   "outputs": [
    {
     "data": {
      "text/plain": [
       "+-------+-------------------+------------------+------------------+------------------+------------------+------------------+--------------------+------------+--------------+----------+-------------+-----------------------+-------------------+------------------+-------------------+------------------+------------------+\n",
       "|summary|           Severity|      Distance(mi)|    Temperature(F)|       Humidity(%)|      Pressure(in)|    Visibility(mi)|   Weather_Condition|Weather_Type|  Hora_Periodo|Dia_Semana|     Tipo_Día|Weather_Condition_index| Weather_Type_index|  Dia_Semana_index|     Tipo_Día_index|Hora_Periodo_index|           Minutes|\n",
       "+-------+-------------------+------------------+------------------+------------------+------------------+------------------+--------------------+------------+--------------+----------+-------------+-----------------------+-------------------+------------------+-------------------+------------------+------------------+\n",
       "|  count|               9697|              9697|              9697|              9697|              9697|              9697|                9697|        9697|          9697|      9697|         9697|                   9697|               9697|              9697|               9697|              9697|              9697|\n",
       "|   mean|  2.211096215324327|0.5347730223613786| 61.75370733216461| 65.04238424254925| 29.54614004331239| 9.098310817778696|                NULL|        NULL|          NULL|      NULL|         NULL|     3.1973806331855212|0.12962771991337527|2.5004640610498092|0.15839950500154687|0.3834175518201506| 613.1597882506622|\n",
       "| stddev|0.48565286933328833|1.5032278130919563|18.884921630164534|22.714901433201973|0.9657974153335979|2.6899979781482632|                NULL|        NULL|          NULL|      NULL|         NULL|      5.232705813908283| 0.3365242213790287| 1.823601002949512| 0.3651340174413009|0.6589737826330251|17714.830309716726|\n",
       "|    min|                  1|               0.0|             -15.0|               2.0|             20.02|               0.0|Blowing Dust / Windy|     Adverso|Alta actividad|       Fri|Fin de semana|                    0.0|                0.0|               0.0|                0.0|               0.0|               3.5|\n",
       "|    25%|                  2|               0.0|              49.0|              49.0|             29.36|              10.0|                NULL|        NULL|          NULL|      NULL|         NULL|                    0.0|                0.0|               1.0|                0.0|               0.0|              30.0|\n",
       "|    50%|                  2|             0.023|              64.0|              67.0|             29.86|              10.0|                NULL|        NULL|          NULL|      NULL|         NULL|                    2.0|                0.0|               2.0|                0.0|               0.0|              74.7|\n",
       "|    75%|                  2|             0.454|              76.0|              84.0|             30.03|              10.0|                NULL|        NULL|          NULL|      NULL|         NULL|                    4.0|                0.0|               4.0|                0.0|               1.0|125.88333333333334|\n",
       "|    max|                  4|            34.889|             114.1|             100.0|              31.0|              70.0|          Wintry Mix|   Favorable|   Tarde-Noche|       Wed|      Laboral|                   55.0|                2.0|               6.0|                1.0|               2.0|1051256.8166666667|\n",
       "+-------+-------------------+------------------+------------------+------------------+------------------+------------------+--------------------+------------+--------------+----------+-------------+-----------------------+-------------------+------------------+-------------------+------------------+------------------+"
      ],
      "text/html": [
       "<table border='1'>\n",
       "<tr><th>summary</th><th>Severity</th><th>Distance(mi)</th><th>Temperature(F)</th><th>Humidity(%)</th><th>Pressure(in)</th><th>Visibility(mi)</th><th>Weather_Condition</th><th>Weather_Type</th><th>Hora_Periodo</th><th>Dia_Semana</th><th>Tipo_D&iacute;a</th><th>Weather_Condition_index</th><th>Weather_Type_index</th><th>Dia_Semana_index</th><th>Tipo_D&iacute;a_index</th><th>Hora_Periodo_index</th><th>Minutes</th></tr>\n",
       "<tr><td>count</td><td>9697</td><td>9697</td><td>9697</td><td>9697</td><td>9697</td><td>9697</td><td>9697</td><td>9697</td><td>9697</td><td>9697</td><td>9697</td><td>9697</td><td>9697</td><td>9697</td><td>9697</td><td>9697</td><td>9697</td></tr>\n",
       "<tr><td>mean</td><td>2.211096215324327</td><td>0.5347730223613786</td><td>61.75370733216461</td><td>65.04238424254925</td><td>29.54614004331239</td><td>9.098310817778696</td><td>NULL</td><td>NULL</td><td>NULL</td><td>NULL</td><td>NULL</td><td>3.1973806331855212</td><td>0.12962771991337527</td><td>2.5004640610498092</td><td>0.15839950500154687</td><td>0.3834175518201506</td><td>613.1597882506622</td></tr>\n",
       "<tr><td>stddev</td><td>0.48565286933328833</td><td>1.5032278130919563</td><td>18.884921630164534</td><td>22.714901433201973</td><td>0.9657974153335979</td><td>2.6899979781482632</td><td>NULL</td><td>NULL</td><td>NULL</td><td>NULL</td><td>NULL</td><td>5.232705813908283</td><td>0.3365242213790287</td><td>1.823601002949512</td><td>0.3651340174413009</td><td>0.6589737826330251</td><td>17714.830309716726</td></tr>\n",
       "<tr><td>min</td><td>1</td><td>0.0</td><td>-15.0</td><td>2.0</td><td>20.02</td><td>0.0</td><td>Blowing Dust / Windy</td><td>Adverso</td><td>Alta actividad</td><td>Fri</td><td>Fin de semana</td><td>0.0</td><td>0.0</td><td>0.0</td><td>0.0</td><td>0.0</td><td>3.5</td></tr>\n",
       "<tr><td>25%</td><td>2</td><td>0.0</td><td>49.0</td><td>49.0</td><td>29.36</td><td>10.0</td><td>NULL</td><td>NULL</td><td>NULL</td><td>NULL</td><td>NULL</td><td>0.0</td><td>0.0</td><td>1.0</td><td>0.0</td><td>0.0</td><td>30.0</td></tr>\n",
       "<tr><td>50%</td><td>2</td><td>0.023</td><td>64.0</td><td>67.0</td><td>29.86</td><td>10.0</td><td>NULL</td><td>NULL</td><td>NULL</td><td>NULL</td><td>NULL</td><td>2.0</td><td>0.0</td><td>2.0</td><td>0.0</td><td>0.0</td><td>74.7</td></tr>\n",
       "<tr><td>75%</td><td>2</td><td>0.454</td><td>76.0</td><td>84.0</td><td>30.03</td><td>10.0</td><td>NULL</td><td>NULL</td><td>NULL</td><td>NULL</td><td>NULL</td><td>4.0</td><td>0.0</td><td>4.0</td><td>0.0</td><td>1.0</td><td>125.88333333333334</td></tr>\n",
       "<tr><td>max</td><td>4</td><td>34.889</td><td>114.1</td><td>100.0</td><td>31.0</td><td>70.0</td><td>Wintry Mix</td><td>Favorable</td><td>Tarde-Noche</td><td>Wed</td><td>Laboral</td><td>55.0</td><td>2.0</td><td>6.0</td><td>1.0</td><td>2.0</td><td>1051256.8166666667</td></tr>\n",
       "</table>\n"
      ]
     },
     "execution_count": 36,
     "metadata": {},
     "output_type": "execute_result"
    }
   ],
   "execution_count": 36
  },
  {
   "metadata": {},
   "cell_type": "markdown",
   "source": "## Preparación del conjunto de entrenamiento y prueba",
   "id": "cb6b87cc9499a83d"
  },
  {
   "metadata": {},
   "cell_type": "markdown",
   "source": "El primer paso consiste en separar nuestro conjunto de datos en entrenamiento y prueba. Para esto, se utiliza una partición 80/20, que es típica en el dominio del aprendizaje automático.",
   "id": "b056449170241ae"
  },
  {
   "metadata": {
    "ExecuteTime": {
     "end_time": "2025-05-26T05:26:39.289326Z",
     "start_time": "2025-05-26T05:26:37.082046Z"
    }
   },
   "cell_type": "code",
   "source": [
    "train_data,test_data = df_processed.randomSplit([0.8,0.2], seed = 42)\n",
    "print(f\"\"\"Existen {train_data.count()} instancias en el conjunto train, y {test_data.count()} en el conjunto test\"\"\")"
   ],
   "id": "813a7705ee47326e",
   "outputs": [
    {
     "name": "stdout",
     "output_type": "stream",
     "text": [
      "Existen 7799 instancias en el conjunto train, y 1898 en el conjunto test\n"
     ]
    }
   ],
   "execution_count": 49
  },
  {
   "metadata": {},
   "cell_type": "markdown",
   "source": "Ahora procedemos a transformar y preparar nuestro conjunto de datos para entrenamiento. El primer paso es aplicar escalamiento a nuestras variables numéricas. Para este caso, sólo nos enfocaremos en la visibilidad y distancia.",
   "id": "4283fa5ae12fbdf0"
  },
  {
   "metadata": {
    "ExecuteTime": {
     "end_time": "2025-05-26T05:27:34.779239Z",
     "start_time": "2025-05-26T05:27:33.436241Z"
    }
   },
   "cell_type": "code",
   "source": [
    "cols_to_scale = ['Distance(mi)', 'Visibility(mi)']\n",
    "\n",
    "vectorizer = VectorAssembler(inputCols=cols_to_scale, outputCol=\"numerical_features\")\n",
    "train_data = vectorizer.transform(train_data)\n",
    "test_data = vectorizer.transform(test_data)\n",
    "\n",
    "scaler = StandardScaler(inputCol=\"numerical_features\", outputCol=\"scaled_features\")\n",
    "fitted_scaler = scaler.fit(train_data)\n",
    "train_data = fitted_scaler.transform(train_data)\n",
    "test_data = fitted_scaler.transform(test_data)\n"
   ],
   "id": "d2b3bb74c1a440be",
   "outputs": [],
   "execution_count": 50
  },
  {
   "metadata": {},
   "cell_type": "markdown",
   "source": "También removeremos outliers de nuestra variable objetivo. Utilizamos la técnica IQR para esto, calculando los a partir del dataset de entrenamiento.",
   "id": "5fcfc93b502e0d0a"
  },
  {
   "metadata": {
    "ExecuteTime": {
     "end_time": "2025-05-26T05:41:15.299841Z",
     "start_time": "2025-05-26T05:41:14.127512Z"
    }
   },
   "cell_type": "code",
   "source": [
    "from pyspark.sql.functions import percentile_approx\n",
    "\n",
    "# Calculate Q1 and Q3\n",
    "quantiles = train_data.select(\n",
    "    percentile_approx('Minutes', [0.25, 0.75], 10000).alias('quantiles')\n",
    ").collect()[0]['quantiles']\n",
    "\n",
    "Q1 = quantiles[0]\n",
    "Q3 = quantiles[1]\n",
    "IQR = Q3 - Q1\n",
    "\n",
    "# Filter out outliers\n",
    "train_data = train_data.filter(\n",
    "    (col('Minutes') >= Q1 - 1.5 * IQR) &\n",
    "    (col('Minutes') <= Q3 + 1.5 * IQR)\n",
    ")\n",
    "test_data = test_data.filter(\n",
    "    (col('Minutes') >= Q1 - 1.5 * IQR) &\n",
    "    (col('Minutes') <= Q3 + 1.5 * IQR)\n",
    ")"
   ],
   "id": "5f5321da9fb92aeb",
   "outputs": [],
   "execution_count": 58
  },
  {
   "metadata": {},
   "cell_type": "markdown",
   "source": "## Construcción de modelos de aprendizaje supervisado y no supervisado",
   "id": "7dfc4f2ee8d935a4"
  },
  {
   "metadata": {},
   "cell_type": "markdown",
   "source": "### Aprendizaje supervisado: Regresión lineal",
   "id": "50a1fae248d50cea"
  },
  {
   "metadata": {},
   "cell_type": "markdown",
   "source": "Para este ejemplo, se creará un modelo de regresión lineal que pueda predecir la duración del impacto de un accidente dadas sus características. El primer paso es preparar nuestro vector de características. En este caso, se utilizará Weather_Type, Hora_Periodo, Tipo_Día, Severity y Distancia y Visibilidad. Lo que buscamos es medir el impacto de un accidente según las condiciones en las que sucedió. Debemos usar las columnas previamente procesadas.",
   "id": "7a1d2ad50bc39576"
  },
  {
   "metadata": {
    "ExecuteTime": {
     "end_time": "2025-05-26T05:29:50.774397Z",
     "start_time": "2025-05-26T05:29:50.719668Z"
    }
   },
   "cell_type": "code",
   "source": [
    "cols_to_vectorize = ['Weather_Type_vector', 'Tipo_Día_vector', 'Hora_Periodo_vector', 'Severity', 'scaled_features']\n",
    "vectorizer = VectorAssembler(inputCols=cols_to_vectorize, outputCol=\"lr_features\")\n",
    "train_data = vectorizer.transform(train_data)\n",
    "test_data = vectorizer.transform(test_data)"
   ],
   "id": "869dc2b5ffcb8525",
   "outputs": [],
   "execution_count": 51
  },
  {
   "metadata": {},
   "cell_type": "markdown",
   "source": "Ahora creamos nuestro y entrenamos a nuestro modelo de regresión lineal. Indicamos que el vector creado previamente será utilizado como características, mientras que la columna Minutes es nuestra variable objetivo.",
   "id": "a7e3c1f700831061"
  },
  {
   "metadata": {
    "ExecuteTime": {
     "end_time": "2025-05-26T05:42:23.637632Z",
     "start_time": "2025-05-26T05:42:20.828808Z"
    }
   },
   "cell_type": "code",
   "source": [
    "lr = LinearRegression(featuresCol = 'lr_features', labelCol = 'Minutes', maxIter=10, regParam=0.3, elasticNetParam=0.8)\n",
    "lr_model = lr.fit(train_data)\n"
   ],
   "id": "380763b012f8e00d",
   "outputs": [],
   "execution_count": 59
  },
  {
   "metadata": {},
   "cell_type": "markdown",
   "source": "Podemos imprimir los coefficientes de nuestro modelo.",
   "id": "c1b32d076958e75d"
  },
  {
   "metadata": {
    "ExecuteTime": {
     "end_time": "2025-05-26T05:43:30.013818Z",
     "start_time": "2025-05-26T05:43:30.006058Z"
    }
   },
   "cell_type": "code",
   "source": [
    "print (\"The coefficient of the model is : \", lr_model.coefficients)\n",
    "print (\"The Intercept of the model is : \", lr_model.intercept)"
   ],
   "id": "7fa96091d7dfaf9d",
   "outputs": [
    {
     "name": "stdout",
     "output_type": "stream",
     "text": [
      "The coefficient of the model is :  [-1.8451326890128377,1.4556126350128107,69.24505988262186,0.0,-4.943759528838038,4.943759528837734,0.0,-5.882001292463004,0.0,7.097347617721259,0.0,-17.9269392886558,7.21616583207795,0.0]\n",
      "The Intercept of the model is :  121.22484016212401\n"
     ]
    }
   ],
   "execution_count": 60
  },
  {
   "metadata": {},
   "cell_type": "markdown",
   "source": "Asímismo, obtenemos las predicciones con el conjunto de prueba para calcular las métricas de desempeño.",
   "id": "6f303730094b6b75"
  },
  {
   "metadata": {
    "ExecuteTime": {
     "end_time": "2025-05-26T05:44:43.007768Z",
     "start_time": "2025-05-26T05:44:37.995366Z"
    }
   },
   "cell_type": "code",
   "source": [
    "pred_lr = lr_model.evaluate(test_data)\n",
    "\n",
    "#Root Mean Square Error\n",
    "eval_lr = RegressionEvaluator(labelCol=\"Minutes\", predictionCol=\"prediction\", metricName=\"rmse\")\n",
    "rmse_lr = eval_lr.evaluate(pred_lr.predictions)\n",
    "print(\"RMSE: %.3f\" % rmse_lr)\n",
    "\n",
    "# Mean Square Error\n",
    "mse = eval_lr.evaluate(pred_lr.predictions, {eval_lr.metricName: \"mse\"})\n",
    "print(\"MSE: %.3f\" % mse)\n",
    "\n",
    "# Mean Absolute Error\n",
    "mae = eval_lr.evaluate(pred_lr.predictions, {eval_lr.metricName: \"mae\"})\n",
    "print(\"MAE: %.3f\" % mae)\n",
    "\n",
    "# r2 - coefficient of determination\n",
    "r2 = eval_lr.evaluate(pred_lr.predictions, {eval_lr.metricName: \"r2\"})\n",
    "print(\"r2: %.3f\" %r2)"
   ],
   "id": "2b31bdb1d6149816",
   "outputs": [
    {
     "name": "stdout",
     "output_type": "stream",
     "text": [
      "RMSE: 48.611\n",
      "MSE: 2363.005\n",
      "MAE: 37.886\n",
      "r2: 0.078\n"
     ]
    }
   ],
   "execution_count": 61
  },
  {
   "metadata": {},
   "cell_type": "markdown",
   "source": [
    "En este caso, la columna objetivo representa minutos y no fue escalada, por lo que las métricas RMSE y MAE representan minutos también. Por su parte, r2 es un coeficiente, con valores cercanos a 1 indicando un mejor rendimiento para nuestro modelo. MSE representa minutos cuadrados, por lo que para este análisis no nos será de tanta utilidad, sobre todo porque ya contamos con la métrica de RMSE.\n",
    "\n",
    "Podemos ver que en este caso, las predicciones de nuestro modelo suelen errar por un margen de aproximadamente 35 a 50 minutos, basándonos en las métricas de RMSE y MAE. Si bien esto no es perfecto, coincide con la experiencia personal, ya que los accidentes suelen generar tráfico impredecible y duradero.\n",
    "\n",
    "Sin embargo, también vemos un valor bajo para r2, indicando que nuestras variables de entrada no explican la varianza en la variable de salida. Esto puede indicar que nuestro modelo se beneficiaría de la apliación de ingeniería de características, de forma que nuestra entrada capture mejor las características de la variable objetivo."
   ],
   "id": "997a6e38e0f2ce99"
  },
  {
   "metadata": {},
   "cell_type": "markdown",
   "source": "### Aprendizaje no supervisado: K-Means",
   "id": "cae8de0cecb9d4a2"
  },
  {
   "metadata": {},
   "cell_type": "markdown",
   "source": [
    "Para este ejemplo, se utilizará el método de K-Means para obtener agrupamientos en nuestro conjunto de datos. Nuestro objetivo será intentar identificar los diferentes tipos de accidentes que ocurren.\n",
    "\n",
    "Debido a que este es un problema de aprendizaje no supervisado, no es estrictamente necesario dividir el conjunto de datos en entrenamiento y prueba, puesto que no hay una variable objetivo con la cual validar. Por lo tanto, trabajaremos con el dataset completo.\n",
    "\n",
    "Para este caso, queremos agrupar accidentes basados en el momento en el que ocurrieron (a partir de las variables Tipo_Dia y Hora_Periodo), las condiciones climáticas (variable Weather_Type), su severidad y las condiciones del camino.\n",
    "\n",
    "Para esto último, reduciremos todas las variables boolenas a una sola columna que indique si había distracciones."
   ],
   "id": "d7761e73e29e8358"
  },
  {
   "metadata": {
    "ExecuteTime": {
     "end_time": "2025-05-26T04:59:48.354336Z",
     "start_time": "2025-05-26T04:59:48.238616Z"
    }
   },
   "cell_type": "code",
   "source": [
    "df_processed = df_processed.withColumn('Distractions',\n",
    "    (col('Amenity') | col('Bump') | col('Crossing') | col('Give_Way') |\n",
    "     col('Junction') | col('No_Exit') | col('Railway') | col('Roundabout') |\n",
    "     col('Station') | col('Stop') | col('Traffic_Calming') |\n",
    "     col('Traffic_Signal') | col('Turning_Loop')).cast('boolean')\n",
    ")\n",
    "\n",
    "df_processed.show(1)"
   ],
   "id": "f360fadb0fccfdc",
   "outputs": [
    {
     "name": "stdout",
     "output_type": "stream",
     "text": [
      "+--------+-------------------+-------------------+------------+--------------+-----------+------------+--------------+-----------------+-------+-----+--------+--------+--------+-------+-------+----------+-------+-----+---------------+--------------+------------+------------+--------------+----------+-------------+-----------------------+------------------+----------------+--------------+------------------+------------------------+-------------------+-----------------+---------------+-------------------+-----------------+------------+\n",
      "|Severity|         Start_Time|           End_Time|Distance(mi)|Temperature(F)|Humidity(%)|Pressure(in)|Visibility(mi)|Weather_Condition|Amenity| Bump|Crossing|Give_Way|Junction|No_Exit|Railway|Roundabout|Station| Stop|Traffic_Calming|Traffic_Signal|Turning_Loop|Weather_Type|  Hora_Periodo|Dia_Semana|     Tipo_Día|Weather_Condition_index|Weather_Type_index|Dia_Semana_index|Tipo_Día_index|Hora_Periodo_index|Weather_Condition_vector|Weather_Type_vector|Dia_Semana_vector|Tipo_Día_vector|Hora_Periodo_vector|          Minutes|Distractions|\n",
      "+--------+-------------------+-------------------+------------+--------------+-----------+------------+--------------+-----------------+-------+-----+--------+--------+--------+-------+-------+----------+-------+-----+---------------+--------------+------------+------------+--------------+----------+-------------+-----------------------+------------------+----------------+--------------+------------------+------------------------+-------------------+-----------------+---------------+-------------------+-----------------+------------+\n",
      "|       4|2020-11-21 10:19:00|2020-11-21 11:42:11|        1.78|          51.0|       71.0|       29.06|           6.0|             Haze|  false|false|   false|   false|    true|  false|  false|     false|  false|false|          false|         false|       false|     Adverso|Alta actividad|       Sat|Fin de semana|                   10.0|               1.0|             5.0|           1.0|               0.0|         (56,[10],[1.0])|      (4,[1],[1.0])|    (8,[5],[1.0])|  (3,[1],[1.0])|      (4,[0],[1.0])|83.18333333333334|        true|\n",
      "+--------+-------------------+-------------------+------------+--------------+-----------+------------+--------------+-----------------+-------+-----+--------+--------+--------+-------+-------+----------+-------+-----+---------------+--------------+------------+------------+--------------+----------+-------------+-----------------------+------------------+----------------+--------------+------------------+------------------------+-------------------+-----------------+---------------+-------------------+-----------------+------------+\n",
      "only showing top 1 row\n",
      "\n"
     ]
    }
   ],
   "execution_count": 43
  },
  {
   "metadata": {},
   "cell_type": "markdown",
   "source": "Ahora procedemos a vectorizar nuestras características de interés.",
   "id": "677f6af637a4d6f0"
  },
  {
   "metadata": {
    "ExecuteTime": {
     "end_time": "2025-05-26T05:00:39.235868Z",
     "start_time": "2025-05-26T05:00:39.201858Z"
    }
   },
   "cell_type": "code",
   "source": [
    "cols_to_vectorize = ['Tipo_Día_vector', 'Hora_Periodo_vector', 'Weather_Type_vector', 'Severity', 'Distractions']\n",
    "\n",
    "vectorizer = VectorAssembler(inputCols=cols_to_vectorize, outputCol=\"kmeans_features\")\n",
    "kmeans_data = vectorizer.transform(df_processed)"
   ],
   "id": "7d80f49af466d607",
   "outputs": [],
   "execution_count": 44
  },
  {
   "metadata": {},
   "cell_type": "markdown",
   "source": "Creamos y entrenamos nuestro modelo de K-Means. En este caso no se indicó un valor para k, esto con la intención de que el modelo lo determine por si mismo.",
   "id": "74546797b9629806"
  },
  {
   "metadata": {
    "ExecuteTime": {
     "end_time": "2025-05-26T05:01:36.835520Z",
     "start_time": "2025-05-26T05:01:31.184810Z"
    }
   },
   "cell_type": "code",
   "source": [
    "kmeans = KMeans(featuresCol='kmeans_features')\n",
    "kmeans_model = kmeans.fit(kmeans_data)"
   ],
   "id": "71d073705cf8bc37",
   "outputs": [],
   "execution_count": 45
  },
  {
   "metadata": {},
   "cell_type": "markdown",
   "source": "Podemos ahora extraer la información de los agrupamientos obtenidos.",
   "id": "e9316f4b1a6419cb"
  },
  {
   "metadata": {
    "ExecuteTime": {
     "end_time": "2025-05-26T05:02:26.103831Z",
     "start_time": "2025-05-26T05:02:26.075942Z"
    }
   },
   "cell_type": "code",
   "source": [
    "# Printing cluster centers\n",
    "centers = kmeans_model.clusterCenters()\n",
    "print(f\"Found {len(centers)} clusters\")\n",
    "print(\"Cluster Centers: \")\n",
    "for center in centers:\n",
    "    print(center)"
   ],
   "id": "d8475150ef179731",
   "outputs": [
    {
     "name": "stdout",
     "output_type": "stream",
     "text": [
      "Found 2 clusters\n",
      "Cluster Centers: \n",
      "[1.00000000e+00 0.00000000e+00 0.00000000e+00 7.36061757e-01\n",
      " 1.74856023e-01 8.90822203e-02 0.00000000e+00 8.72319569e-01\n",
      " 1.27557897e-01 1.22534003e-04 0.00000000e+00 2.20365151e+00\n",
      " 3.20794020e-01]\n",
      "[0.00000000e+00 1.00000000e+00 0.00000000e+00 6.06119792e-01\n",
      " 2.42838542e-01 1.51041667e-01 0.00000000e+00 8.61328125e-01\n",
      " 1.38020833e-01 6.51041667e-04 0.00000000e+00 2.25065104e+00\n",
      " 2.43489583e-01]\n"
     ]
    }
   ],
   "execution_count": 46
  },
  {
   "metadata": {},
   "cell_type": "markdown",
   "source": [
    "En este caso no utilizaremos métricas para evaluar el rendimiento del modelo, sino que intentaremos obtener algún hallazgo mediante la interpretación cualitativa y subjetiva de las agrupaciones obtenidas.\n",
    "\n",
    "En este caso, podemos observar que se obtuvieron 2 agrupaciones distintas. El centro de cada de ellas nos puede proporcionar hallazgos sobre sus características.\n",
    "\n",
    "Por ejemplo, considerando que los primeros 2 elementos del vector de características representan el tipo de día (fin de semana o laboral), de primera instancia es evidente que uno de los grupos representan accidentes en fines de semana y el otro representa accidentes en días laborales.\n",
    "\n",
    "El tercer, séptimo y onceavo elementos del vector representan valores desconocidos para las variables categóricas; el hecho de que en ambos centroides sean cero indica que no tuvieron influencia en la agrupación (y potencialmente no existieron en el dataset).\n",
    "\n",
    "Las coordenadas de severidad no son muy distintas en ambos centros, así que se puede asumir que no es un factor representativo de estos tipos de accidentes.\n",
    "\n",
    "Finalmente, podemos ver que los valores del cuarto, quinto y sexto elementos de los ceontroides tienen diferencias significativas. Estos elementos representan la codificación del periodo del día, indicando que los accidentes en fines de semana suelen suceder en horarios distintos a los accidentes durante días laborales."
   ],
   "id": "404398179f15f2c7"
  }
 ],
 "metadata": {
  "kernelspec": {
   "display_name": "env_pyspark",
   "language": "python",
   "name": "env_pyspark"
  },
  "language_info": {
   "codemirror_mode": {
    "name": "ipython",
    "version": 2
   },
   "file_extension": ".py",
   "mimetype": "text/x-python",
   "name": "python",
   "nbconvert_exporter": "python",
   "pygments_lexer": "ipython2",
   "version": "2.7.6"
  }
 },
 "nbformat": 4,
 "nbformat_minor": 5
}
