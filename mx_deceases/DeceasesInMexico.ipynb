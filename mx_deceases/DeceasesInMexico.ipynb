{
 "cells": [
  {
   "metadata": {},
   "cell_type": "markdown",
   "source": "Install the kagglehub package to download the dataset at runtime.",
   "id": "3f8828fa922a97ce"
  },
  {
   "cell_type": "code",
   "id": "initial_id",
   "metadata": {
    "collapsed": true,
    "ExecuteTime": {
     "end_time": "2025-04-25T21:24:24.570551Z",
     "start_time": "2025-04-25T21:24:21.978387Z"
    }
   },
   "source": "!pip install kagglehub",
   "outputs": [
    {
     "name": "stdout",
     "output_type": "stream",
     "text": [
      "Collecting kagglehub\n",
      "  Downloading kagglehub-0.3.12-py3-none-any.whl.metadata (38 kB)\n",
      "Requirement already satisfied: packaging in c:\\users\\danie\\anaconda3\\envs\\env_pyspark\\lib\\site-packages (from kagglehub) (24.2)\n",
      "Requirement already satisfied: pyyaml in c:\\users\\danie\\anaconda3\\envs\\env_pyspark\\lib\\site-packages (from kagglehub) (6.0.2)\n",
      "Requirement already satisfied: requests in c:\\users\\danie\\anaconda3\\envs\\env_pyspark\\lib\\site-packages (from kagglehub) (2.32.3)\n",
      "Collecting tqdm (from kagglehub)\n",
      "  Downloading tqdm-4.67.1-py3-none-any.whl.metadata (57 kB)\n",
      "Requirement already satisfied: charset-normalizer<4,>=2 in c:\\users\\danie\\anaconda3\\envs\\env_pyspark\\lib\\site-packages (from requests->kagglehub) (3.3.2)\n",
      "Requirement already satisfied: idna<4,>=2.5 in c:\\users\\danie\\anaconda3\\envs\\env_pyspark\\lib\\site-packages (from requests->kagglehub) (3.7)\n",
      "Requirement already satisfied: urllib3<3,>=1.21.1 in c:\\users\\danie\\anaconda3\\envs\\env_pyspark\\lib\\site-packages (from requests->kagglehub) (2.3.0)\n",
      "Requirement already satisfied: certifi>=2017.4.17 in c:\\users\\danie\\anaconda3\\envs\\env_pyspark\\lib\\site-packages (from requests->kagglehub) (2025.1.31)\n",
      "Requirement already satisfied: colorama in c:\\users\\danie\\anaconda3\\envs\\env_pyspark\\lib\\site-packages (from tqdm->kagglehub) (0.4.6)\n",
      "Downloading kagglehub-0.3.12-py3-none-any.whl (67 kB)\n",
      "Downloading tqdm-4.67.1-py3-none-any.whl (78 kB)\n",
      "Installing collected packages: tqdm, kagglehub\n",
      "Successfully installed kagglehub-0.3.12 tqdm-4.67.1\n"
     ]
    }
   ],
   "execution_count": 1
  },
  {
   "metadata": {},
   "cell_type": "markdown",
   "source": "Download the dataset from Kaggle using the kagglehub package.",
   "id": "6858be7e4e52f7cb"
  },
  {
   "metadata": {
    "ExecuteTime": {
     "end_time": "2025-04-25T21:26:02.403472Z",
     "start_time": "2025-04-25T21:24:41.456963Z"
    }
   },
   "cell_type": "code",
   "source": [
    "import kagglehub\n",
    "\n",
    "# Download the latest version\n",
    "path = kagglehub.dataset_download(\"tavoglc/deceases-in-mexico\")\n",
    "\n",
    "print(\"Path to dataset files:\", path)"
   ],
   "id": "caaa62f735a4f71f",
   "outputs": [
    {
     "name": "stderr",
     "output_type": "stream",
     "text": [
      "C:\\Users\\danie\\anaconda3\\envs\\env_pyspark\\Lib\\site-packages\\tqdm\\auto.py:21: TqdmWarning: IProgress not found. Please update jupyter and ipywidgets. See https://ipywidgets.readthedocs.io/en/stable/user_install.html\n",
      "  from .autonotebook import tqdm as notebook_tqdm\n"
     ]
    },
    {
     "name": "stdout",
     "output_type": "stream",
     "text": [
      "Downloading from https://www.kaggle.com/api/v1/datasets/download/tavoglc/deceases-in-mexico?dataset_version_number=2...\n"
     ]
    },
    {
     "name": "stderr",
     "output_type": "stream",
     "text": [
      "100%|██████████| 1.56G/1.56G [00:54<00:00, 30.6MB/s]"
     ]
    },
    {
     "name": "stdout",
     "output_type": "stream",
     "text": [
      "Extracting files...\n"
     ]
    },
    {
     "name": "stderr",
     "output_type": "stream",
     "text": [
      "\n"
     ]
    },
    {
     "name": "stdout",
     "output_type": "stream",
     "text": [
      "Path to dataset files: C:\\Users\\danie\\.cache\\kagglehub\\datasets\\tavoglc\\deceases-in-mexico\\versions\\2\n"
     ]
    }
   ],
   "execution_count": 2
  },
  {
   "metadata": {},
   "cell_type": "markdown",
   "source": "Optionally, if the dataset is already downloaded to your local machine, set the path to the dataset instead.",
   "id": "8e03d911b468b460"
  },
  {
   "metadata": {},
   "cell_type": "code",
   "outputs": [],
   "execution_count": null,
   "source": [
    "# Uncomment the following line and set the path to your local dataset\n",
    "# path = \"your-local-path\""
   ],
   "id": "498d9f6aa36c2c9b"
  },
  {
   "metadata": {},
   "cell_type": "markdown",
   "source": [
    "The dataset contains the following files:\n",
    "- `mxmortality.csv`\n",
    "- `mxmortality_rev.csv`\n",
    "\n",
    "For this exercise, we only care about the `mxmortality.csv` file."
   ],
   "id": "b35fddeb4fda3d7e"
  },
  {
   "metadata": {
    "ExecuteTime": {
     "end_time": "2025-04-25T21:32:54.713222Z",
     "start_time": "2025-04-25T21:32:54.710195Z"
    }
   },
   "cell_type": "code",
   "source": "dataset_path = path + \"/mxmortality.csv\"",
   "id": "db4b6d8da3b12cc5",
   "outputs": [],
   "execution_count": 7
  },
  {
   "metadata": {},
   "cell_type": "markdown",
   "source": "Initialize the Spark session",
   "id": "d23020eaf36dab69"
  },
  {
   "metadata": {
    "ExecuteTime": {
     "end_time": "2025-04-25T21:27:20.518458Z",
     "start_time": "2025-04-25T21:27:20.504758Z"
    }
   },
   "cell_type": "code",
   "source": [
    "from pyspark.sql import SparkSession\n",
    "\n",
    "# Create a Spark session\n",
    "spark = SparkSession.builder \\\n",
    "    .appName(\"DeceasesInMexico\") \\\n",
    "    .getOrCreate()\n",
    "\n",
    "spark"
   ],
   "id": "4eef517e6cc5c3ce",
   "outputs": [
    {
     "data": {
      "text/plain": [
       "<pyspark.sql.session.SparkSession at 0x2c58d850bf0>"
      ],
      "text/html": [
       "\n",
       "            <div>\n",
       "                <p><b>SparkSession - in-memory</b></p>\n",
       "                \n",
       "        <div>\n",
       "            <p><b>SparkContext</b></p>\n",
       "\n",
       "            <p><a href=\"http://host.docker.internal:4041\">Spark UI</a></p>\n",
       "\n",
       "            <dl>\n",
       "              <dt>Version</dt>\n",
       "                <dd><code>v3.5.4</code></dd>\n",
       "              <dt>Master</dt>\n",
       "                <dd><code>local[*]</code></dd>\n",
       "              <dt>AppName</dt>\n",
       "                <dd><code>DeceasesInMexico</code></dd>\n",
       "            </dl>\n",
       "        </div>\n",
       "        \n",
       "            </div>\n",
       "        "
      ]
     },
     "execution_count": 5,
     "metadata": {},
     "output_type": "execute_result"
    }
   ],
   "execution_count": 5
  },
  {
   "metadata": {
    "ExecuteTime": {
     "end_time": "2025-04-25T21:33:18.799770Z",
     "start_time": "2025-04-25T21:33:03.684249Z"
    }
   },
   "cell_type": "code",
   "source": [
    "df = spark.read.csv(dataset_path, header=True, inferSchema=True)\n",
    "\n",
    "# Show the first 5 rows of the DataFrame\n",
    "df.show(5)"
   ],
   "id": "6af94e48314da078",
   "outputs": [
    {
     "name": "stdout",
     "output_type": "stream",
     "text": [
      "+------------+----------+------------------+------------------+--------------------+---------+----------+-----------------+-------------------+-----+---------+--------------------+----+---------+-------------------+-------------------+------------------+--------------------+--------------------+--------------------+\n",
      "|decease_date|birth_date|               tod|         daylength|          gdaylength|     flux|     gflux|              lat|               long|night|gr_lismex|                desc|sexo|causa_def|                 Br|                 Bt|                Bp|                 gBr|                 gBt|                 gBp|\n",
      "+------------+----------+------------------+------------------+--------------------+---------+----------+-----------------+-------------------+-----+---------+--------------------+----+---------+-------------------+-------------------+------------------+--------------------+--------------------+--------------------+\n",
      "|  2011-12-27|1929-01-06|16.583333333333332|11.615353140121234|-0.00207899014860...|628.69946| 278.81348|21.83113718335684|-102.28169322849084|false|      028|Enfermedades isqu...|   1|     I259| -58363.90225274358| -4463.722041891099| 359.5595715715627|-0.00894345828419...|0.009169747980195098|0.002491510963920973|\n",
      "|  2011-09-29|1939-01-21|19.916666666666668|12.708723853154206|0.021519384338454017|      0.0|       0.0|22.13961531092437|-102.04078007563025| true|      030|Enfermedades cere...|   1|     I619|-58410.841474396446| -4570.345790651583| 360.0088219049171|-0.00889301086135...| 0.00916000631696079|0.002486121939341...|\n",
      "|  2011-09-29|1925-04-25|20.333333333333332|12.709252278538676|0.021184076620460957|      0.0|       0.0|21.83113718335684|-102.28169322849084| true|      033|Otras enfermedade...|   1|     J64X| -58382.74317953628| -4444.147450277743| 364.9292632410546|-0.00872438426449662|0.009187477444356773|0.002541539101116541|\n",
      "|  2011-08-19|1963-04-25|17.833333333333332|13.595417197003577|  0.0206407552693193|      0.0|       0.0|21.83113718335684|-102.28169322849084| true|      010|Tumor maligno de ...|   2|     C349| -58391.29690600454|-4435.0825072914795|367.44469959329547|-0.00861713501217...|0.009190003264848201|0.002557361291053...|\n",
      "|  2012-03-15|1942-03-15|              9.25|12.708175579373028|-0.02125821584276...|1058.5378|-181.98178|21.83113718335684|-102.28169322849084|false|      028|Enfermedades isqu...|   2|     I219|-58346.854022637104|-4481.0090150273345| 354.9106908681944|-0.00910239003860...| 0.00913154493264301|0.002428083336440068|\n",
      "+------------+----------+------------------+------------------+--------------------+---------+----------+-----------------+-------------------+-----+---------+--------------------+----+---------+-------------------+-------------------+------------------+--------------------+--------------------+--------------------+\n",
      "only showing top 5 rows\n",
      "\n"
     ]
    }
   ],
   "execution_count": 8
  },
  {
   "metadata": {
    "ExecuteTime": {
     "end_time": "2025-04-25T21:47:44.303942Z",
     "start_time": "2025-04-25T21:47:43.958581Z"
    }
   },
   "cell_type": "code",
   "source": "df.summary()",
   "id": "9eb3c480ca9b7886",
   "outputs": [
    {
     "data": {
      "text/plain": [
       "DataFrame[summary: string, tod: string, daylength: string, gdaylength: string, flux: string, gflux: string, lat: string, long: string, gr_lismex: string, desc: string, sexo: string, causa_def: string, Br: string, Bt: string, Bp: string, gBr: string, gBt: string, gBp: string]"
      ]
     },
     "execution_count": 9,
     "metadata": {},
     "output_type": "execute_result"
    }
   ],
   "execution_count": 9
  }
 ],
 "metadata": {
  "kernelspec": {
   "display_name": "Python 3",
   "language": "python",
   "name": "python3"
  },
  "language_info": {
   "codemirror_mode": {
    "name": "ipython",
    "version": 2
   },
   "file_extension": ".py",
   "mimetype": "text/x-python",
   "name": "python",
   "nbconvert_exporter": "python",
   "pygments_lexer": "ipython2",
   "version": "2.7.6"
  }
 },
 "nbformat": 4,
 "nbformat_minor": 5
}
