{
 "cells": [
  {
   "metadata": {},
   "cell_type": "markdown",
   "source": "# Actividad 4 | Métricas de calidad de resultados",
   "id": "36d0619c56400d92"
  },
  {
   "metadata": {
    "ExecuteTime": {
     "end_time": "2025-06-08T22:20:41.064417Z",
     "start_time": "2025-06-08T22:20:39.580052Z"
    }
   },
   "cell_type": "code",
   "source": [
    "import kagglehub\n",
    "from pyspark.ml.classification import LogisticRegression\n",
    "from pyspark.ml.evaluation import MultilabelClassificationEvaluator\n",
    "from pyspark.ml.feature import StringIndexer, OneHotEncoder, StandardScaler, VectorAssembler\n",
    "from pyspark.ml.functions import vector_to_array\n",
    "from pyspark.sql import SparkSession\n",
    "from pyspark.sql.functions import when, col, hour, date_format, count, round, concat_ws, rand\n",
    "from pyspark.sql.window import Window\n",
    "from pyspark.sql.functions import row_number, percentile_approx\n",
    "import findspark\n"
   ],
   "id": "f6e6e2c4fed5b10c",
   "outputs": [
    {
     "name": "stderr",
     "output_type": "stream",
     "text": [
      "C:\\Users\\danie\\anaconda3\\envs\\env_pyspark\\Lib\\site-packages\\tqdm\\auto.py:21: TqdmWarning: IProgress not found. Please update jupyter and ipywidgets. See https://ipywidgets.readthedocs.io/en/stable/user_install.html\n",
      "  from .autonotebook import tqdm as notebook_tqdm\n"
     ]
    }
   ],
   "execution_count": 1
  },
  {
   "metadata": {},
   "cell_type": "markdown",
   "source": "## 1. Construcción de la muestra M",
   "id": "aac9bd24bcb37b0e"
  },
  {
   "metadata": {},
   "cell_type": "markdown",
   "source": "Primero descargaremos el dataset de forma local y creamos la sesión de PySpark.",
   "id": "c5b24782f1b8b2cd"
  },
  {
   "metadata": {
    "ExecuteTime": {
     "end_time": "2025-06-08T22:20:41.835451Z",
     "start_time": "2025-06-08T22:20:41.258265Z"
    }
   },
   "cell_type": "code",
   "source": [
    "# Download the latest version\n",
    "path = kagglehub.dataset_download(\"sobhanmoosavi/us-accidents\")\n",
    "\n",
    "print(\"Path to dataset files:\", path)\n",
    "\n",
    "dataset_path = path + \"/US_Accidents_March23.csv\""
   ],
   "id": "c8aac55c4e7bd32b",
   "outputs": [
    {
     "name": "stdout",
     "output_type": "stream",
     "text": [
      "Path to dataset files: C:\\Users\\danie\\.cache\\kagglehub\\datasets\\sobhanmoosavi\\us-accidents\\versions\\13\n"
     ]
    }
   ],
   "execution_count": 2
  },
  {
   "metadata": {
    "ExecuteTime": {
     "end_time": "2025-06-08T22:20:45.266820Z",
     "start_time": "2025-06-08T22:20:41.856259Z"
    }
   },
   "cell_type": "code",
   "source": [
    "# Create a Spark session\n",
    "findspark.init()\n",
    "spark = SparkSession.builder.master(\"local[*]\").getOrCreate()\n",
    "\n",
    "spark.conf.set(\"spark.sql.repl.eagerEval.enabled\", True)\n",
    "\n",
    "spark"
   ],
   "id": "f4c982c0e1eb9594",
   "outputs": [
    {
     "data": {
      "text/plain": [
       "<pyspark.sql.session.SparkSession at 0x17d91f5d160>"
      ],
      "text/html": [
       "\n",
       "            <div>\n",
       "                <p><b>SparkSession - in-memory</b></p>\n",
       "                \n",
       "        <div>\n",
       "            <p><b>SparkContext</b></p>\n",
       "\n",
       "            <p><a href=\"http://DESKTOP-DIU142O:4040\">Spark UI</a></p>\n",
       "\n",
       "            <dl>\n",
       "              <dt>Version</dt>\n",
       "                <dd><code>v3.5.4</code></dd>\n",
       "              <dt>Master</dt>\n",
       "                <dd><code>local[*]</code></dd>\n",
       "              <dt>AppName</dt>\n",
       "                <dd><code>pyspark-shell</code></dd>\n",
       "            </dl>\n",
       "        </div>\n",
       "        \n",
       "            </div>\n",
       "        "
      ]
     },
     "execution_count": 3,
     "metadata": {},
     "output_type": "execute_result"
    }
   ],
   "execution_count": 3
  },
  {
   "metadata": {},
   "cell_type": "markdown",
   "source": "Ahora podemos cargar nuestro dataset como un dataframe de PySpark.",
   "id": "6343e645d92e75e3"
  },
  {
   "metadata": {
    "ExecuteTime": {
     "end_time": "2025-06-08T22:20:56.526935Z",
     "start_time": "2025-06-08T22:20:45.281461Z"
    }
   },
   "cell_type": "code",
   "source": [
    "df = spark.read.csv(dataset_path, header=True, inferSchema=True)\n",
    "\n",
    "df.show(5)"
   ],
   "id": "8f106b8ed9e74294",
   "outputs": [
    {
     "name": "stdout",
     "output_type": "stream",
     "text": [
      "+---+-------+--------+-------------------+-------------------+-----------------+------------------+-------+-------+------------+--------------------+--------------------+------------+----------+-----+----------+-------+----------+------------+-------------------+--------------+-------------+-----------+------------+--------------+--------------+---------------+-----------------+-----------------+-------+-----+--------+--------+--------+-------+-------+----------+-------+-----+---------------+--------------+------------+--------------+--------------+-----------------+---------------------+\n",
      "| ID| Source|Severity|         Start_Time|           End_Time|        Start_Lat|         Start_Lng|End_Lat|End_Lng|Distance(mi)|         Description|              Street|        City|    County|State|   Zipcode|Country|  Timezone|Airport_Code|  Weather_Timestamp|Temperature(F)|Wind_Chill(F)|Humidity(%)|Pressure(in)|Visibility(mi)|Wind_Direction|Wind_Speed(mph)|Precipitation(in)|Weather_Condition|Amenity| Bump|Crossing|Give_Way|Junction|No_Exit|Railway|Roundabout|Station| Stop|Traffic_Calming|Traffic_Signal|Turning_Loop|Sunrise_Sunset|Civil_Twilight|Nautical_Twilight|Astronomical_Twilight|\n",
      "+---+-------+--------+-------------------+-------------------+-----------------+------------------+-------+-------+------------+--------------------+--------------------+------------+----------+-----+----------+-------+----------+------------+-------------------+--------------+-------------+-----------+------------+--------------+--------------+---------------+-----------------+-----------------+-------+-----+--------+--------+--------+-------+-------+----------+-------+-----+---------------+--------------+------------+--------------+--------------+-----------------+---------------------+\n",
      "|A-1|Source2|       3|2016-02-08 05:46:00|2016-02-08 11:00:00|        39.865147|        -84.058723|   NULL|   NULL|        0.01|Right lane blocke...|              I-70 E|      Dayton|Montgomery|   OH|     45424|     US|US/Eastern|        KFFO|2016-02-08 05:58:00|          36.9|         NULL|       91.0|       29.68|          10.0|          Calm|           NULL|             0.02|       Light Rain|  false|false|   false|   false|   false|  false|  false|     false|  false|false|          false|         false|       false|         Night|         Night|            Night|                Night|\n",
      "|A-2|Source2|       2|2016-02-08 06:07:59|2016-02-08 06:37:59|39.92805900000001|        -82.831184|   NULL|   NULL|        0.01|Accident on Brice...|            Brice Rd|Reynoldsburg|  Franklin|   OH|43068-3402|     US|US/Eastern|        KCMH|2016-02-08 05:51:00|          37.9|         NULL|      100.0|       29.65|          10.0|          Calm|           NULL|              0.0|       Light Rain|  false|false|   false|   false|   false|  false|  false|     false|  false|false|          false|         false|       false|         Night|         Night|            Night|                  Day|\n",
      "|A-3|Source2|       2|2016-02-08 06:49:27|2016-02-08 07:19:27|        39.063148|        -84.032608|   NULL|   NULL|        0.01|Accident on OH-32...|      State Route 32|Williamsburg|  Clermont|   OH|     45176|     US|US/Eastern|        KI69|2016-02-08 06:56:00|          36.0|         33.3|      100.0|       29.67|          10.0|            SW|            3.5|             NULL|         Overcast|  false|false|   false|   false|   false|  false|  false|     false|  false|false|          false|          true|       false|         Night|         Night|              Day|                  Day|\n",
      "|A-4|Source2|       3|2016-02-08 07:23:34|2016-02-08 07:53:34|        39.747753|-84.20558199999998|   NULL|   NULL|        0.01|Accident on I-75 ...|              I-75 S|      Dayton|Montgomery|   OH|     45417|     US|US/Eastern|        KDAY|2016-02-08 07:38:00|          35.1|         31.0|       96.0|       29.64|           9.0|            SW|            4.6|             NULL|    Mostly Cloudy|  false|false|   false|   false|   false|  false|  false|     false|  false|false|          false|         false|       false|         Night|           Day|              Day|                  Day|\n",
      "|A-5|Source2|       2|2016-02-08 07:39:07|2016-02-08 08:09:07|        39.627781|        -84.188354|   NULL|   NULL|        0.01|Accident on McEwe...|Miamisburg Center...|      Dayton|Montgomery|   OH|     45459|     US|US/Eastern|        KMGY|2016-02-08 07:53:00|          36.0|         33.3|       89.0|       29.65|           6.0|            SW|            3.5|             NULL|    Mostly Cloudy|  false|false|   false|   false|   false|  false|  false|     false|  false|false|          false|          true|       false|           Day|           Day|              Day|                  Day|\n",
      "+---+-------+--------+-------------------+-------------------+-----------------+------------------+-------+-------+------------+--------------------+--------------------+------------+----------+-----+----------+-------+----------+------------+-------------------+--------------+-------------+-----------+------------+--------------+--------------+---------------+-----------------+-----------------+-------+-----+--------+--------+--------+-------+-------+----------+-------+-----+---------------+--------------+------------+--------------+--------------+-----------------+---------------------+\n",
      "only showing top 5 rows\n",
      "\n"
     ]
    }
   ],
   "execution_count": 4
  },
  {
   "metadata": {},
   "cell_type": "markdown",
   "source": [
    "A continuación aplicamos nuestro muestreo del conjunto de datos, tal como se describió en la actividad anterior.\n",
    "\n",
    "El primer paso consiste en crear las columnas Weather_Condition, Hora_Periodo y Tipo_Día."
   ],
   "id": "b8e54f81d0ebcb0"
  },
  {
   "metadata": {
    "ExecuteTime": {
     "end_time": "2025-06-08T22:20:56.807295Z",
     "start_time": "2025-06-08T22:20:56.708259Z"
    }
   },
   "cell_type": "code",
   "source": [
    "df = df.withColumn(\"Weather_Type\",\n",
    "    when(col(\"Weather_Condition\").isNull(), \"Desconocido\")\n",
    "    .when(col(\"Weather_Condition\").rlike(\"(?i)null|N/A\"), \"Desconocido\")\n",
    "    .when(col(\"Weather_Condition\").rlike(\"(?i)Rain|Drizzle|Thunder|Storm|Snow|Sleet|Hail|Ice|Fog|Haze|Mist|Dust|Sand|Smoke|Wintry|Squall|Tornado|Ash|Funnel\"), \"Adverso\")\n",
    "    .otherwise(\"Favorable\")\n",
    ")\n",
    "\n",
    "df = df.withColumn(\n",
    "    \"Hora_Periodo\",\n",
    "    when(hour(\"Start_Time\") < 6, \"Madrugada\")\n",
    "    .when(hour(\"Start_Time\") < 18, \"Alta actividad\")\n",
    "    .otherwise(\"Tarde-Noche\")\n",
    ")\n",
    "\n",
    "df = df.withColumn(\"Dia_Semana\", date_format(\"Start_Time\", \"E\"))\n",
    "df = df.withColumn(\n",
    "    \"Tipo_Día\",\n",
    "    when(col(\"Dia_Semana\").isin(\"Sat\", \"Sun\"), \"Fin de semana\").otherwise(\"Laboral\")\n",
    ")"
   ],
   "id": "657291697acc8107",
   "outputs": [],
   "execution_count": 5
  },
  {
   "metadata": {},
   "cell_type": "markdown",
   "source": "Posteriormente, filtramos cualquier registro en el cual las columnas clave (Severity, Hora_Periodo, Tipo_Día y Weather_Type) son nulas.",
   "id": "35554b5d0327426e"
  },
  {
   "metadata": {
    "ExecuteTime": {
     "end_time": "2025-06-08T22:20:58.125783Z",
     "start_time": "2025-06-08T22:20:58.111203Z"
    }
   },
   "cell_type": "code",
   "source": [
    "df_filtrado = df.filter(\n",
    "    (col(\"Severity\").isNotNull()) &\n",
    "    (col(\"Hora_Periodo\").isNotNull()) &\n",
    "    (col(\"Tipo_Día\").isNotNull()) &\n",
    "    (col(\"Weather_Type\").isNotNull())\n",
    ")"
   ],
   "id": "475928c6c383233f",
   "outputs": [],
   "execution_count": 6
  },
  {
   "metadata": {},
   "cell_type": "markdown",
   "source": "Ahora obtenemos los estratos a partir de las diferentes combinaciones de estas variables, al igual que la probabilidad para cada estrato.",
   "id": "a568fa9483d42fc6"
  },
  {
   "metadata": {
    "ExecuteTime": {
     "end_time": "2025-06-08T22:21:01.525880Z",
     "start_time": "2025-06-08T22:20:58.462799Z"
    }
   },
   "cell_type": "code",
   "source": [
    "total_registros = df_filtrado.count()\n",
    "\n",
    "estratos = df_filtrado.groupBy(\"Severity\", \"Hora_Periodo\", \"Tipo_Día\", \"Weather_Type\") \\\n",
    "    .agg(count(\"*\").alias(\"frecuencia\")) \\\n",
    "    .withColumn(\"probabilidad\", round(col(\"frecuencia\") / total_registros, 6)) \\\n",
    "    .orderBy(col(\"probabilidad\").desc())"
   ],
   "id": "7c12029359a779cd",
   "outputs": [],
   "execution_count": 7
  },
  {
   "metadata": {},
   "cell_type": "markdown",
   "source": "Para cada estrato, calculamos el número de elementos a incluir a partir del tamaño de la muestra deseado y la probabilidad para cada estrato. En este caso, buscamos una sub-muestra de 700,000 elementos, poco menos del 10% del total de registros.",
   "id": "5e545efffa9ea52c"
  },
  {
   "metadata": {
    "ExecuteTime": {
     "end_time": "2025-06-08T22:21:07.960908Z",
     "start_time": "2025-06-08T22:21:07.933419Z"
    }
   },
   "cell_type": "code",
   "source": [
    "# Tamaño total de muestra deseado\n",
    "n_muestra = 700000\n",
    "\n",
    "estratos = estratos.withColumn(\n",
    "    \"n_estrato\",\n",
    "    round(col(\"probabilidad\") * n_muestra).cast(\"integer\")\n",
    ")"
   ],
   "id": "b24cc9efd416e50a",
   "outputs": [],
   "execution_count": 8
  },
  {
   "metadata": {},
   "cell_type": "markdown",
   "source": "Unimos los dataframes con la información de los estratos con nuestro dataset.",
   "id": "1e1b64b9ab3f39d1"
  },
  {
   "metadata": {
    "ExecuteTime": {
     "end_time": "2025-06-08T22:21:13.696815Z",
     "start_time": "2025-06-08T22:21:13.628329Z"
    }
   },
   "cell_type": "code",
   "source": [
    "# En df_filtrado (base depurada sin nulos en variables clave)\n",
    "df_filtrado = df_filtrado.withColumn(\n",
    "    \"estrato_id\",\n",
    "    concat_ws(\"_\", \"Severity\", \"Hora_Periodo\", \"Tipo_Día\", \"Weather_Type\")\n",
    ")\n",
    "\n",
    "# Igual en la tabla de estratos con probabilidades y n_estrato\n",
    "estratos = estratos.withColumn(\n",
    "    \"estrato_id\",\n",
    "    concat_ws(\"_\", \"Severity\", \"Hora_Periodo\", \"Tipo_Día\", \"Weather_Type\")\n",
    ")\n",
    "\n",
    "df_muestreo = df_filtrado.join(\n",
    "    estratos.select(\"estrato_id\", \"n_estrato\"),\n",
    "    on=\"estrato_id\",\n",
    "    how=\"inner\"\n",
    ")"
   ],
   "id": "aa58838f80c51a3e",
   "outputs": [],
   "execution_count": 9
  },
  {
   "metadata": {},
   "cell_type": "markdown",
   "source": "Ordenamos de forma aleatoria los elementos dentro de cada estrato.",
   "id": "6d4231122e864a3f"
  },
  {
   "metadata": {
    "ExecuteTime": {
     "end_time": "2025-06-08T22:21:40.961117Z",
     "start_time": "2025-06-08T22:21:40.921442Z"
    }
   },
   "cell_type": "code",
   "source": [
    "# Asignar un número aleatorio y calcular el orden por estrato\n",
    "df_muestreo = df_muestreo.withColumn(\"rand\", rand(seed=42))\n",
    "\n",
    "window = Window.partitionBy(\"estrato_id\").orderBy(\"rand\")\n",
    "\n",
    "df_muestreo = df_muestreo.withColumn(\"row_num\", row_number().over(window))"
   ],
   "id": "7ad42b534dd1578f",
   "outputs": [],
   "execution_count": 10
  },
  {
   "metadata": {},
   "cell_type": "markdown",
   "source": "Finalmente, creamos nuestro data frame con la muestra a utilizar, incluyendo sólamente el número de elementos correspondiente a cada estrato.",
   "id": "855c79fda378ce16"
  },
  {
   "metadata": {
    "ExecuteTime": {
     "end_time": "2025-06-08T22:22:08.056131Z",
     "start_time": "2025-06-08T22:22:08.043508Z"
    }
   },
   "cell_type": "code",
   "source": "df_muestra_final = df_muestreo.filter(col(\"row_num\") <= col(\"n_estrato\"))",
   "id": "17fc812df608fde7",
   "outputs": [],
   "execution_count": 11
  },
  {
   "metadata": {},
   "cell_type": "markdown",
   "source": "Una vez construida la muestra, podemos persistir el dataframe para que PySpark optimice las transformaciones posteriores. Al persistir el DataFrame, nos aseguramos de \"congelar\" su estado actual, de modo que cualquier operación posterior tenga un punto de partida definido.",
   "id": "37faf71b4249ef5f"
  },
  {
   "metadata": {
    "ExecuteTime": {
     "end_time": "2025-06-08T22:22:55.073448Z",
     "start_time": "2025-06-08T22:22:55.006895Z"
    }
   },
   "cell_type": "code",
   "source": "df_muestra_final = df_muestra_final.persist()",
   "id": "8d2c3fe3d1597e49",
   "outputs": [],
   "execution_count": 12
  },
  {
   "metadata": {
    "ExecuteTime": {
     "end_time": "2025-06-08T22:26:39.043758Z",
     "start_time": "2025-06-08T22:24:22.354499Z"
    }
   },
   "cell_type": "code",
   "source": "df_muestra_final.summary()",
   "id": "85e7ddfb3e995258",
   "outputs": [
    {
     "data": {
      "text/plain": [
       "+-------+--------------------+---------+-------+------------------+-----------------+-------------------+------------------+------------------+------------------+--------------------+------------------+----------+---------+------+-----------------+-------+----------+------------+------------------+------------------+------------------+------------------+-----------------+--------------+------------------+--------------------+------------------+--------------+--------------+-----------------+---------------------+------------+--------------+----------+-------------+------------------+--------------------+-----------------+\n",
       "|summary|          estrato_id|       ID| Source|          Severity|        Start_Lat|          Start_Lng|           End_Lat|           End_Lng|      Distance(mi)|         Description|            Street|      City|   County| State|          Zipcode|Country|  Timezone|Airport_Code|    Temperature(F)|     Wind_Chill(F)|       Humidity(%)|      Pressure(in)|   Visibility(mi)|Wind_Direction|   Wind_Speed(mph)|   Precipitation(in)| Weather_Condition|Sunrise_Sunset|Civil_Twilight|Nautical_Twilight|Astronomical_Twilight|Weather_Type|  Hora_Periodo|Dia_Semana|     Tipo_Día|         n_estrato|                rand|          row_num|\n",
       "+-------+--------------------+---------+-------+------------------+-----------------+-------------------+------------------+------------------+------------------+--------------------+------------------+----------+---------+------+-----------------+-------+----------+------------+------------------+------------------+------------------+------------------+-----------------+--------------+------------------+--------------------+------------------+--------------+--------------+-----------------+---------------------+------------+--------------+----------+-------------+------------------+--------------------+-----------------+\n",
       "|  count|              700002|   700002| 700002|            700002|           700002|             700002|            391996|            391996|            700002|              700002|            698982|    699982|   700002|700002|           699811| 700002|    699316|      697949|            685177|            519804|            684253|            687247|           684059|        684190|            648393|              500929|            684295|        697851|        697851|           697851|               697851|      700002|        700002|    700002|       700002|            700002|              700002|           700002|\n",
       "|   mean|                NULL|     NULL|   NULL|2.2123879646058153|36.20058929809544| -94.74254953105964|36.265858542408736| -95.7713387015675|0.5608824946297238|              1125.0| 16.11111111111111|      NULL|     NULL|  NULL|56929.56930300492|   NULL|      NULL|        NULL|61.661120995013064| 58.26194257835607| 64.84403868159876| 29.53710660068335|9.088082329155812|          NULL|  7.68810289438677|0.008400611663528686|              NULL|          NULL|          NULL|             NULL|                 NULL|        NULL|          NULL|      NULL|         NULL|147550.76731780765| 0.04514895001000899|73775.88365890383|\n",
       "| stddev|                NULL|     NULL|   NULL|0.4875325906147882|5.076309879544255| 17.389714575673363| 5.272433443792053|18.109168518529042|1.7464717123115208|                 0.0|21.286406721452803|      NULL|     NULL|  NULL|30942.08395656223|   NULL|      NULL|        NULL|18.991706877564482|22.341339079630817|22.811148124145966|1.0102395089087557| 2.67222751372269|          NULL|5.3425206394322435| 0.10952762787968141|              NULL|          NULL|          NULL|             NULL|                 NULL|        NULL|          NULL|      NULL|         NULL| 130262.8793654788|0.026060406137104284|86431.53889983587|\n",
       "|    min|1_Alta actividad_...|A-1000017|Source1|                 1|         24.57124|        -124.539056|          24.57124|       -124.543727|               0.0|         3 VEHS 1125|           1/2 Ave|Aaronsburg|Abbeville|    AL|            01001|     US|US/Central|        K01M|             -89.0|             -89.0|               1.0|              2.99|              0.0|          CALM|               0.0|                 0.0|      Blowing Dust|           Day|           Day|              Day|                  Day|     Adverso|Alta actividad|       Fri|Fin de semana|                 1|1.023707092429049...|                1|\n",
       "|    25%|                NULL|     NULL|   NULL|                 2|        33.392651|-117.22788200000001|          33.46208|       -117.761818|               0.0|              1125.0|               1.0|      NULL|     NULL|  NULL|          29805.0|   NULL|      NULL|        NULL|              49.0|              43.0|              48.0|             29.37|             10.0|          NULL|               4.6|                 0.0|              NULL|          NULL|          NULL|             NULL|                 NULL|        NULL|          NULL|      NULL|         NULL|             35092| 0.02257235172157579|             8298|\n",
       "|    50%|                NULL|     NULL|   NULL|                 2|        35.824371|         -87.846293|         36.194927|          -88.0633|              0.03|              1125.0|               8.0|      NULL|     NULL|  NULL|          55439.0|   NULL|      NULL|        NULL|              64.0|              62.0|              67.0|             29.86|             10.0|          NULL|               7.0|                 0.0|              NULL|          NULL|          NULL|             NULL|                 NULL|        NULL|          NULL|      NULL|         NULL|             69666| 0.04515628896162205|            33071|\n",
       "|    75%|                NULL|     NULL|   NULL|                 2|        40.082291|         -80.364859| 40.17300192005061|        -80.252971|             0.464|              1125.0|              14.0|      NULL|     NULL|  NULL|          90720.0|   NULL|      NULL|        NULL|              76.0|              75.0|              84.0|             30.03|             10.0|          NULL|              10.4|                 0.0|              NULL|          NULL|          NULL|             NULL|                 NULL|        NULL|          NULL|      NULL|         NULL|            297539| 0.06773285664924122|           122478|\n",
       "|    max|4_Tarde-Noche_Lab...| A-999981|Source3|                 4|         49.00056| -67.55330699999999|          49.00076|        -67.739817| 183.1199951171875| The road is clos...|           Zuni St|   Zwingle|   Zavala|    WY|       99401-9712|     US|US/Pacific|        KZZV|             196.0|             196.0|             100.0|             58.63|            120.0|          West|             580.0|                24.0|Wintry Mix / Windy|         Night|         Night|            Night|                Night|   Favorable|   Tarde-Noche|       Wed|      Laboral|            297539|  0.2682506107798195|           297539|\n",
       "+-------+--------------------+---------+-------+------------------+-----------------+-------------------+------------------+------------------+------------------+--------------------+------------------+----------+---------+------+-----------------+-------+----------+------------+------------------+------------------+------------------+------------------+-----------------+--------------+------------------+--------------------+------------------+--------------+--------------+-----------------+---------------------+------------+--------------+----------+-------------+------------------+--------------------+-----------------+"
      ],
      "text/html": [
       "<table border='1'>\n",
       "<tr><th>summary</th><th>estrato_id</th><th>ID</th><th>Source</th><th>Severity</th><th>Start_Lat</th><th>Start_Lng</th><th>End_Lat</th><th>End_Lng</th><th>Distance(mi)</th><th>Description</th><th>Street</th><th>City</th><th>County</th><th>State</th><th>Zipcode</th><th>Country</th><th>Timezone</th><th>Airport_Code</th><th>Temperature(F)</th><th>Wind_Chill(F)</th><th>Humidity(%)</th><th>Pressure(in)</th><th>Visibility(mi)</th><th>Wind_Direction</th><th>Wind_Speed(mph)</th><th>Precipitation(in)</th><th>Weather_Condition</th><th>Sunrise_Sunset</th><th>Civil_Twilight</th><th>Nautical_Twilight</th><th>Astronomical_Twilight</th><th>Weather_Type</th><th>Hora_Periodo</th><th>Dia_Semana</th><th>Tipo_D&iacute;a</th><th>n_estrato</th><th>rand</th><th>row_num</th></tr>\n",
       "<tr><td>count</td><td>700002</td><td>700002</td><td>700002</td><td>700002</td><td>700002</td><td>700002</td><td>391996</td><td>391996</td><td>700002</td><td>700002</td><td>698982</td><td>699982</td><td>700002</td><td>700002</td><td>699811</td><td>700002</td><td>699316</td><td>697949</td><td>685177</td><td>519804</td><td>684253</td><td>687247</td><td>684059</td><td>684190</td><td>648393</td><td>500929</td><td>684295</td><td>697851</td><td>697851</td><td>697851</td><td>697851</td><td>700002</td><td>700002</td><td>700002</td><td>700002</td><td>700002</td><td>700002</td><td>700002</td></tr>\n",
       "<tr><td>mean</td><td>NULL</td><td>NULL</td><td>NULL</td><td>2.2123879646058153</td><td>36.20058929809544</td><td>-94.74254953105964</td><td>36.265858542408736</td><td>-95.7713387015675</td><td>0.5608824946297238</td><td>1125.0</td><td>16.11111111111111</td><td>NULL</td><td>NULL</td><td>NULL</td><td>56929.56930300492</td><td>NULL</td><td>NULL</td><td>NULL</td><td>61.661120995013064</td><td>58.26194257835607</td><td>64.84403868159876</td><td>29.53710660068335</td><td>9.088082329155812</td><td>NULL</td><td>7.68810289438677</td><td>0.008400611663528686</td><td>NULL</td><td>NULL</td><td>NULL</td><td>NULL</td><td>NULL</td><td>NULL</td><td>NULL</td><td>NULL</td><td>NULL</td><td>147550.76731780765</td><td>0.04514895001000899</td><td>73775.88365890383</td></tr>\n",
       "<tr><td>stddev</td><td>NULL</td><td>NULL</td><td>NULL</td><td>0.4875325906147882</td><td>5.076309879544255</td><td>17.389714575673363</td><td>5.272433443792053</td><td>18.109168518529042</td><td>1.7464717123115208</td><td>0.0</td><td>21.286406721452803</td><td>NULL</td><td>NULL</td><td>NULL</td><td>30942.08395656223</td><td>NULL</td><td>NULL</td><td>NULL</td><td>18.991706877564482</td><td>22.341339079630817</td><td>22.811148124145966</td><td>1.0102395089087557</td><td>2.67222751372269</td><td>NULL</td><td>5.3425206394322435</td><td>0.10952762787968141</td><td>NULL</td><td>NULL</td><td>NULL</td><td>NULL</td><td>NULL</td><td>NULL</td><td>NULL</td><td>NULL</td><td>NULL</td><td>130262.8793654788</td><td>0.026060406137104284</td><td>86431.53889983587</td></tr>\n",
       "<tr><td>min</td><td>1_Alta actividad_...</td><td>A-1000017</td><td>Source1</td><td>1</td><td>24.57124</td><td>-124.539056</td><td>24.57124</td><td>-124.543727</td><td>0.0</td><td> 3 VEHS 1125</td><td> 1/2 Ave</td><td>Aaronsburg</td><td>Abbeville</td><td>AL</td><td>01001</td><td>US</td><td>US/Central</td><td>K01M</td><td>-89.0</td><td>-89.0</td><td>1.0</td><td>2.99</td><td>0.0</td><td>CALM</td><td>0.0</td><td>0.0</td><td>Blowing Dust</td><td>Day</td><td>Day</td><td>Day</td><td>Day</td><td>Adverso</td><td>Alta actividad</td><td>Fri</td><td>Fin de semana</td><td>1</td><td>1.023707092429049...</td><td>1</td></tr>\n",
       "<tr><td>25%</td><td>NULL</td><td>NULL</td><td>NULL</td><td>2</td><td>33.392651</td><td>-117.22788200000001</td><td>33.46208</td><td>-117.761818</td><td>0.0</td><td>1125.0</td><td>1.0</td><td>NULL</td><td>NULL</td><td>NULL</td><td>29805.0</td><td>NULL</td><td>NULL</td><td>NULL</td><td>49.0</td><td>43.0</td><td>48.0</td><td>29.37</td><td>10.0</td><td>NULL</td><td>4.6</td><td>0.0</td><td>NULL</td><td>NULL</td><td>NULL</td><td>NULL</td><td>NULL</td><td>NULL</td><td>NULL</td><td>NULL</td><td>NULL</td><td>35092</td><td>0.02257235172157579</td><td>8298</td></tr>\n",
       "<tr><td>50%</td><td>NULL</td><td>NULL</td><td>NULL</td><td>2</td><td>35.824371</td><td>-87.846293</td><td>36.194927</td><td>-88.0633</td><td>0.03</td><td>1125.0</td><td>8.0</td><td>NULL</td><td>NULL</td><td>NULL</td><td>55439.0</td><td>NULL</td><td>NULL</td><td>NULL</td><td>64.0</td><td>62.0</td><td>67.0</td><td>29.86</td><td>10.0</td><td>NULL</td><td>7.0</td><td>0.0</td><td>NULL</td><td>NULL</td><td>NULL</td><td>NULL</td><td>NULL</td><td>NULL</td><td>NULL</td><td>NULL</td><td>NULL</td><td>69666</td><td>0.04515628896162205</td><td>33071</td></tr>\n",
       "<tr><td>75%</td><td>NULL</td><td>NULL</td><td>NULL</td><td>2</td><td>40.082291</td><td>-80.364859</td><td>40.17300192005061</td><td>-80.252971</td><td>0.464</td><td>1125.0</td><td>14.0</td><td>NULL</td><td>NULL</td><td>NULL</td><td>90720.0</td><td>NULL</td><td>NULL</td><td>NULL</td><td>76.0</td><td>75.0</td><td>84.0</td><td>30.03</td><td>10.0</td><td>NULL</td><td>10.4</td><td>0.0</td><td>NULL</td><td>NULL</td><td>NULL</td><td>NULL</td><td>NULL</td><td>NULL</td><td>NULL</td><td>NULL</td><td>NULL</td><td>297539</td><td>0.06773285664924122</td><td>122478</td></tr>\n",
       "<tr><td>max</td><td>4_Tarde-Noche_Lab...</td><td>A-999981</td><td>Source3</td><td>4</td><td>49.00056</td><td>-67.55330699999999</td><td>49.00076</td><td>-67.739817</td><td>183.1199951171875</td><td>&nbsp;The road is clos...</td><td>Zuni St</td><td>Zwingle</td><td>Zavala</td><td>WY</td><td>99401-9712</td><td>US</td><td>US/Pacific</td><td>KZZV</td><td>196.0</td><td>196.0</td><td>100.0</td><td>58.63</td><td>120.0</td><td>West</td><td>580.0</td><td>24.0</td><td>Wintry Mix / Windy</td><td>Night</td><td>Night</td><td>Night</td><td>Night</td><td>Favorable</td><td>Tarde-Noche</td><td>Wed</td><td>Laboral</td><td>297539</td><td>0.2682506107798195</td><td>297539</td></tr>\n",
       "</table>\n"
      ]
     },
     "execution_count": 13,
     "metadata": {},
     "output_type": "execute_result"
    }
   ],
   "execution_count": 13
  },
  {
   "metadata": {},
   "cell_type": "markdown",
   "source": "## 2. Construcción Train - Test",
   "id": "9ace85ec07ed7c76"
  },
  {
   "metadata": {},
   "cell_type": "markdown",
   "source": [
    "Previo a la construcción de los conjuntos train y test, vamos a realizar una limpieza de datos.\n",
    "Esto consiste en:\n",
    "- Eliminar columnas con metadatos que no proporcionarán valor a ningún modelo\n",
    "- Eliminar columnas que son redundantes con otras columnas en el conjunto de datos\n",
    "- Eliminar columnas donde más del 5% de los registros son valores faltantes\n",
    "- De las columnas restantes, eliminar los registros donde existan valores faltantes"
   ],
   "id": "11d04e454f719fa9"
  },
  {
   "metadata": {
    "ExecuteTime": {
     "end_time": "2025-06-08T22:27:10.749443Z",
     "start_time": "2025-06-08T22:27:10.745274Z"
    }
   },
   "cell_type": "code",
   "source": [
    "# Comenzamos con la limpieza de las columnas agregadas para el sub muestreo\n",
    "cols_to_drop = ['ID', 'estrato_id', 'n_estrato', 'rand', 'row_num', 'rand', 'Source']\n"
   ],
   "id": "ab68c559a24015f3",
   "outputs": [],
   "execution_count": 14
  },
  {
   "metadata": {
    "ExecuteTime": {
     "end_time": "2025-06-08T22:27:38.555355Z",
     "start_time": "2025-06-08T22:27:38.551665Z"
    }
   },
   "cell_type": "code",
   "source": [
    "# Ahora las columnas irrelevantes o redundantes.\n",
    "cols_to_drop += ['Start_Lng', 'End_Lng', 'Start_Lat', 'End_Lat', 'Street', 'City', 'County', 'State', 'Zipcode', 'Country', 'Timezone', 'Airport_Code', 'Weather_Timestamp', 'Civil_Twilight', 'Nautical_Twilight', 'Astronomical_Twilight', 'Wind_Chill(F)', 'Description', 'Wind_Direction', 'Sunrise_Sunset']\n"
   ],
   "id": "8fd48956e45998a9",
   "outputs": [],
   "execution_count": 15
  },
  {
   "metadata": {
    "ExecuteTime": {
     "end_time": "2025-06-08T22:28:29.175458Z",
     "start_time": "2025-06-08T22:28:05.318312Z"
    }
   },
   "cell_type": "code",
   "source": [
    "# Ignoramos las columnas que ya identificamos como columnas a remover\n",
    "cols = [c for c in df_muestra_final.columns if c not in cols_to_drop]\n",
    "total = df_muestra_final.count()\n",
    "\n",
    "for c in cols:\n",
    "    n_missing = df_muestra_final.filter(col(c).isNull()).count()\n",
    "    if n_missing > (total*0.05):\n",
    "        print(f'Dropping column {c}')\n",
    "        cols_to_drop.append(c)\n"
   ],
   "id": "a74d47d15b89a9c5",
   "outputs": [
    {
     "name": "stdout",
     "output_type": "stream",
     "text": [
      "Dropping column Wind_Speed(mph)\n",
      "Dropping column Precipitation(in)\n"
     ]
    }
   ],
   "execution_count": 16
  },
  {
   "metadata": {
    "ExecuteTime": {
     "end_time": "2025-06-08T22:28:58.752217Z",
     "start_time": "2025-06-08T22:28:58.731029Z"
    }
   },
   "cell_type": "code",
   "source": [
    "cols = [c for c in df_muestra_final.columns if c not in cols_to_drop]\n",
    "df_muestra_final = df_muestra_final.dropna(subset=cols)"
   ],
   "id": "e8944d5086cafe2f",
   "outputs": [],
   "execution_count": 17
  },
  {
   "metadata": {},
   "cell_type": "markdown",
   "source": "Una vez realizada la limpieza de datos, podemos proceder a crear nuestros conjuntos de train y test. Para este ejercicio, se utilizará una proporción de 80/20, la cual es comúnmnente utilizada en problemas de aprendizaje de máquina.",
   "id": "5cd169933d2af7de"
  },
  {
   "metadata": {
    "ExecuteTime": {
     "end_time": "2025-06-08T22:29:32.733119Z",
     "start_time": "2025-06-08T22:29:26.943699Z"
    }
   },
   "cell_type": "code",
   "source": [
    "train_data,test_data = df_muestra_final.randomSplit([0.8,0.2], seed = 42)\n",
    "print(f\"\"\"Existen {train_data.count()} instancias en el conjunto train, y {test_data.count()} en el conjunto test\"\"\")"
   ],
   "id": "49feea82b4341b9c",
   "outputs": [
    {
     "name": "stdout",
     "output_type": "stream",
     "text": [
      "Existen 543010 instancias en el conjunto train, y 135600 en el conjunto test\n"
     ]
    }
   ],
   "execution_count": 18
  },
  {
   "metadata": {},
   "cell_type": "markdown",
   "source": "## 3. Selección de métricas para medir calidad de resultados",
   "id": "7daa542c847581cc"
  },
  {
   "metadata": {},
   "cell_type": "markdown",
   "source": [
    "El modelo de aprendizaje automático a crear durante este ejercicio será un modelo de clasificación binaria. La intención de este modelo es predecir si un accidente será de baja o alta severidad, basado en las condiciones bajo las cuales sucedió.\n",
    "\n",
    "El caso de uso hipotético para este modelo es por parte de los equipos de respuesta a accidentes; la intención será que, una vez recibido un reporte de accidente, puedan utilizar este modelo para predecir su severidad y priorizar los recursos de respuesta de forma apropiada e informada.\n",
    "\n",
    "Debido a que se trata de un modelo de clasificación binaria, se utilizarán las siguientes métricas para evaluar la calidad del modelo:\n",
    "- Accuracy\n",
    "- Precision\n",
    "- Recall\n",
    "- F1-Score\n",
    "\n",
    "Además, considerando el contexto del problema, la métrica para la cual se busca optimizar será recall. Esto es debido a que se busca reducir la cantidad de falsos negativos; es decir, reducir la cantidad de accidentes de alta severidad que son catalogados como baja severidad. El razonamiento detrás de esta decisión es que el costo de un falso negativo (no atender inmediatamente un accidente grave) es mayor que el costo de un falso positivo (atender inmediatamente un accidente leve)."
   ],
   "id": "1c1a7ee295f612f0"
  },
  {
   "metadata": {},
   "cell_type": "markdown",
   "source": "## 4. Entrenamiento de Modelos de Aprendizaje",
   "id": "6dd9b5bf6ad2b873"
  },
  {
   "metadata": {},
   "cell_type": "markdown",
   "source": [
    "Antes de comenzar a entrenar nuestro modelo, se realizará preprocesamiento básico del dataset con la finalidad de prepararlo para el entrenamiento.\n",
    "\n",
    "La primera transformación consiste en crear una columna \"Minutes\" calculada a partir del tiempo de inicio y final de los accidentes. En el caso de uso hipotético en el que los equipos de respuesta utilizarán este modelo, la columna se calculará a partir de la hora a la que se reportó el accidente y la hora actual."
   ],
   "id": "11d4c2c82857e107"
  },
  {
   "metadata": {
    "ExecuteTime": {
     "end_time": "2025-06-08T22:30:00.924378Z",
     "start_time": "2025-06-08T22:30:00.880632Z"
    }
   },
   "cell_type": "code",
   "source": [
    "train_data = train_data.withColumn('Minutes', (col('End_Time').cast('long') - col('Start_Time').cast('long')) / 60)\n",
    "test_data = train_data.withColumn('Minutes', (col('End_Time').cast('long') - col('Start_Time').cast('long')) / 60)"
   ],
   "id": "5632afad29d89851",
   "outputs": [],
   "execution_count": 19
  },
  {
   "metadata": {},
   "cell_type": "markdown",
   "source": "Ahora procedemos a eliminar outliers mediante la técnica IQR. Esto lo aplicaremos a las columnas Minutes y Distance.",
   "id": "154d6160f39daf0b"
  },
  {
   "metadata": {
    "ExecuteTime": {
     "end_time": "2025-06-08T22:30:32.588143Z",
     "start_time": "2025-06-08T22:30:28.726187Z"
    }
   },
   "cell_type": "code",
   "source": [
    "# Calculate Q1 and Q3\n",
    "quantiles = train_data.select(\n",
    "    percentile_approx('Minutes', [0.25, 0.75], 10000).alias('quantiles')\n",
    ").collect()[0]['quantiles']\n",
    "\n",
    "Q1 = quantiles[0]\n",
    "Q3 = quantiles[1]\n",
    "IQR = Q3 - Q1\n",
    "\n",
    "# Filter out outliers\n",
    "train_data = train_data.filter(\n",
    "    (col('Minutes') >= Q1 - 1.5 * IQR) &\n",
    "    (col('Minutes') <= Q3 + 1.5 * IQR)\n",
    ")\n",
    "test_data = test_data.filter(\n",
    "    (col('Minutes') >= Q1 - 1.5 * IQR) &\n",
    "    (col('Minutes') <= Q3 + 1.5 * IQR)\n",
    ")"
   ],
   "id": "82d143c5eaba7350",
   "outputs": [],
   "execution_count": 20
  },
  {
   "metadata": {
    "ExecuteTime": {
     "end_time": "2025-06-08T22:31:04.473628Z",
     "start_time": "2025-06-08T22:31:00.816772Z"
    }
   },
   "cell_type": "code",
   "source": [
    "# Calculate Q1 and Q3\n",
    "quantiles = train_data.select(\n",
    "    percentile_approx('Distance(mi)', [0.25, 0.75], 10000).alias('quantiles')\n",
    ").collect()[0]['quantiles']\n",
    "\n",
    "Q1 = quantiles[0]\n",
    "Q3 = quantiles[1]\n",
    "IQR = Q3 - Q1\n",
    "\n",
    "# Filter out outliers\n",
    "train_data = train_data.filter(\n",
    "    (col('Distance(mi)') >= Q1 - 1.5 * IQR) &\n",
    "    (col('Distance(mi)') <= Q3 + 1.5 * IQR)\n",
    ")\n",
    "test_data = test_data.filter(\n",
    "    (col('Distance(mi)') >= Q1 - 1.5 * IQR) &\n",
    "    (col('Distance(mi)') <= Q3 + 1.5 * IQR)\n",
    ")"
   ],
   "id": "884e0b4bd86f7433",
   "outputs": [],
   "execution_count": 21
  },
  {
   "metadata": {},
   "cell_type": "markdown",
   "source": "Ahora procedemos a crear nuestra columna objetivo a partir de la columna Severity. Para este ejercicio, severidades 1 y 2 se considerarán como accidentes leves, mientras que las severidades 3 y 4 se considerarán accidentes graves.",
   "id": "730a8728a4e2d60d"
  },
  {
   "metadata": {
    "ExecuteTime": {
     "end_time": "2025-06-08T22:31:32.940197Z",
     "start_time": "2025-06-08T22:31:32.905180Z"
    }
   },
   "cell_type": "code",
   "source": [
    "train_data = train_data.withColumn('IsSevere', (col('Severity') > 2).cast(\"double\"))\n",
    "test_data = test_data.withColumn('IsSevere', (col('Severity') > 2).cast(\"double\"))"
   ],
   "id": "2ee563d6aeedf781",
   "outputs": [],
   "execution_count": 22
  },
  {
   "metadata": {},
   "cell_type": "markdown",
   "source": "Ahora bien, procedemos a crear nuestro vector de características. Para este ejercicio, consideraremos las variables numéricas Distance, Visibility y Minutes; así como las variables categóricas Weather_Type, Hora_Periodo y Tipo_Día.",
   "id": "b4fe92c108c2cfc1"
  },
  {
   "metadata": {},
   "cell_type": "markdown",
   "source": "Para las variables numéricas, aplicamos escalamiento estándar.",
   "id": "162f97037b01a292"
  },
  {
   "metadata": {
    "ExecuteTime": {
     "end_time": "2025-06-08T22:32:04.003306Z",
     "start_time": "2025-06-08T22:32:00.431564Z"
    }
   },
   "cell_type": "code",
   "source": [
    "cols_to_scale = ['Distance(mi)', 'Visibility(mi)', 'Minutes']\n",
    "\n",
    "vectorizer = VectorAssembler(inputCols=cols_to_scale, outputCol=\"numerical_features\")\n",
    "train_data = vectorizer.transform(train_data)\n",
    "test_data = vectorizer.transform(test_data)\n",
    "\n",
    "scaler = StandardScaler(inputCol=\"numerical_features\", outputCol=\"scaled_features\")\n",
    "fitted_scaler = scaler.fit(train_data)\n",
    "train_data = fitted_scaler.transform(train_data)\n",
    "test_data = fitted_scaler.transform(test_data)\n"
   ],
   "id": "bb7cbde2ae8785f3",
   "outputs": [],
   "execution_count": 23
  },
  {
   "metadata": {},
   "cell_type": "markdown",
   "source": "Por su parte, las variables categóricas deben ser indexadas primero, para posteriormente codificar mediante One Hot encoding.",
   "id": "fe721abe4ce2ed3d"
  },
  {
   "metadata": {
    "ExecuteTime": {
     "end_time": "2025-06-08T22:32:45.872362Z",
     "start_time": "2025-06-08T22:32:31.987513Z"
    }
   },
   "cell_type": "code",
   "source": [
    "categorical_columns = ['Weather_Type', 'Dia_Semana', 'Tipo_Día', 'Hora_Periodo']\n",
    "\n",
    "# Primero convertimos todas las columnas a índices\n",
    "for c in categorical_columns:\n",
    "    indexer = StringIndexer(inputCol=c, outputCol=f\"{c}_index\", handleInvalid='keep')\n",
    "    fitted_indexer = indexer.fit(train_data)\n",
    "    train_data = fitted_indexer.transform(train_data)\n",
    "    test_data = fitted_indexer.transform(test_data)"
   ],
   "id": "e9db7eaf61ec30fd",
   "outputs": [],
   "execution_count": 24
  },
  {
   "metadata": {
    "ExecuteTime": {
     "end_time": "2025-06-08T22:33:14.441225Z",
     "start_time": "2025-06-08T22:33:14.327592Z"
    }
   },
   "cell_type": "code",
   "source": [
    "categorical_index_cols = [f\"{c}_index\" for c in categorical_columns]\n",
    "\n",
    "encoder = OneHotEncoder(inputCols=categorical_index_cols, outputCols=[f\"{c}_vector\" for c in categorical_columns], handleInvalid='keep')\n",
    "fitted_encoder = encoder.fit(train_data)\n",
    "train_data = fitted_encoder.transform(train_data)\n",
    "test_data = fitted_encoder.transform(test_data)"
   ],
   "id": "64210510ed5aa8e7",
   "outputs": [],
   "execution_count": 25
  },
  {
   "metadata": {},
   "cell_type": "markdown",
   "source": "Ahora creamos un solo vector que contenga las características para entrenar nuestro modelo.",
   "id": "3c0ddf708ca545d8"
  },
  {
   "metadata": {
    "ExecuteTime": {
     "end_time": "2025-06-08T22:33:42.402450Z",
     "start_time": "2025-06-08T22:33:42.337858Z"
    }
   },
   "cell_type": "code",
   "source": [
    "cols_to_vectorize = ['Weather_Type_vector', 'Tipo_Día_vector', 'Hora_Periodo_vector', 'Severity', 'scaled_features']\n",
    "vectorizer = VectorAssembler(inputCols=cols_to_vectorize, outputCol=\"input_features\")\n",
    "train_data = vectorizer.transform(train_data)\n",
    "test_data = vectorizer.transform(test_data)"
   ],
   "id": "a847686e4f5167bf",
   "outputs": [],
   "execution_count": 26
  },
  {
   "metadata": {},
   "cell_type": "markdown",
   "source": "Debido a que se trata de un problema no balanceado, podemos agregar peso a nuestras clases. Esto evitará sesgos a favor de la clase mayoritaria.",
   "id": "c796842a3db30919"
  },
  {
   "metadata": {
    "ExecuteTime": {
     "end_time": "2025-06-08T22:34:15.969556Z",
     "start_time": "2025-06-08T22:34:10.237645Z"
    }
   },
   "cell_type": "code",
   "source": [
    "severe_percentage = test_data.where(col('IsSevere') == 1).count() / test_data.count()\n",
    "severe_weight = 1 - severe_percentage\n",
    "print(\"Weights:\")\n",
    "print(f\"Severe: {severe_weight}\")\n",
    "print(f\"Not severe: {1 - severe_weight}\")\n",
    "\n",
    "train_data = train_data.withColumn('weight', when(col('IsSevere') == 1, severe_weight).otherwise((1-severe_weight)))\n",
    "test_data = test_data.withColumn('weight', when(col('IsSevere') == 1, severe_weight).otherwise((1-severe_weight)))"
   ],
   "id": "8e0c1140b1bd08e5",
   "outputs": [
    {
     "name": "stdout",
     "output_type": "stream",
     "text": [
      "Weights:\n",
      "Severe: 0.7980840559994122\n",
      "Not severe: 0.20191594400058777\n"
     ]
    }
   ],
   "execution_count": 27
  },
  {
   "metadata": {},
   "cell_type": "markdown",
   "source": "Finalmente, podemos crear un modelo de clasificación. Primero entrenamos con nuestro conjunto de train.",
   "id": "bd5cfb3377184bd1"
  },
  {
   "metadata": {
    "ExecuteTime": {
     "end_time": "2025-06-08T22:35:14.804945Z",
     "start_time": "2025-06-08T22:34:45.695802Z"
    }
   },
   "cell_type": "code",
   "source": "log_regression = LogisticRegression(featuresCol='input_features', labelCol='IsSevere', weightCol='weight').fit(train_data)",
   "id": "5d4acd1aaab04419",
   "outputs": [],
   "execution_count": 28
  },
  {
   "metadata": {},
   "cell_type": "markdown",
   "source": "Posteriormente, obtenemos las predicciones correspondientes al conjunto de test.",
   "id": "e10f97e42f7cbcda"
  },
  {
   "metadata": {
    "ExecuteTime": {
     "end_time": "2025-06-08T22:35:43.510499Z",
     "start_time": "2025-06-08T22:35:43.434760Z"
    }
   },
   "cell_type": "code",
   "source": "test_predictions = log_regression.transform(test_data)",
   "id": "d32b884e7007922d",
   "outputs": [],
   "execution_count": 29
  },
  {
   "metadata": {},
   "cell_type": "markdown",
   "source": "A partir de estas predicciones, podemos obtener las métricas de desempeño. En este caso, utilizaremos el `MultilabelClassificationEvaluator` de PySpark para evaluar nuestras métricas. Este objeto requiere un dataframe con dos columnas en forma de arreglo, una con la predicción y otra con la etiqueta real. Preparamos nuestro dataframe en este formato.",
   "id": "130038790ec27a29"
  },
  {
   "metadata": {
    "ExecuteTime": {
     "end_time": "2025-06-08T22:36:14.585758Z",
     "start_time": "2025-06-08T22:36:14.448055Z"
    }
   },
   "cell_type": "code",
   "source": [
    "label_assembler = VectorAssembler(inputCols=['IsSevere'], outputCol='label')\n",
    "pred_assembler = VectorAssembler(inputCols=['prediction'], outputCol='pred')\n",
    "\n",
    "test_predictions = (pred_assembler.transform(label_assembler.transform(test_predictions))\n",
    "         .select(vector_to_array(col('pred')).alias('pred'), vector_to_array(col('label')).alias('label')))"
   ],
   "id": "79f55c121ef4193e",
   "outputs": [],
   "execution_count": 30
  },
  {
   "metadata": {
    "ExecuteTime": {
     "end_time": "2025-06-08T22:37:02.052133Z",
     "start_time": "2025-06-08T22:36:45.682723Z"
    }
   },
   "cell_type": "code",
   "source": [
    "test_accuracy = MultilabelClassificationEvaluator(predictionCol='pred', labelCol='label', metricName='accuracy').evaluate(test_predictions)\n",
    "test_recall = MultilabelClassificationEvaluator(predictionCol='pred', labelCol='label', metricName='recall').evaluate(test_predictions)\n",
    "test_precision = MultilabelClassificationEvaluator(predictionCol='pred', labelCol='label', metricName='precision').evaluate(test_predictions)\n",
    "test_f1 = MultilabelClassificationEvaluator(predictionCol='pred', labelCol='label', metricName='f1Measure').evaluate(test_predictions)"
   ],
   "id": "1b661faf540dd6db",
   "outputs": [],
   "execution_count": 31
  },
  {
   "metadata": {
    "ExecuteTime": {
     "end_time": "2025-06-08T22:37:33.481154Z",
     "start_time": "2025-06-08T22:37:33.476030Z"
    }
   },
   "cell_type": "code",
   "source": [
    "print(f'Accuracy: {test_accuracy:.3f}')\n",
    "print(f'Recall: {test_recall:.3f}')\n",
    "print(f'Precision: {test_precision:.3f}')\n",
    "print(f'F1: {test_f1:.3f}')"
   ],
   "id": "887b99447c835a98",
   "outputs": [
    {
     "name": "stdout",
     "output_type": "stream",
     "text": [
      "Accuracy: 1.000\n",
      "Recall: 1.000\n",
      "Precision: 1.000\n",
      "F1: 1.000\n"
     ]
    }
   ],
   "execution_count": 32
  },
  {
   "metadata": {},
   "cell_type": "markdown",
   "source": "Repetimos el proceso de evaluación para el conjunto de entrenamiento, con la intención de determinar si nuestro modelo está sobre-ajustado o no. Un modelo sobre-ajustado tendrá un rendimiento significativamente superior con el conjunto de entrenamiento.",
   "id": "3351db107ca17d99"
  },
  {
   "metadata": {
    "ExecuteTime": {
     "end_time": "2025-06-08T22:38:19.439696Z",
     "start_time": "2025-06-08T22:38:03.910856Z"
    }
   },
   "cell_type": "code",
   "source": [
    "train_predictions = log_regression.transform(train_data)\n",
    "train_predictions = (pred_assembler.transform(label_assembler.transform(train_predictions))\n",
    "         .select(vector_to_array(col('pred')).alias('pred'), vector_to_array(col('label')).alias('label')))\n",
    "\n",
    "train_accuracy = MultilabelClassificationEvaluator(predictionCol='pred', labelCol='label', metricName='accuracy').evaluate(train_predictions)\n",
    "train_recall = MultilabelClassificationEvaluator(predictionCol='pred', labelCol='label', metricName='recall').evaluate(train_predictions)\n",
    "train_precision = MultilabelClassificationEvaluator(predictionCol='pred', labelCol='label', metricName='precision').evaluate(train_predictions)\n",
    "train_f1 = MultilabelClassificationEvaluator(predictionCol='pred', labelCol='label', metricName='f1Measure').evaluate(train_predictions)\n",
    "\n",
    "print(f'Accuracy: {train_accuracy:.3f}')\n",
    "print(f'Recall: {train_recall:.3f}')\n",
    "print(f'Precision: {train_precision:.3f}')\n",
    "print(f'F1: {train_f1:.3f}')"
   ],
   "id": "5dd9b5f828ec5124",
   "outputs": [
    {
     "name": "stdout",
     "output_type": "stream",
     "text": [
      "Accuracy: 1.000\n",
      "Recall: 1.000\n",
      "Precision: 1.000\n",
      "F1: 1.000\n"
     ]
    }
   ],
   "execution_count": 33
  },
  {
   "metadata": {},
   "cell_type": "markdown",
   "source": "## 5. Análisis de resultados",
   "id": "16ef2c1633dae5c5"
  },
  {
   "metadata": {},
   "cell_type": "markdown",
   "source": [
    "Como podemos observar, el modelo de regresión logística obtenido a partir de este entrenamiento presenta un rendimiento perfecto, tanto en el conjunto de pruebas como en el conjunto de entrenamiento. Debido a que ambos conjuntos presentan el mismo rendimiento, no se sospecha de sobre-ajuste.\n",
    "\n",
    "Si bien no es común obtener modelos con rendimiento perfecto, existen posibles causas para esto:\n",
    "- La calidad de la información en el conjunto de datos original permite el entrenamiento de un modelo de clasificación perfecto\n",
    "- El preprocesamiento aplicado durante este ejercicio elimina la posibilidad de \"ruido\" que afectaría el rendimiento del modelo\n",
    "\n",
    "Cabe destacar que en este ejercicio se utilizó una muestra de aproximadamente el 10% del conjunto de datos original, por lo que es probable que en caso de incrementar el tamaño de la muestra, el rendimiento del modelo disminuya."
   ],
   "id": "d7abb2a6086b01a1"
  }
 ],
 "metadata": {
  "kernelspec": {
   "display_name": "Python 3",
   "language": "python",
   "name": "python3"
  },
  "language_info": {
   "codemirror_mode": {
    "name": "ipython",
    "version": 2
   },
   "file_extension": ".py",
   "mimetype": "text/x-python",
   "name": "python",
   "nbconvert_exporter": "python",
   "pygments_lexer": "ipython2",
   "version": "2.7.6"
  }
 },
 "nbformat": 4,
 "nbformat_minor": 5
}
