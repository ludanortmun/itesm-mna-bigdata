{
 "cells": [
  {
   "cell_type": "markdown",
   "id": "2d57b5512337920b",
   "metadata": {
    "id": "2d57b5512337920b"
   },
   "source": [
    "# Traffic Accidents analysis\n",
    "\n",
    "## Dataset summary\n",
    "\n",
    "The dataset to use in this exercise is \"US Accidents (2016 - 2023)\" by Sobhan Moosavi, which can be downloaded from Kaggle using this URL: https://www.kaggle.com/datasets/sobhanmoosavi/us-accidents.\n",
    "\n",
    "This dataset contains information about traffic accidents in the United States from 2016 to 2023. It includes various features such as the date and time of the accident, location, weather conditions, and more."
   ]
  },
  {
   "cell_type": "code",
   "id": "705d7887d3550367",
   "metadata": {
    "id": "705d7887d3550367",
    "ExecuteTime": {
     "end_time": "2025-05-24T17:46:47.831315Z",
     "start_time": "2025-05-24T17:46:47.543373Z"
    }
   },
   "source": [
    "import os\n",
    "\n",
    "import kagglehub\n",
    "import matplotlib.pyplot as plt\n",
    "import seaborn as sns\n",
    "from pyspark.sql import SparkSession\n",
    "from pyspark.sql.functions import hour, weekday"
   ],
   "outputs": [
    {
     "name": "stderr",
     "output_type": "stream",
     "text": [
      "C:\\Users\\danie\\anaconda3\\envs\\env_pyspark\\Lib\\site-packages\\tqdm\\auto.py:21: TqdmWarning: IProgress not found. Please update jupyter and ipywidgets. See https://ipywidgets.readthedocs.io/en/stable/user_install.html\n",
      "  from .autonotebook import tqdm as notebook_tqdm\n"
     ]
    }
   ],
   "execution_count": 1
  },
  {
   "cell_type": "markdown",
   "id": "75a9a1975f439e35",
   "metadata": {
    "id": "75a9a1975f439e35"
   },
   "source": [
    "## Downloading the dataset\n",
    "\n",
    "We can leverage the kagglehub package to download the dataset directly from Kaggle. This package allows us to download datasets without needing to manually download them from the Kaggle website."
   ]
  },
  {
   "cell_type": "code",
   "id": "initial_id",
   "metadata": {
    "colab": {
     "base_uri": "https://localhost:8080/"
    },
    "executionInfo": {
     "elapsed": 2414,
     "status": "ok",
     "timestamp": 1746233167618,
     "user": {
      "displayName": "Luis Angel Herrera",
      "userId": "01372399337257934813"
     },
     "user_tz": 360
    },
    "id": "initial_id",
    "outputId": "99c1178d-fe97-403b-d8e8-340e66347ac0",
    "ExecuteTime": {
     "end_time": "2025-05-24T17:46:49.090298Z",
     "start_time": "2025-05-24T17:46:48.282644Z"
    }
   },
   "source": [
    "# Download the latest version\n",
    "path = kagglehub.dataset_download(\"sobhanmoosavi/us-accidents\")\n",
    "\n",
    "print(\"Path to dataset files:\", path)"
   ],
   "outputs": [
    {
     "name": "stdout",
     "output_type": "stream",
     "text": [
      "Path to dataset files: C:\\Users\\danie\\.cache\\kagglehub\\datasets\\sobhanmoosavi\\us-accidents\\versions\\13\n"
     ]
    }
   ],
   "execution_count": 2
  },
  {
   "cell_type": "markdown",
   "id": "dc380606f79efd05",
   "metadata": {
    "id": "dc380606f79efd05"
   },
   "source": [
    "If you have already downloaded the dataset to your local machine, you can set the path to the dataset instead of using the kagglehub package. Uncomment the following line and set the path to your local dataset."
   ]
  },
  {
   "cell_type": "code",
   "id": "f9567287541dbee7",
   "metadata": {
    "id": "f9567287541dbee7",
    "ExecuteTime": {
     "end_time": "2025-05-24T17:46:49.139839Z",
     "start_time": "2025-05-24T17:46:49.136254Z"
    }
   },
   "source": [
    "# path = \"your-local-path\""
   ],
   "outputs": [],
   "execution_count": 3
  },
  {
   "cell_type": "markdown",
   "id": "c460c27f2a41a7c6",
   "metadata": {
    "id": "c460c27f2a41a7c6"
   },
   "source": [
    "This dataset contains a single CSV file named `US_Accidents_March23.csv`. This file contains the data we will be working with in this exercise. Update the path variable to point to this file."
   ]
  },
  {
   "cell_type": "code",
   "id": "314b41611595c912",
   "metadata": {
    "colab": {
     "base_uri": "https://localhost:8080/"
    },
    "executionInfo": {
     "elapsed": 5,
     "status": "ok",
     "timestamp": 1746233167629,
     "user": {
      "displayName": "Luis Angel Herrera",
      "userId": "01372399337257934813"
     },
     "user_tz": 360
    },
    "id": "314b41611595c912",
    "outputId": "cadbbbe3-22f2-49f3-c529-234bf81bb083",
    "ExecuteTime": {
     "end_time": "2025-05-24T17:46:49.157975Z",
     "start_time": "2025-05-24T17:46:49.154351Z"
    }
   },
   "source": [
    "dataset_path = path + \"/US_Accidents_March23.csv\"\n",
    "print(f\"Filesize of the dataset: {os.path.getsize(dataset_path) / (1024 * 1024 * 1024):.2f} GB\")"
   ],
   "outputs": [
    {
     "name": "stdout",
     "output_type": "stream",
     "text": [
      "Filesize of the dataset: 2.85 GB\n"
     ]
    }
   ],
   "execution_count": 4
  },
  {
   "cell_type": "markdown",
   "id": "76c76f644de1ec9a",
   "metadata": {
    "id": "76c76f644de1ec9a"
   },
   "source": [
    "## Loading the dataset with PySpark\n",
    "\n",
    "The first thing we need to do is to create a PySpark session."
   ]
  },
  {
   "cell_type": "code",
   "id": "c89e4c7707f85f79",
   "metadata": {
    "colab": {
     "base_uri": "https://localhost:8080/",
     "height": 221
    },
    "executionInfo": {
     "elapsed": 10145,
     "status": "ok",
     "timestamp": 1746233177774,
     "user": {
      "displayName": "Luis Angel Herrera",
      "userId": "01372399337257934813"
     },
     "user_tz": 360
    },
    "id": "c89e4c7707f85f79",
    "outputId": "48ef7ac2-a16c-4e5f-d51d-1bd8555889d1",
    "ExecuteTime": {
     "end_time": "2025-05-24T17:47:00.460410Z",
     "start_time": "2025-05-24T17:46:49.181897Z"
    }
   },
   "source": [
    "# Create a Spark session\n",
    "spark = SparkSession.builder \\\n",
    "    .appName(\"USTrafficAccidents\") \\\n",
    "    .getOrCreate()\n",
    "\n",
    "spark.conf.set(\"spark.sql.repl.eagerEval.enabled\", True)\n",
    "\n",
    "spark"
   ],
   "outputs": [
    {
     "data": {
      "text/plain": [
       "<pyspark.sql.session.SparkSession at 0x19416a0d130>"
      ],
      "text/html": [
       "\n",
       "            <div>\n",
       "                <p><b>SparkSession - in-memory</b></p>\n",
       "                \n",
       "        <div>\n",
       "            <p><b>SparkContext</b></p>\n",
       "\n",
       "            <p><a href=\"http://raspberrypi:4040\">Spark UI</a></p>\n",
       "\n",
       "            <dl>\n",
       "              <dt>Version</dt>\n",
       "                <dd><code>v3.5.4</code></dd>\n",
       "              <dt>Master</dt>\n",
       "                <dd><code>local[*]</code></dd>\n",
       "              <dt>AppName</dt>\n",
       "                <dd><code>USTrafficAccidents</code></dd>\n",
       "            </dl>\n",
       "        </div>\n",
       "        \n",
       "            </div>\n",
       "        "
      ]
     },
     "execution_count": 5,
     "metadata": {},
     "output_type": "execute_result"
    }
   ],
   "execution_count": 5
  },
  {
   "cell_type": "markdown",
   "id": "967ecf42b7a69d2a",
   "metadata": {
    "id": "967ecf42b7a69d2a"
   },
   "source": [
    "We can now simply load the dataset into a PySpark dataframe:"
   ]
  },
  {
   "cell_type": "code",
   "id": "9bf659e73a95d3cd",
   "metadata": {
    "colab": {
     "base_uri": "https://localhost:8080/"
    },
    "executionInfo": {
     "elapsed": 104184,
     "status": "ok",
     "timestamp": 1746233281956,
     "user": {
      "displayName": "Luis Angel Herrera",
      "userId": "01372399337257934813"
     },
     "user_tz": 360
    },
    "id": "9bf659e73a95d3cd",
    "outputId": "14546bd1-695a-4095-e543-2636af34f661",
    "ExecuteTime": {
     "end_time": "2025-05-24T17:47:12.594835Z",
     "start_time": "2025-05-24T17:47:00.477480Z"
    }
   },
   "source": [
    "# Lectura del dataset US Accidents con encabezado y detección automática de tipos de datos.\n",
    "df = spark.read.csv(dataset_path, header=True, inferSchema=True)\n",
    "\n",
    "# Show the first 5 rows of the DataFrame\n",
    "df.show(5)"
   ],
   "outputs": [
    {
     "name": "stdout",
     "output_type": "stream",
     "text": [
      "+---+-------+--------+-------------------+-------------------+-----------------+------------------+-------+-------+------------+--------------------+--------------------+------------+----------+-----+----------+-------+----------+------------+-------------------+--------------+-------------+-----------+------------+--------------+--------------+---------------+-----------------+-----------------+-------+-----+--------+--------+--------+-------+-------+----------+-------+-----+---------------+--------------+------------+--------------+--------------+-----------------+---------------------+\n",
      "| ID| Source|Severity|         Start_Time|           End_Time|        Start_Lat|         Start_Lng|End_Lat|End_Lng|Distance(mi)|         Description|              Street|        City|    County|State|   Zipcode|Country|  Timezone|Airport_Code|  Weather_Timestamp|Temperature(F)|Wind_Chill(F)|Humidity(%)|Pressure(in)|Visibility(mi)|Wind_Direction|Wind_Speed(mph)|Precipitation(in)|Weather_Condition|Amenity| Bump|Crossing|Give_Way|Junction|No_Exit|Railway|Roundabout|Station| Stop|Traffic_Calming|Traffic_Signal|Turning_Loop|Sunrise_Sunset|Civil_Twilight|Nautical_Twilight|Astronomical_Twilight|\n",
      "+---+-------+--------+-------------------+-------------------+-----------------+------------------+-------+-------+------------+--------------------+--------------------+------------+----------+-----+----------+-------+----------+------------+-------------------+--------------+-------------+-----------+------------+--------------+--------------+---------------+-----------------+-----------------+-------+-----+--------+--------+--------+-------+-------+----------+-------+-----+---------------+--------------+------------+--------------+--------------+-----------------+---------------------+\n",
      "|A-1|Source2|       3|2016-02-08 05:46:00|2016-02-08 11:00:00|        39.865147|        -84.058723|   NULL|   NULL|        0.01|Right lane blocke...|              I-70 E|      Dayton|Montgomery|   OH|     45424|     US|US/Eastern|        KFFO|2016-02-08 05:58:00|          36.9|         NULL|       91.0|       29.68|          10.0|          Calm|           NULL|             0.02|       Light Rain|  false|false|   false|   false|   false|  false|  false|     false|  false|false|          false|         false|       false|         Night|         Night|            Night|                Night|\n",
      "|A-2|Source2|       2|2016-02-08 06:07:59|2016-02-08 06:37:59|39.92805900000001|        -82.831184|   NULL|   NULL|        0.01|Accident on Brice...|            Brice Rd|Reynoldsburg|  Franklin|   OH|43068-3402|     US|US/Eastern|        KCMH|2016-02-08 05:51:00|          37.9|         NULL|      100.0|       29.65|          10.0|          Calm|           NULL|              0.0|       Light Rain|  false|false|   false|   false|   false|  false|  false|     false|  false|false|          false|         false|       false|         Night|         Night|            Night|                  Day|\n",
      "|A-3|Source2|       2|2016-02-08 06:49:27|2016-02-08 07:19:27|        39.063148|        -84.032608|   NULL|   NULL|        0.01|Accident on OH-32...|      State Route 32|Williamsburg|  Clermont|   OH|     45176|     US|US/Eastern|        KI69|2016-02-08 06:56:00|          36.0|         33.3|      100.0|       29.67|          10.0|            SW|            3.5|             NULL|         Overcast|  false|false|   false|   false|   false|  false|  false|     false|  false|false|          false|          true|       false|         Night|         Night|              Day|                  Day|\n",
      "|A-4|Source2|       3|2016-02-08 07:23:34|2016-02-08 07:53:34|        39.747753|-84.20558199999998|   NULL|   NULL|        0.01|Accident on I-75 ...|              I-75 S|      Dayton|Montgomery|   OH|     45417|     US|US/Eastern|        KDAY|2016-02-08 07:38:00|          35.1|         31.0|       96.0|       29.64|           9.0|            SW|            4.6|             NULL|    Mostly Cloudy|  false|false|   false|   false|   false|  false|  false|     false|  false|false|          false|         false|       false|         Night|           Day|              Day|                  Day|\n",
      "|A-5|Source2|       2|2016-02-08 07:39:07|2016-02-08 08:09:07|        39.627781|        -84.188354|   NULL|   NULL|        0.01|Accident on McEwe...|Miamisburg Center...|      Dayton|Montgomery|   OH|     45459|     US|US/Eastern|        KMGY|2016-02-08 07:53:00|          36.0|         33.3|       89.0|       29.65|           6.0|            SW|            3.5|             NULL|    Mostly Cloudy|  false|false|   false|   false|   false|  false|  false|     false|  false|false|          false|          true|       false|           Day|           Day|              Day|                  Day|\n",
      "+---+-------+--------+-------------------+-------------------+-----------------+------------------+-------+-------+------------+--------------------+--------------------+------------+----------+-----+----------+-------+----------+------------+-------------------+--------------+-------------+-----------+------------+--------------+--------------+---------------+-----------------+-----------------+-------+-----+--------+--------+--------+-------+-------+----------+-------+-----+---------------+--------------+------------+--------------+--------------+-----------------+---------------------+\n",
      "only showing top 5 rows\n",
      "\n"
     ]
    }
   ],
   "execution_count": 6
  },
  {
   "cell_type": "markdown",
   "id": "6aebf7f92f684032",
   "metadata": {
    "id": "6aebf7f92f684032"
   },
   "source": [
    "## Exploring the dataset\n",
    "\n",
    "Now that the dataset is loaded, we can explore its contents. We can start by checking the schema of the DataFrame to understand the data types of each column."
   ]
  },
  {
   "cell_type": "code",
   "id": "d532b08463752dd8",
   "metadata": {
    "colab": {
     "base_uri": "https://localhost:8080/"
    },
    "executionInfo": {
     "elapsed": 10,
     "status": "ok",
     "timestamp": 1746233281958,
     "user": {
      "displayName": "Luis Angel Herrera",
      "userId": "01372399337257934813"
     },
     "user_tz": 360
    },
    "id": "d532b08463752dd8",
    "outputId": "855a4386-1196-41ed-aa24-52f96aada1c0",
    "ExecuteTime": {
     "end_time": "2025-05-24T17:47:12.804228Z",
     "start_time": "2025-05-24T17:47:12.797920Z"
    }
   },
   "source": [
    "df.printSchema()"
   ],
   "outputs": [
    {
     "name": "stdout",
     "output_type": "stream",
     "text": [
      "root\n",
      " |-- ID: string (nullable = true)\n",
      " |-- Source: string (nullable = true)\n",
      " |-- Severity: integer (nullable = true)\n",
      " |-- Start_Time: timestamp (nullable = true)\n",
      " |-- End_Time: timestamp (nullable = true)\n",
      " |-- Start_Lat: double (nullable = true)\n",
      " |-- Start_Lng: double (nullable = true)\n",
      " |-- End_Lat: double (nullable = true)\n",
      " |-- End_Lng: double (nullable = true)\n",
      " |-- Distance(mi): double (nullable = true)\n",
      " |-- Description: string (nullable = true)\n",
      " |-- Street: string (nullable = true)\n",
      " |-- City: string (nullable = true)\n",
      " |-- County: string (nullable = true)\n",
      " |-- State: string (nullable = true)\n",
      " |-- Zipcode: string (nullable = true)\n",
      " |-- Country: string (nullable = true)\n",
      " |-- Timezone: string (nullable = true)\n",
      " |-- Airport_Code: string (nullable = true)\n",
      " |-- Weather_Timestamp: timestamp (nullable = true)\n",
      " |-- Temperature(F): double (nullable = true)\n",
      " |-- Wind_Chill(F): double (nullable = true)\n",
      " |-- Humidity(%): double (nullable = true)\n",
      " |-- Pressure(in): double (nullable = true)\n",
      " |-- Visibility(mi): double (nullable = true)\n",
      " |-- Wind_Direction: string (nullable = true)\n",
      " |-- Wind_Speed(mph): double (nullable = true)\n",
      " |-- Precipitation(in): double (nullable = true)\n",
      " |-- Weather_Condition: string (nullable = true)\n",
      " |-- Amenity: boolean (nullable = true)\n",
      " |-- Bump: boolean (nullable = true)\n",
      " |-- Crossing: boolean (nullable = true)\n",
      " |-- Give_Way: boolean (nullable = true)\n",
      " |-- Junction: boolean (nullable = true)\n",
      " |-- No_Exit: boolean (nullable = true)\n",
      " |-- Railway: boolean (nullable = true)\n",
      " |-- Roundabout: boolean (nullable = true)\n",
      " |-- Station: boolean (nullable = true)\n",
      " |-- Stop: boolean (nullable = true)\n",
      " |-- Traffic_Calming: boolean (nullable = true)\n",
      " |-- Traffic_Signal: boolean (nullable = true)\n",
      " |-- Turning_Loop: boolean (nullable = true)\n",
      " |-- Sunrise_Sunset: string (nullable = true)\n",
      " |-- Civil_Twilight: string (nullable = true)\n",
      " |-- Nautical_Twilight: string (nullable = true)\n",
      " |-- Astronomical_Twilight: string (nullable = true)\n",
      "\n"
     ]
    }
   ],
   "execution_count": 7
  },
  {
   "cell_type": "markdown",
   "id": "6dad3557442e0ccf",
   "metadata": {
    "id": "6dad3557442e0ccf"
   },
   "source": [
    "We can also apply simple queries to get a better understanding of the data. For example, we can find the weather conditions with the most accidents."
   ]
  },
  {
   "cell_type": "code",
   "id": "666236f48eb6e0d5",
   "metadata": {
    "colab": {
     "base_uri": "https://localhost:8080/"
    },
    "executionInfo": {
     "elapsed": 30620,
     "status": "ok",
     "timestamp": 1746233312575,
     "user": {
      "displayName": "Luis Angel Herrera",
      "userId": "01372399337257934813"
     },
     "user_tz": 360
    },
    "id": "666236f48eb6e0d5",
    "outputId": "6465a51e-4a6d-4b16-d9fb-773ab7355785",
    "ExecuteTime": {
     "end_time": "2025-05-24T17:47:19.997634Z",
     "start_time": "2025-05-24T17:47:14.100529Z"
    }
   },
   "source": [
    "df.groupBy(\"Weather_Condition\") \\\n",
    "    .count() \\\n",
    "    .orderBy(\"count\", ascending=False) \\\n",
    "    .show(10, False)"
   ],
   "outputs": [
    {
     "name": "stdout",
     "output_type": "stream",
     "text": [
      "+-----------------+-------+\n",
      "|Weather_Condition|count  |\n",
      "+-----------------+-------+\n",
      "|Fair             |2560802|\n",
      "|Mostly Cloudy    |1016195|\n",
      "|Cloudy           |817082 |\n",
      "|Clear            |808743 |\n",
      "|Partly Cloudy    |698972 |\n",
      "|Overcast         |382866 |\n",
      "|Light Rain       |352957 |\n",
      "|Scattered Clouds |204829 |\n",
      "|NULL             |173459 |\n",
      "|Light Snow       |128680 |\n",
      "+-----------------+-------+\n",
      "only showing top 10 rows\n",
      "\n"
     ]
    }
   ],
   "execution_count": 8
  },
  {
   "cell_type": "markdown",
   "id": "55629ca97f6d774d",
   "metadata": {
    "id": "55629ca97f6d774d"
   },
   "source": [
    "We can also do some basic data visualization. For example, we can plot a histogram with the number of accidents per time of day. For this, we extract the hour from the `Start_Time` column and group the data by hour. To make this easier, we execute the query using PySpark and convert the result to a Pandas DataFrame"
   ]
  },
  {
   "cell_type": "code",
   "id": "7391382ea7e9d054",
   "metadata": {
    "colab": {
     "base_uri": "https://localhost:8080/",
     "height": 802
    },
    "id": "7391382ea7e9d054",
    "executionInfo": {
     "status": "ok",
     "timestamp": 1746233345953,
     "user_tz": 360,
     "elapsed": 33380,
     "user": {
      "displayName": "Luis Angel Herrera",
      "userId": "01372399337257934813"
     }
    },
    "outputId": "331459ac-b037-4f84-b4f9-6c0ed37b180a",
    "ExecuteTime": {
     "end_time": "2025-05-24T17:47:25.234506Z",
     "start_time": "2025-05-24T17:47:20.202607Z"
    }
   },
   "source": [
    "by_hour = df.select(hour(\"Start_Time\").alias(\"Hour\")) \\\n",
    "    .groupBy(\"Hour\") \\\n",
    "    .count() \\\n",
    "    .orderBy(\"Hour\") \\\n",
    "    .toPandas()\n",
    "\n",
    "by_hour"
   ],
   "outputs": [
    {
     "data": {
      "text/plain": [
       "    Hour   count\n",
       "0      0  112378\n",
       "1      1   97071\n",
       "2      2   93226\n",
       "3      3   83864\n",
       "4      4  159852\n",
       "5      5  228182\n",
       "6      6  405837\n",
       "7      7  587472\n",
       "8      8  577576\n",
       "9      9  363034\n",
       "10    10  342706\n",
       "11    11  355040\n",
       "12    12  355001\n",
       "13    13  396445\n",
       "14    14  448846\n",
       "15    15  525855\n",
       "16    16  581969\n",
       "17    17  576015\n",
       "18    18  432042\n",
       "19    19  295121\n",
       "20    20  225226\n",
       "21    21  191452\n",
       "22    22  167645\n",
       "23    23  126539"
      ],
      "text/html": [
       "<div>\n",
       "<style scoped>\n",
       "    .dataframe tbody tr th:only-of-type {\n",
       "        vertical-align: middle;\n",
       "    }\n",
       "\n",
       "    .dataframe tbody tr th {\n",
       "        vertical-align: top;\n",
       "    }\n",
       "\n",
       "    .dataframe thead th {\n",
       "        text-align: right;\n",
       "    }\n",
       "</style>\n",
       "<table border=\"1\" class=\"dataframe\">\n",
       "  <thead>\n",
       "    <tr style=\"text-align: right;\">\n",
       "      <th></th>\n",
       "      <th>Hour</th>\n",
       "      <th>count</th>\n",
       "    </tr>\n",
       "  </thead>\n",
       "  <tbody>\n",
       "    <tr>\n",
       "      <th>0</th>\n",
       "      <td>0</td>\n",
       "      <td>112378</td>\n",
       "    </tr>\n",
       "    <tr>\n",
       "      <th>1</th>\n",
       "      <td>1</td>\n",
       "      <td>97071</td>\n",
       "    </tr>\n",
       "    <tr>\n",
       "      <th>2</th>\n",
       "      <td>2</td>\n",
       "      <td>93226</td>\n",
       "    </tr>\n",
       "    <tr>\n",
       "      <th>3</th>\n",
       "      <td>3</td>\n",
       "      <td>83864</td>\n",
       "    </tr>\n",
       "    <tr>\n",
       "      <th>4</th>\n",
       "      <td>4</td>\n",
       "      <td>159852</td>\n",
       "    </tr>\n",
       "    <tr>\n",
       "      <th>5</th>\n",
       "      <td>5</td>\n",
       "      <td>228182</td>\n",
       "    </tr>\n",
       "    <tr>\n",
       "      <th>6</th>\n",
       "      <td>6</td>\n",
       "      <td>405837</td>\n",
       "    </tr>\n",
       "    <tr>\n",
       "      <th>7</th>\n",
       "      <td>7</td>\n",
       "      <td>587472</td>\n",
       "    </tr>\n",
       "    <tr>\n",
       "      <th>8</th>\n",
       "      <td>8</td>\n",
       "      <td>577576</td>\n",
       "    </tr>\n",
       "    <tr>\n",
       "      <th>9</th>\n",
       "      <td>9</td>\n",
       "      <td>363034</td>\n",
       "    </tr>\n",
       "    <tr>\n",
       "      <th>10</th>\n",
       "      <td>10</td>\n",
       "      <td>342706</td>\n",
       "    </tr>\n",
       "    <tr>\n",
       "      <th>11</th>\n",
       "      <td>11</td>\n",
       "      <td>355040</td>\n",
       "    </tr>\n",
       "    <tr>\n",
       "      <th>12</th>\n",
       "      <td>12</td>\n",
       "      <td>355001</td>\n",
       "    </tr>\n",
       "    <tr>\n",
       "      <th>13</th>\n",
       "      <td>13</td>\n",
       "      <td>396445</td>\n",
       "    </tr>\n",
       "    <tr>\n",
       "      <th>14</th>\n",
       "      <td>14</td>\n",
       "      <td>448846</td>\n",
       "    </tr>\n",
       "    <tr>\n",
       "      <th>15</th>\n",
       "      <td>15</td>\n",
       "      <td>525855</td>\n",
       "    </tr>\n",
       "    <tr>\n",
       "      <th>16</th>\n",
       "      <td>16</td>\n",
       "      <td>581969</td>\n",
       "    </tr>\n",
       "    <tr>\n",
       "      <th>17</th>\n",
       "      <td>17</td>\n",
       "      <td>576015</td>\n",
       "    </tr>\n",
       "    <tr>\n",
       "      <th>18</th>\n",
       "      <td>18</td>\n",
       "      <td>432042</td>\n",
       "    </tr>\n",
       "    <tr>\n",
       "      <th>19</th>\n",
       "      <td>19</td>\n",
       "      <td>295121</td>\n",
       "    </tr>\n",
       "    <tr>\n",
       "      <th>20</th>\n",
       "      <td>20</td>\n",
       "      <td>225226</td>\n",
       "    </tr>\n",
       "    <tr>\n",
       "      <th>21</th>\n",
       "      <td>21</td>\n",
       "      <td>191452</td>\n",
       "    </tr>\n",
       "    <tr>\n",
       "      <th>22</th>\n",
       "      <td>22</td>\n",
       "      <td>167645</td>\n",
       "    </tr>\n",
       "    <tr>\n",
       "      <th>23</th>\n",
       "      <td>23</td>\n",
       "      <td>126539</td>\n",
       "    </tr>\n",
       "  </tbody>\n",
       "</table>\n",
       "</div>"
      ]
     },
     "execution_count": 9,
     "metadata": {},
     "output_type": "execute_result"
    }
   ],
   "execution_count": 9
  },
  {
   "cell_type": "code",
   "id": "572f9418e9c50b20",
   "metadata": {
    "colab": {
     "base_uri": "https://localhost:8080/",
     "height": 467
    },
    "id": "572f9418e9c50b20",
    "executionInfo": {
     "status": "ok",
     "timestamp": 1746233346417,
     "user_tz": 360,
     "elapsed": 465,
     "user": {
      "displayName": "Luis Angel Herrera",
      "userId": "01372399337257934813"
     }
    },
    "outputId": "c64fdc22-6a14-4061-f79b-ae1444eb2b3f",
    "ExecuteTime": {
     "end_time": "2025-05-24T17:47:25.789620Z",
     "start_time": "2025-05-24T17:47:25.497192Z"
    }
   },
   "source": [
    "sns.barplot(data=by_hour, x=\"Hour\", y=\"count\")"
   ],
   "outputs": [
    {
     "data": {
      "text/plain": [
       "<Axes: xlabel='Hour', ylabel='count'>"
      ]
     },
     "execution_count": 10,
     "metadata": {},
     "output_type": "execute_result"
    },
    {
     "data": {
      "text/plain": [
       "<Figure size 640x480 with 1 Axes>"
      ],
      "image/png": "[encoded data removed]"
     },
     "metadata": {},
     "output_type": "display_data"
    }
   ],
   "execution_count": 10
  },
  {
   "cell_type": "markdown",
   "id": "af1b764c9ab268fc",
   "metadata": {
    "id": "af1b764c9ab268fc"
   },
   "source": [
    "We can even go further. For example, we can compare the number of accidents on weekdays and weekends. To do this, we can extract the weekday from the `Start_Time` column and group the data by weekday and hour."
   ]
  },
  {
   "cell_type": "code",
   "id": "9f17cbba54d2ec21",
   "metadata": {
    "colab": {
     "base_uri": "https://localhost:8080/",
     "height": 424
    },
    "id": "9f17cbba54d2ec21",
    "executionInfo": {
     "status": "ok",
     "timestamp": 1746233377810,
     "user_tz": 360,
     "elapsed": 31392,
     "user": {
      "displayName": "Luis Angel Herrera",
      "userId": "01372399337257934813"
     }
    },
    "outputId": "0b6f164d-fdd7-4ca6-c3c7-fb42978afd92",
    "ExecuteTime": {
     "end_time": "2025-05-24T17:47:34.353404Z",
     "start_time": "2025-05-24T17:47:26.011706Z"
    }
   },
   "source": [
    "by_day_hour = df.select(\n",
    "    weekday(\"Start_Time\").alias(\"Weekday\"),\n",
    "    hour(\"Start_Time\").alias(\"Hour\")) \\\n",
    "    .groupBy(\"Weekday\", \"Hour\") \\\n",
    "    .count() \\\n",
    "    .orderBy(\"Weekday\", \"Hour\") \\\n",
    "    .toPandas()\n",
    "\n",
    "by_day_hour"
   ],
   "outputs": [
    {
     "data": {
      "text/plain": [
       "     Weekday  Hour  count\n",
       "0          0     0  13895\n",
       "1          0     1  11676\n",
       "2          0     2  11397\n",
       "3          0     3  11316\n",
       "4          0     4  26924\n",
       "..       ...   ...    ...\n",
       "163        6    19  26534\n",
       "164        6    20  23975\n",
       "165        6    21  22922\n",
       "166        6    22  19137\n",
       "167        6    23  15757\n",
       "\n",
       "[168 rows x 3 columns]"
      ],
      "text/html": [
       "<div>\n",
       "<style scoped>\n",
       "    .dataframe tbody tr th:only-of-type {\n",
       "        vertical-align: middle;\n",
       "    }\n",
       "\n",
       "    .dataframe tbody tr th {\n",
       "        vertical-align: top;\n",
       "    }\n",
       "\n",
       "    .dataframe thead th {\n",
       "        text-align: right;\n",
       "    }\n",
       "</style>\n",
       "<table border=\"1\" class=\"dataframe\">\n",
       "  <thead>\n",
       "    <tr style=\"text-align: right;\">\n",
       "      <th></th>\n",
       "      <th>Weekday</th>\n",
       "      <th>Hour</th>\n",
       "      <th>count</th>\n",
       "    </tr>\n",
       "  </thead>\n",
       "  <tbody>\n",
       "    <tr>\n",
       "      <th>0</th>\n",
       "      <td>0</td>\n",
       "      <td>0</td>\n",
       "      <td>13895</td>\n",
       "    </tr>\n",
       "    <tr>\n",
       "      <th>1</th>\n",
       "      <td>0</td>\n",
       "      <td>1</td>\n",
       "      <td>11676</td>\n",
       "    </tr>\n",
       "    <tr>\n",
       "      <th>2</th>\n",
       "      <td>0</td>\n",
       "      <td>2</td>\n",
       "      <td>11397</td>\n",
       "    </tr>\n",
       "    <tr>\n",
       "      <th>3</th>\n",
       "      <td>0</td>\n",
       "      <td>3</td>\n",
       "      <td>11316</td>\n",
       "    </tr>\n",
       "    <tr>\n",
       "      <th>4</th>\n",
       "      <td>0</td>\n",
       "      <td>4</td>\n",
       "      <td>26924</td>\n",
       "    </tr>\n",
       "    <tr>\n",
       "      <th>...</th>\n",
       "      <td>...</td>\n",
       "      <td>...</td>\n",
       "      <td>...</td>\n",
       "    </tr>\n",
       "    <tr>\n",
       "      <th>163</th>\n",
       "      <td>6</td>\n",
       "      <td>19</td>\n",
       "      <td>26534</td>\n",
       "    </tr>\n",
       "    <tr>\n",
       "      <th>164</th>\n",
       "      <td>6</td>\n",
       "      <td>20</td>\n",
       "      <td>23975</td>\n",
       "    </tr>\n",
       "    <tr>\n",
       "      <th>165</th>\n",
       "      <td>6</td>\n",
       "      <td>21</td>\n",
       "      <td>22922</td>\n",
       "    </tr>\n",
       "    <tr>\n",
       "      <th>166</th>\n",
       "      <td>6</td>\n",
       "      <td>22</td>\n",
       "      <td>19137</td>\n",
       "    </tr>\n",
       "    <tr>\n",
       "      <th>167</th>\n",
       "      <td>6</td>\n",
       "      <td>23</td>\n",
       "      <td>15757</td>\n",
       "    </tr>\n",
       "  </tbody>\n",
       "</table>\n",
       "<p>168 rows × 3 columns</p>\n",
       "</div>"
      ]
     },
     "execution_count": 11,
     "metadata": {},
     "output_type": "execute_result"
    }
   ],
   "execution_count": 11
  },
  {
   "cell_type": "code",
   "id": "b6dbe1d3f8f77dc9",
   "metadata": {
    "id": "b6dbe1d3f8f77dc9",
    "ExecuteTime": {
     "end_time": "2025-05-24T17:47:34.669806Z",
     "start_time": "2025-05-24T17:47:34.662079Z"
    }
   },
   "source": [
    "# Weekdays 5 and 6 are Saturday and Sunday, respectively\n",
    "by_hour_workdays = by_day_hour.loc[by_day_hour[\"Weekday\"] < 5] \\\n",
    "    .groupby(\"Hour\") \\\n",
    "    .sum()\n",
    "\n",
    "by_hour_weekends = by_day_hour.loc[by_day_hour[\"Weekday\"] >= 5] \\\n",
    "    .groupby(\"Hour\") \\\n",
    "    .sum()"
   ],
   "outputs": [],
   "execution_count": 12
  },
  {
   "cell_type": "code",
   "id": "7c10993cb9c3653d",
   "metadata": {
    "colab": {
     "base_uri": "https://localhost:8080/",
     "height": 507
    },
    "id": "7c10993cb9c3653d",
    "executionInfo": {
     "status": "ok",
     "timestamp": 1746233378953,
     "user_tz": 360,
     "elapsed": 1141,
     "user": {
      "displayName": "Luis Angel Herrera",
      "userId": "01372399337257934813"
     }
    },
    "outputId": "cdbd1845-7f46-4ab7-e5e4-1c2eb5c510ab",
    "ExecuteTime": {
     "end_time": "2025-05-24T17:47:35.495498Z",
     "start_time": "2025-05-24T17:47:34.909276Z"
    }
   },
   "source": [
    "# Create a figure with two subplots side by side\n",
    "fig, (ax1, ax2) = plt.subplots(1, 2, figsize=(15, 5))\n",
    "\n",
    "# Plot workdays\n",
    "sns.barplot(data=by_hour_workdays, x=\"Hour\", y=\"count\", ax=ax1)\n",
    "ax1.set_title(\"Accidents by Hour (Workdays)\")\n",
    "ax1.set_xlabel(\"Hour of Day\")\n",
    "ax1.set_ylabel(\"Number of Accidents\")\n",
    "\n",
    "# Plot weekends\n",
    "sns.barplot(data=by_hour_weekends, x=\"Hour\", y=\"count\", ax=ax2)\n",
    "ax2.set_title(\"Accidents by Hour (Weekends)\")\n",
    "ax2.set_xlabel(\"Hour of Day\")\n",
    "ax2.set_ylabel(\"Number of Accidents\")\n",
    "\n",
    "# Adjust layout to prevent overlap\n",
    "plt.tight_layout()"
   ],
   "outputs": [
    {
     "data": {
      "text/plain": [
       "<Figure size 1500x500 with 2 Axes>"
      ],
      "image/png": "[encoded data removed]"
     },
     "metadata": {},
     "output_type": "display_data"
    }
   ],
   "execution_count": 13
  },
  {
   "cell_type": "code",
   "id": "796c722aa19b9ccb",
   "metadata": {
    "colab": {
     "base_uri": "https://localhost:8080/",
     "height": 175
    },
    "id": "796c722aa19b9ccb",
    "executionInfo": {
     "status": "ok",
     "timestamp": 1746233405010,
     "user_tz": 360,
     "elapsed": 26055,
     "user": {
      "displayName": "Luis Angel Herrera",
      "userId": "01372399337257934813"
     }
    },
    "outputId": "e4563074-de27-4891-b9c6-162633c1e97f",
    "ExecuteTime": {
     "end_time": "2025-05-24T17:47:39.792863Z",
     "start_time": "2025-05-24T17:47:35.817437Z"
    }
   },
   "source": [
    "count_by_severity = df.groupBy(\"Severity\") \\\n",
    "    .count() \\\n",
    "    .orderBy(\"Severity\") \\\n",
    "    .toPandas()\n",
    "\n",
    "count_by_severity"
   ],
   "outputs": [
    {
     "data": {
      "text/plain": [
       "   Severity    count\n",
       "0         1    67366\n",
       "1         2  6156981\n",
       "2         3  1299337\n",
       "3         4   204710"
      ],
      "text/html": [
       "<div>\n",
       "<style scoped>\n",
       "    .dataframe tbody tr th:only-of-type {\n",
       "        vertical-align: middle;\n",
       "    }\n",
       "\n",
       "    .dataframe tbody tr th {\n",
       "        vertical-align: top;\n",
       "    }\n",
       "\n",
       "    .dataframe thead th {\n",
       "        text-align: right;\n",
       "    }\n",
       "</style>\n",
       "<table border=\"1\" class=\"dataframe\">\n",
       "  <thead>\n",
       "    <tr style=\"text-align: right;\">\n",
       "      <th></th>\n",
       "      <th>Severity</th>\n",
       "      <th>count</th>\n",
       "    </tr>\n",
       "  </thead>\n",
       "  <tbody>\n",
       "    <tr>\n",
       "      <th>0</th>\n",
       "      <td>1</td>\n",
       "      <td>67366</td>\n",
       "    </tr>\n",
       "    <tr>\n",
       "      <th>1</th>\n",
       "      <td>2</td>\n",
       "      <td>6156981</td>\n",
       "    </tr>\n",
       "    <tr>\n",
       "      <th>2</th>\n",
       "      <td>3</td>\n",
       "      <td>1299337</td>\n",
       "    </tr>\n",
       "    <tr>\n",
       "      <th>3</th>\n",
       "      <td>4</td>\n",
       "      <td>204710</td>\n",
       "    </tr>\n",
       "  </tbody>\n",
       "</table>\n",
       "</div>"
      ]
     },
     "execution_count": 14,
     "metadata": {},
     "output_type": "execute_result"
    }
   ],
   "execution_count": 14
  },
  {
   "cell_type": "code",
   "id": "ed79ae106221a882",
   "metadata": {
    "colab": {
     "base_uri": "https://localhost:8080/",
     "height": 483
    },
    "id": "ed79ae106221a882",
    "executionInfo": {
     "status": "ok",
     "timestamp": 1746233405217,
     "user_tz": 360,
     "elapsed": 208,
     "user": {
      "displayName": "Luis Angel Herrera",
      "userId": "01372399337257934813"
     }
    },
    "outputId": "491ef273-9baf-4fef-a075-906842404eee",
    "ExecuteTime": {
     "end_time": "2025-05-24T17:47:40.145647Z",
     "start_time": "2025-05-24T17:47:40.028266Z"
    }
   },
   "source": [
    "sns.barplot(data=count_by_severity, x=\"Severity\", y=\"count\")"
   ],
   "outputs": [
    {
     "data": {
      "text/plain": [
       "<Axes: xlabel='Severity', ylabel='count'>"
      ]
     },
     "execution_count": 15,
     "metadata": {},
     "output_type": "execute_result"
    },
    {
     "data": {
      "text/plain": [
       "<Figure size 640x480 with 1 Axes>"
      ],
      "image/png": "[encoded data removed]"
     },
     "metadata": {},
     "output_type": "display_data"
    }
   ],
   "execution_count": 15
  },
  {
   "cell_type": "code",
   "id": "8f93ff593a42ca58",
   "metadata": {
    "colab": {
     "base_uri": "https://localhost:8080/",
     "height": 143
    },
    "id": "8f93ff593a42ca58",
    "executionInfo": {
     "status": "ok",
     "timestamp": 1746233432471,
     "user_tz": 360,
     "elapsed": 27256,
     "user": {
      "displayName": "Luis Angel Herrera",
      "userId": "01372399337257934813"
     }
    },
    "outputId": "f02853d7-6fb8-461e-b191-654541f1adc9",
    "ExecuteTime": {
     "end_time": "2025-05-24T17:47:43.922786Z",
     "start_time": "2025-05-24T17:47:40.329653Z"
    }
   },
   "source": [
    "count_by_sunrise_sunset = df.groupBy(\"Sunrise_Sunset\") \\\n",
    "    .count() \\\n",
    "    .orderBy(\"count\", ascending=False) \\\n",
    "    .toPandas()\n",
    "\n",
    "count_by_sunrise_sunset"
   ],
   "outputs": [
    {
     "data": {
      "text/plain": [
       "  Sunrise_Sunset    count\n",
       "0            Day  5334553\n",
       "1          Night  2370595\n",
       "2           None    23246"
      ],
      "text/html": [
       "<div>\n",
       "<style scoped>\n",
       "    .dataframe tbody tr th:only-of-type {\n",
       "        vertical-align: middle;\n",
       "    }\n",
       "\n",
       "    .dataframe tbody tr th {\n",
       "        vertical-align: top;\n",
       "    }\n",
       "\n",
       "    .dataframe thead th {\n",
       "        text-align: right;\n",
       "    }\n",
       "</style>\n",
       "<table border=\"1\" class=\"dataframe\">\n",
       "  <thead>\n",
       "    <tr style=\"text-align: right;\">\n",
       "      <th></th>\n",
       "      <th>Sunrise_Sunset</th>\n",
       "      <th>count</th>\n",
       "    </tr>\n",
       "  </thead>\n",
       "  <tbody>\n",
       "    <tr>\n",
       "      <th>0</th>\n",
       "      <td>Day</td>\n",
       "      <td>5334553</td>\n",
       "    </tr>\n",
       "    <tr>\n",
       "      <th>1</th>\n",
       "      <td>Night</td>\n",
       "      <td>2370595</td>\n",
       "    </tr>\n",
       "    <tr>\n",
       "      <th>2</th>\n",
       "      <td>None</td>\n",
       "      <td>23246</td>\n",
       "    </tr>\n",
       "  </tbody>\n",
       "</table>\n",
       "</div>"
      ]
     },
     "execution_count": 16,
     "metadata": {},
     "output_type": "execute_result"
    }
   ],
   "execution_count": 16
  },
  {
   "cell_type": "code",
   "id": "17efa3c71c3fa281",
   "metadata": {
    "colab": {
     "base_uri": "https://localhost:8080/",
     "height": 483
    },
    "id": "17efa3c71c3fa281",
    "executionInfo": {
     "status": "ok",
     "timestamp": 1746233432751,
     "user_tz": 360,
     "elapsed": 279,
     "user": {
      "displayName": "Luis Angel Herrera",
      "userId": "01372399337257934813"
     }
    },
    "outputId": "a38dc356-c49a-4b62-df1d-d99df2b0dd0c",
    "ExecuteTime": {
     "end_time": "2025-05-24T17:47:44.275056Z",
     "start_time": "2025-05-24T17:47:44.169378Z"
    }
   },
   "source": [
    "sns.barplot(data=count_by_sunrise_sunset, x=\"Sunrise_Sunset\", y=\"count\")"
   ],
   "outputs": [
    {
     "data": {
      "text/plain": [
       "<Axes: xlabel='Sunrise_Sunset', ylabel='count'>"
      ]
     },
     "execution_count": 17,
     "metadata": {},
     "output_type": "execute_result"
    },
    {
     "data": {
      "text/plain": [
       "<Figure size 640x480 with 1 Axes>"
      ],
      "image/png": "[encoded data removed]"
     },
     "metadata": {},
     "output_type": "display_data"
    }
   ],
   "execution_count": 17
  },
  {
   "cell_type": "code",
   "id": "ik7k2Cy5vr75",
   "metadata": {
    "id": "ik7k2Cy5vr75",
    "colab": {
     "base_uri": "https://localhost:8080/",
     "height": 1000
    },
    "executionInfo": {
     "status": "ok",
     "timestamp": 1746233520334,
     "user_tz": 360,
     "elapsed": 87581,
     "user": {
      "displayName": "Luis Angel Herrera",
      "userId": "01372399337257934813"
     }
    },
    "outputId": "623873ef-0732-4b27-e3f1-003949a677f6",
    "ExecuteTime": {
     "end_time": "2025-05-24T17:47:54.152214Z",
     "start_time": "2025-05-24T17:47:44.635419Z"
    }
   },
   "source": [
    "from pyspark.sql.functions import col, sum, when\n",
    "\n",
    "# Para cada columna, sumamos 1 cuando el valor es nulo, y 0 en caso contrario\n",
    "null_counts = df.select([\n",
    "    sum(when(col(c).isNull(), 1).otherwise(0)).alias(c)\n",
    "    for c in df.columns\n",
    "])\n",
    "\n",
    "null_counts_pd = null_counts.toPandas().T\n",
    "null_counts_pd.columns = ['Valores nulos']\n",
    "\n",
    "null_counts_pd"
   ],
   "outputs": [
    {
     "data": {
      "text/plain": [
       "                       Valores nulos\n",
       "ID                                 0\n",
       "Source                             0\n",
       "Severity                           0\n",
       "Start_Time                         0\n",
       "End_Time                           0\n",
       "Start_Lat                          0\n",
       "Start_Lng                          0\n",
       "End_Lat                      3402762\n",
       "End_Lng                      3402762\n",
       "Distance(mi)                       0\n",
       "Description                        5\n",
       "Street                         10869\n",
       "City                             253\n",
       "County                             0\n",
       "State                              0\n",
       "Zipcode                         1915\n",
       "Country                            0\n",
       "Timezone                        7808\n",
       "Airport_Code                   22635\n",
       "Weather_Timestamp             120228\n",
       "Temperature(F)                163853\n",
       "Wind_Chill(F)                1999019\n",
       "Humidity(%)                   174144\n",
       "Pressure(in)                  140679\n",
       "Visibility(mi)                177098\n",
       "Wind_Direction                175206\n",
       "Wind_Speed(mph)               571233\n",
       "Precipitation(in)            2203586\n",
       "Weather_Condition             173459\n",
       "Amenity                            0\n",
       "Bump                               0\n",
       "Crossing                           0\n",
       "Give_Way                           0\n",
       "Junction                           0\n",
       "No_Exit                            0\n",
       "Railway                            0\n",
       "Roundabout                         0\n",
       "Station                            0\n",
       "Stop                               0\n",
       "Traffic_Calming                    0\n",
       "Traffic_Signal                     0\n",
       "Turning_Loop                       0\n",
       "Sunrise_Sunset                 23246\n",
       "Civil_Twilight                 23246\n",
       "Nautical_Twilight              23246\n",
       "Astronomical_Twilight          23246"
      ],
      "text/html": [
       "<div>\n",
       "<style scoped>\n",
       "    .dataframe tbody tr th:only-of-type {\n",
       "        vertical-align: middle;\n",
       "    }\n",
       "\n",
       "    .dataframe tbody tr th {\n",
       "        vertical-align: top;\n",
       "    }\n",
       "\n",
       "    .dataframe thead th {\n",
       "        text-align: right;\n",
       "    }\n",
       "</style>\n",
       "<table border=\"1\" class=\"dataframe\">\n",
       "  <thead>\n",
       "    <tr style=\"text-align: right;\">\n",
       "      <th></th>\n",
       "      <th>Valores nulos</th>\n",
       "    </tr>\n",
       "  </thead>\n",
       "  <tbody>\n",
       "    <tr>\n",
       "      <th>ID</th>\n",
       "      <td>0</td>\n",
       "    </tr>\n",
       "    <tr>\n",
       "      <th>Source</th>\n",
       "      <td>0</td>\n",
       "    </tr>\n",
       "    <tr>\n",
       "      <th>Severity</th>\n",
       "      <td>0</td>\n",
       "    </tr>\n",
       "    <tr>\n",
       "      <th>Start_Time</th>\n",
       "      <td>0</td>\n",
       "    </tr>\n",
       "    <tr>\n",
       "      <th>End_Time</th>\n",
       "      <td>0</td>\n",
       "    </tr>\n",
       "    <tr>\n",
       "      <th>Start_Lat</th>\n",
       "      <td>0</td>\n",
       "    </tr>\n",
       "    <tr>\n",
       "      <th>Start_Lng</th>\n",
       "      <td>0</td>\n",
       "    </tr>\n",
       "    <tr>\n",
       "      <th>End_Lat</th>\n",
       "      <td>3402762</td>\n",
       "    </tr>\n",
       "    <tr>\n",
       "      <th>End_Lng</th>\n",
       "      <td>3402762</td>\n",
       "    </tr>\n",
       "    <tr>\n",
       "      <th>Distance(mi)</th>\n",
       "      <td>0</td>\n",
       "    </tr>\n",
       "    <tr>\n",
       "      <th>Description</th>\n",
       "      <td>5</td>\n",
       "    </tr>\n",
       "    <tr>\n",
       "      <th>Street</th>\n",
       "      <td>10869</td>\n",
       "    </tr>\n",
       "    <tr>\n",
       "      <th>City</th>\n",
       "      <td>253</td>\n",
       "    </tr>\n",
       "    <tr>\n",
       "      <th>County</th>\n",
       "      <td>0</td>\n",
       "    </tr>\n",
       "    <tr>\n",
       "      <th>State</th>\n",
       "      <td>0</td>\n",
       "    </tr>\n",
       "    <tr>\n",
       "      <th>Zipcode</th>\n",
       "      <td>1915</td>\n",
       "    </tr>\n",
       "    <tr>\n",
       "      <th>Country</th>\n",
       "      <td>0</td>\n",
       "    </tr>\n",
       "    <tr>\n",
       "      <th>Timezone</th>\n",
       "      <td>7808</td>\n",
       "    </tr>\n",
       "    <tr>\n",
       "      <th>Airport_Code</th>\n",
       "      <td>22635</td>\n",
       "    </tr>\n",
       "    <tr>\n",
       "      <th>Weather_Timestamp</th>\n",
       "      <td>120228</td>\n",
       "    </tr>\n",
       "    <tr>\n",
       "      <th>Temperature(F)</th>\n",
       "      <td>163853</td>\n",
       "    </tr>\n",
       "    <tr>\n",
       "      <th>Wind_Chill(F)</th>\n",
       "      <td>1999019</td>\n",
       "    </tr>\n",
       "    <tr>\n",
       "      <th>Humidity(%)</th>\n",
       "      <td>174144</td>\n",
       "    </tr>\n",
       "    <tr>\n",
       "      <th>Pressure(in)</th>\n",
       "      <td>140679</td>\n",
       "    </tr>\n",
       "    <tr>\n",
       "      <th>Visibility(mi)</th>\n",
       "      <td>177098</td>\n",
       "    </tr>\n",
       "    <tr>\n",
       "      <th>Wind_Direction</th>\n",
       "      <td>175206</td>\n",
       "    </tr>\n",
       "    <tr>\n",
       "      <th>Wind_Speed(mph)</th>\n",
       "      <td>571233</td>\n",
       "    </tr>\n",
       "    <tr>\n",
       "      <th>Precipitation(in)</th>\n",
       "      <td>2203586</td>\n",
       "    </tr>\n",
       "    <tr>\n",
       "      <th>Weather_Condition</th>\n",
       "      <td>173459</td>\n",
       "    </tr>\n",
       "    <tr>\n",
       "      <th>Amenity</th>\n",
       "      <td>0</td>\n",
       "    </tr>\n",
       "    <tr>\n",
       "      <th>Bump</th>\n",
       "      <td>0</td>\n",
       "    </tr>\n",
       "    <tr>\n",
       "      <th>Crossing</th>\n",
       "      <td>0</td>\n",
       "    </tr>\n",
       "    <tr>\n",
       "      <th>Give_Way</th>\n",
       "      <td>0</td>\n",
       "    </tr>\n",
       "    <tr>\n",
       "      <th>Junction</th>\n",
       "      <td>0</td>\n",
       "    </tr>\n",
       "    <tr>\n",
       "      <th>No_Exit</th>\n",
       "      <td>0</td>\n",
       "    </tr>\n",
       "    <tr>\n",
       "      <th>Railway</th>\n",
       "      <td>0</td>\n",
       "    </tr>\n",
       "    <tr>\n",
       "      <th>Roundabout</th>\n",
       "      <td>0</td>\n",
       "    </tr>\n",
       "    <tr>\n",
       "      <th>Station</th>\n",
       "      <td>0</td>\n",
       "    </tr>\n",
       "    <tr>\n",
       "      <th>Stop</th>\n",
       "      <td>0</td>\n",
       "    </tr>\n",
       "    <tr>\n",
       "      <th>Traffic_Calming</th>\n",
       "      <td>0</td>\n",
       "    </tr>\n",
       "    <tr>\n",
       "      <th>Traffic_Signal</th>\n",
       "      <td>0</td>\n",
       "    </tr>\n",
       "    <tr>\n",
       "      <th>Turning_Loop</th>\n",
       "      <td>0</td>\n",
       "    </tr>\n",
       "    <tr>\n",
       "      <th>Sunrise_Sunset</th>\n",
       "      <td>23246</td>\n",
       "    </tr>\n",
       "    <tr>\n",
       "      <th>Civil_Twilight</th>\n",
       "      <td>23246</td>\n",
       "    </tr>\n",
       "    <tr>\n",
       "      <th>Nautical_Twilight</th>\n",
       "      <td>23246</td>\n",
       "    </tr>\n",
       "    <tr>\n",
       "      <th>Astronomical_Twilight</th>\n",
       "      <td>23246</td>\n",
       "    </tr>\n",
       "  </tbody>\n",
       "</table>\n",
       "</div>"
      ]
     },
     "execution_count": 18,
     "metadata": {},
     "output_type": "execute_result"
    }
   ],
   "execution_count": 18
  },
  {
   "cell_type": "markdown",
   "source": [
    "## Particionamiento"
   ],
   "metadata": {
    "id": "Epb_DOy0TkbY"
   },
   "id": "Epb_DOy0TkbY"
  },
  {
   "cell_type": "code",
   "source": [
    "total_rows=df.count()\n",
    "total_rows"
   ],
   "metadata": {
    "colab": {
     "base_uri": "https://localhost:8080/"
    },
    "id": "BUh2HGlbTuS3",
    "executionInfo": {
     "status": "ok",
     "timestamp": 1746233526805,
     "user_tz": 360,
     "elapsed": 6470,
     "user": {
      "displayName": "Luis Angel Herrera",
      "userId": "01372399337257934813"
     }
    },
    "outputId": "053c1d44-8bf6-495f-dfec-30e778bc256e",
    "ExecuteTime": {
     "end_time": "2025-05-24T17:48:16.021680Z",
     "start_time": "2025-05-24T17:48:15.027509Z"
    }
   },
   "id": "BUh2HGlbTuS3",
   "outputs": [
    {
     "data": {
      "text/plain": [
       "7728394"
      ]
     },
     "execution_count": 19,
     "metadata": {},
     "output_type": "execute_result"
    }
   ],
   "execution_count": 19
  },
  {
   "cell_type": "code",
   "source": [
    "# Calcular porcentaje\n",
    "null_counts_pd['% de valores nulos'] = (null_counts_pd['Valores nulos'] / total_rows) * 100\n",
    "\n",
    "# Filtrar columnas con nulos y ordenar\n",
    "null_counts_pd = null_counts_pd[null_counts_pd['Valores nulos'] > 0]\n",
    "null_counts_pd = null_counts_pd.sort_values('% de valores nulos', ascending=False)\n",
    "\n",
    "# Mostrar resultado\n",
    "null_counts_pd"
   ],
   "metadata": {
    "colab": {
     "base_uri": "https://localhost:8080/",
     "height": 739
    },
    "id": "-Z3LISWnWDNH",
    "executionInfo": {
     "status": "ok",
     "timestamp": 1746233526885,
     "user_tz": 360,
     "elapsed": 58,
     "user": {
      "displayName": "Luis Angel Herrera",
      "userId": "01372399337257934813"
     }
    },
    "outputId": "c927dedc-fb54-42f5-d185-5de9d7a63356",
    "ExecuteTime": {
     "end_time": "2025-05-24T17:48:24.701624Z",
     "start_time": "2025-05-24T17:48:24.690605Z"
    }
   },
   "id": "-Z3LISWnWDNH",
   "outputs": [
    {
     "data": {
      "text/plain": [
       "                       Valores nulos  % de valores nulos\n",
       "End_Lat                      3402762           44.029355\n",
       "End_Lng                      3402762           44.029355\n",
       "Precipitation(in)            2203586           28.512858\n",
       "Wind_Chill(F)                1999019           25.865904\n",
       "Wind_Speed(mph)               571233            7.391355\n",
       "Visibility(mi)                177098            2.291524\n",
       "Wind_Direction                175206            2.267043\n",
       "Humidity(%)                   174144            2.253301\n",
       "Weather_Condition             173459            2.244438\n",
       "Temperature(F)                163853            2.120143\n",
       "Pressure(in)                  140679            1.820288\n",
       "Weather_Timestamp             120228            1.555666\n",
       "Sunrise_Sunset                 23246            0.300787\n",
       "Civil_Twilight                 23246            0.300787\n",
       "Nautical_Twilight              23246            0.300787\n",
       "Astronomical_Twilight          23246            0.300787\n",
       "Airport_Code                   22635            0.292881\n",
       "Street                         10869            0.140637\n",
       "Timezone                        7808            0.101030\n",
       "Zipcode                         1915            0.024779\n",
       "City                             253            0.003274\n",
       "Description                        5            0.000065"
      ],
      "text/html": [
       "<div>\n",
       "<style scoped>\n",
       "    .dataframe tbody tr th:only-of-type {\n",
       "        vertical-align: middle;\n",
       "    }\n",
       "\n",
       "    .dataframe tbody tr th {\n",
       "        vertical-align: top;\n",
       "    }\n",
       "\n",
       "    .dataframe thead th {\n",
       "        text-align: right;\n",
       "    }\n",
       "</style>\n",
       "<table border=\"1\" class=\"dataframe\">\n",
       "  <thead>\n",
       "    <tr style=\"text-align: right;\">\n",
       "      <th></th>\n",
       "      <th>Valores nulos</th>\n",
       "      <th>% de valores nulos</th>\n",
       "    </tr>\n",
       "  </thead>\n",
       "  <tbody>\n",
       "    <tr>\n",
       "      <th>End_Lat</th>\n",
       "      <td>3402762</td>\n",
       "      <td>44.029355</td>\n",
       "    </tr>\n",
       "    <tr>\n",
       "      <th>End_Lng</th>\n",
       "      <td>3402762</td>\n",
       "      <td>44.029355</td>\n",
       "    </tr>\n",
       "    <tr>\n",
       "      <th>Precipitation(in)</th>\n",
       "      <td>2203586</td>\n",
       "      <td>28.512858</td>\n",
       "    </tr>\n",
       "    <tr>\n",
       "      <th>Wind_Chill(F)</th>\n",
       "      <td>1999019</td>\n",
       "      <td>25.865904</td>\n",
       "    </tr>\n",
       "    <tr>\n",
       "      <th>Wind_Speed(mph)</th>\n",
       "      <td>571233</td>\n",
       "      <td>7.391355</td>\n",
       "    </tr>\n",
       "    <tr>\n",
       "      <th>Visibility(mi)</th>\n",
       "      <td>177098</td>\n",
       "      <td>2.291524</td>\n",
       "    </tr>\n",
       "    <tr>\n",
       "      <th>Wind_Direction</th>\n",
       "      <td>175206</td>\n",
       "      <td>2.267043</td>\n",
       "    </tr>\n",
       "    <tr>\n",
       "      <th>Humidity(%)</th>\n",
       "      <td>174144</td>\n",
       "      <td>2.253301</td>\n",
       "    </tr>\n",
       "    <tr>\n",
       "      <th>Weather_Condition</th>\n",
       "      <td>173459</td>\n",
       "      <td>2.244438</td>\n",
       "    </tr>\n",
       "    <tr>\n",
       "      <th>Temperature(F)</th>\n",
       "      <td>163853</td>\n",
       "      <td>2.120143</td>\n",
       "    </tr>\n",
       "    <tr>\n",
       "      <th>Pressure(in)</th>\n",
       "      <td>140679</td>\n",
       "      <td>1.820288</td>\n",
       "    </tr>\n",
       "    <tr>\n",
       "      <th>Weather_Timestamp</th>\n",
       "      <td>120228</td>\n",
       "      <td>1.555666</td>\n",
       "    </tr>\n",
       "    <tr>\n",
       "      <th>Sunrise_Sunset</th>\n",
       "      <td>23246</td>\n",
       "      <td>0.300787</td>\n",
       "    </tr>\n",
       "    <tr>\n",
       "      <th>Civil_Twilight</th>\n",
       "      <td>23246</td>\n",
       "      <td>0.300787</td>\n",
       "    </tr>\n",
       "    <tr>\n",
       "      <th>Nautical_Twilight</th>\n",
       "      <td>23246</td>\n",
       "      <td>0.300787</td>\n",
       "    </tr>\n",
       "    <tr>\n",
       "      <th>Astronomical_Twilight</th>\n",
       "      <td>23246</td>\n",
       "      <td>0.300787</td>\n",
       "    </tr>\n",
       "    <tr>\n",
       "      <th>Airport_Code</th>\n",
       "      <td>22635</td>\n",
       "      <td>0.292881</td>\n",
       "    </tr>\n",
       "    <tr>\n",
       "      <th>Street</th>\n",
       "      <td>10869</td>\n",
       "      <td>0.140637</td>\n",
       "    </tr>\n",
       "    <tr>\n",
       "      <th>Timezone</th>\n",
       "      <td>7808</td>\n",
       "      <td>0.101030</td>\n",
       "    </tr>\n",
       "    <tr>\n",
       "      <th>Zipcode</th>\n",
       "      <td>1915</td>\n",
       "      <td>0.024779</td>\n",
       "    </tr>\n",
       "    <tr>\n",
       "      <th>City</th>\n",
       "      <td>253</td>\n",
       "      <td>0.003274</td>\n",
       "    </tr>\n",
       "    <tr>\n",
       "      <th>Description</th>\n",
       "      <td>5</td>\n",
       "      <td>0.000065</td>\n",
       "    </tr>\n",
       "  </tbody>\n",
       "</table>\n",
       "</div>"
      ]
     },
     "execution_count": 20,
     "metadata": {},
     "output_type": "execute_result"
    }
   ],
   "execution_count": 20
  },
  {
   "cell_type": "code",
   "source": [
    "df.select(\"Weather_Condition\") \\\n",
    "  .distinct() \\\n",
    "  .orderBy(\"Weather_Condition\") \\\n",
    "  .show(truncate=False, n=1000)"
   ],
   "metadata": {
    "colab": {
     "base_uri": "https://localhost:8080/"
    },
    "id": "EKo_2aOrlBRA",
    "executionInfo": {
     "status": "ok",
     "timestamp": 1746233554464,
     "user_tz": 360,
     "elapsed": 27579,
     "user": {
      "displayName": "Luis Angel Herrera",
      "userId": "01372399337257934813"
     }
    },
    "outputId": "431f1575-e2a2-4254-9bae-28f2085ffb5a",
    "ExecuteTime": {
     "end_time": "2025-05-24T17:48:45.762265Z",
     "start_time": "2025-05-24T17:48:41.238280Z"
    }
   },
   "id": "EKo_2aOrlBRA",
   "outputs": [
    {
     "name": "stdout",
     "output_type": "stream",
     "text": [
      "+-----------------------------------+\n",
      "|Weather_Condition                  |\n",
      "+-----------------------------------+\n",
      "|NULL                               |\n",
      "|Blowing Dust                       |\n",
      "|Blowing Dust / Windy               |\n",
      "|Blowing Sand                       |\n",
      "|Blowing Snow                       |\n",
      "|Blowing Snow / Windy               |\n",
      "|Blowing Snow Nearby                |\n",
      "|Clear                              |\n",
      "|Cloudy                             |\n",
      "|Cloudy / Windy                     |\n",
      "|Drifting Snow                      |\n",
      "|Drifting Snow / Windy              |\n",
      "|Drizzle                            |\n",
      "|Drizzle / Windy                    |\n",
      "|Drizzle and Fog                    |\n",
      "|Dust Whirls                        |\n",
      "|Duststorm                          |\n",
      "|Fair                               |\n",
      "|Fair / Windy                       |\n",
      "|Fog                                |\n",
      "|Fog / Windy                        |\n",
      "|Freezing Drizzle                   |\n",
      "|Freezing Rain                      |\n",
      "|Freezing Rain / Windy              |\n",
      "|Funnel Cloud                       |\n",
      "|Hail                               |\n",
      "|Haze                               |\n",
      "|Haze / Windy                       |\n",
      "|Heavy Blowing Snow                 |\n",
      "|Heavy Drizzle                      |\n",
      "|Heavy Freezing Drizzle             |\n",
      "|Heavy Freezing Rain                |\n",
      "|Heavy Freezing Rain / Windy        |\n",
      "|Heavy Ice Pellets                  |\n",
      "|Heavy Rain                         |\n",
      "|Heavy Rain / Windy                 |\n",
      "|Heavy Rain Shower                  |\n",
      "|Heavy Rain Shower / Windy          |\n",
      "|Heavy Rain Showers                 |\n",
      "|Heavy Sleet                        |\n",
      "|Heavy Sleet / Windy                |\n",
      "|Heavy Sleet and Thunder            |\n",
      "|Heavy Smoke                        |\n",
      "|Heavy Snow                         |\n",
      "|Heavy Snow / Windy                 |\n",
      "|Heavy Snow with Thunder            |\n",
      "|Heavy T-Storm                      |\n",
      "|Heavy T-Storm / Windy              |\n",
      "|Heavy Thunderstorms and Rain       |\n",
      "|Heavy Thunderstorms and Snow       |\n",
      "|Heavy Thunderstorms with Small Hail|\n",
      "|Ice Pellets                        |\n",
      "|Light Blowing Snow                 |\n",
      "|Light Drizzle                      |\n",
      "|Light Drizzle / Windy              |\n",
      "|Light Fog                          |\n",
      "|Light Freezing Drizzle             |\n",
      "|Light Freezing Fog                 |\n",
      "|Light Freezing Rain                |\n",
      "|Light Freezing Rain / Windy        |\n",
      "|Light Hail                         |\n",
      "|Light Haze                         |\n",
      "|Light Ice Pellets                  |\n",
      "|Light Rain                         |\n",
      "|Light Rain / Windy                 |\n",
      "|Light Rain Shower                  |\n",
      "|Light Rain Shower / Windy          |\n",
      "|Light Rain Showers                 |\n",
      "|Light Rain with Thunder            |\n",
      "|Light Sleet                        |\n",
      "|Light Sleet / Windy                |\n",
      "|Light Snow                         |\n",
      "|Light Snow / Windy                 |\n",
      "|Light Snow Grains                  |\n",
      "|Light Snow Shower                  |\n",
      "|Light Snow Shower / Windy          |\n",
      "|Light Snow Showers                 |\n",
      "|Light Snow and Sleet               |\n",
      "|Light Snow and Sleet / Windy       |\n",
      "|Light Snow with Thunder            |\n",
      "|Light Thunderstorm                 |\n",
      "|Light Thunderstorms and Rain       |\n",
      "|Light Thunderstorms and Snow       |\n",
      "|Low Drifting Snow                  |\n",
      "|Mist                               |\n",
      "|Mist / Windy                       |\n",
      "|Mostly Cloudy                      |\n",
      "|Mostly Cloudy / Windy              |\n",
      "|N/A Precipitation                  |\n",
      "|Overcast                           |\n",
      "|Partial Fog                        |\n",
      "|Partial Fog / Windy                |\n",
      "|Partly Cloudy                      |\n",
      "|Partly Cloudy / Windy              |\n",
      "|Patches of Fog                     |\n",
      "|Patches of Fog / Windy             |\n",
      "|Rain                               |\n",
      "|Rain / Windy                       |\n",
      "|Rain Shower                        |\n",
      "|Rain Shower / Windy                |\n",
      "|Rain Showers                       |\n",
      "|Rain and Sleet                     |\n",
      "|Sand                               |\n",
      "|Sand / Dust Whirls Nearby          |\n",
      "|Sand / Dust Whirlwinds             |\n",
      "|Sand / Dust Whirlwinds / Windy     |\n",
      "|Sand / Windy                       |\n",
      "|Scattered Clouds                   |\n",
      "|Shallow Fog                        |\n",
      "|Shallow Fog / Windy                |\n",
      "|Showers in the Vicinity            |\n",
      "|Sleet                              |\n",
      "|Sleet / Windy                      |\n",
      "|Sleet and Thunder                  |\n",
      "|Small Hail                         |\n",
      "|Smoke                              |\n",
      "|Smoke / Windy                      |\n",
      "|Snow                               |\n",
      "|Snow / Windy                       |\n",
      "|Snow Grains                        |\n",
      "|Snow Showers                       |\n",
      "|Snow and Sleet                     |\n",
      "|Snow and Sleet / Windy             |\n",
      "|Snow and Thunder                   |\n",
      "|Snow and Thunder / Windy           |\n",
      "|Squalls                            |\n",
      "|Squalls / Windy                    |\n",
      "|T-Storm                            |\n",
      "|T-Storm / Windy                    |\n",
      "|Thunder                            |\n",
      "|Thunder / Windy                    |\n",
      "|Thunder / Wintry Mix               |\n",
      "|Thunder / Wintry Mix / Windy       |\n",
      "|Thunder and Hail                   |\n",
      "|Thunder and Hail / Windy           |\n",
      "|Thunder in the Vicinity            |\n",
      "|Thunderstorm                       |\n",
      "|Thunderstorms and Rain             |\n",
      "|Thunderstorms and Snow             |\n",
      "|Tornado                            |\n",
      "|Volcanic Ash                       |\n",
      "|Widespread Dust                    |\n",
      "|Widespread Dust / Windy            |\n",
      "|Wintry Mix                         |\n",
      "|Wintry Mix / Windy                 |\n",
      "+-----------------------------------+\n",
      "\n"
     ]
    }
   ],
   "execution_count": 21
  },
  {
   "cell_type": "code",
   "source": [
    "df.groupBy(\"Severity\").count().withColumn(\"porcentaje\", col(\"count\") / df.count() * 100).show()"
   ],
   "metadata": {
    "colab": {
     "base_uri": "https://localhost:8080/"
    },
    "id": "NM4XTqd1wPRg",
    "executionInfo": {
     "status": "ok",
     "timestamp": 1746233587721,
     "user_tz": 360,
     "elapsed": 33257,
     "user": {
      "displayName": "Luis Angel Herrera",
      "userId": "01372399337257934813"
     }
    },
    "outputId": "4320e7bb-e16c-4896-f980-5e8bff07fa1f",
    "ExecuteTime": {
     "end_time": "2025-05-24T17:49:00.771772Z",
     "start_time": "2025-05-24T17:48:55.271156Z"
    }
   },
   "id": "NM4XTqd1wPRg",
   "outputs": [
    {
     "name": "stdout",
     "output_type": "stream",
     "text": [
      "+--------+-------+------------------+\n",
      "|Severity|  count|        porcentaje|\n",
      "+--------+-------+------------------+\n",
      "|       1|  67366|0.8716688098458748|\n",
      "|       3|1299337| 16.81250981769304|\n",
      "|       4| 204710|2.6488038782701815|\n",
      "|       2|6156981|  79.6670174941909|\n",
      "+--------+-------+------------------+\n",
      "\n"
     ]
    }
   ],
   "execution_count": 22
  },
  {
   "cell_type": "code",
   "source": [
    "df = df.withColumn(\"Weather_Type\",\n",
    "    when(col(\"Weather_Condition\").isNull(), \"Desconocido\")\n",
    "    .when(col(\"Weather_Condition\").rlike(\"(?i)null|N/A\"), \"Desconocido\")\n",
    "    .when(col(\"Weather_Condition\").rlike(\"(?i)Rain|Drizzle|Thunder|Storm|Snow|Sleet|Hail|Ice|Fog|Haze|Mist|Dust|Sand|Smoke|Wintry|Squall|Tornado|Ash|Funnel\"), \"Adverso\")\n",
    "    .otherwise(\"Favorable\")\n",
    ")\n",
    "df.groupBy(\"Weather_Type\").count().withColumn(\"porcentaje\", col(\"count\") / df.count() * 100).show()"
   ],
   "metadata": {
    "colab": {
     "base_uri": "https://localhost:8080/"
    },
    "id": "vbUs3N01yi9O",
    "executionInfo": {
     "status": "ok",
     "timestamp": 1746233639728,
     "user_tz": 360,
     "elapsed": 52006,
     "user": {
      "displayName": "Luis Angel Herrera",
      "userId": "01372399337257934813"
     }
    },
    "outputId": "8c80036b-bd49-4225-96e4-f1f354535ce5",
    "ExecuteTime": {
     "end_time": "2025-05-24T17:49:26.068991Z",
     "start_time": "2025-05-24T17:49:20.059226Z"
    }
   },
   "id": "vbUs3N01yi9O",
   "outputs": [
    {
     "name": "stdout",
     "output_type": "stream",
     "text": [
      "+------------+-------+------------------+\n",
      "|Weather_Type|  count|        porcentaje|\n",
      "+------------+-------+------------------+\n",
      "| Desconocido| 176711|2.2865164483073714|\n",
      "|     Adverso| 981225|12.696363565315123|\n",
      "|   Favorable|6570458| 85.01711998637751|\n",
      "+------------+-------+------------------+\n",
      "\n"
     ]
    }
   ],
   "execution_count": 23
  },
  {
   "cell_type": "code",
   "source": [
    "from pyspark.sql.functions import hour\n",
    "\n",
    "df = df.withColumn(\n",
    "    \"Hora_Periodo\",\n",
    "    when(hour(\"Start_Time\") < 6, \"Madrugada\")\n",
    "    .when(hour(\"Start_Time\") < 18, \"Alta actividad\")\n",
    "    .otherwise(\"Tarde-Noche\")\n",
    ")\n",
    "\n",
    "df.groupBy(\"Hora_Periodo\").count().withColumn(\"porcentaje\", col(\"count\") / df.count() * 100).show()"
   ],
   "metadata": {
    "colab": {
     "base_uri": "https://localhost:8080/"
    },
    "id": "6H0FBnT3ym36",
    "executionInfo": {
     "status": "ok",
     "timestamp": 1746233675266,
     "user_tz": 360,
     "elapsed": 35539,
     "user": {
      "displayName": "Luis Angel Herrera",
      "userId": "01372399337257934813"
     }
    },
    "outputId": "bf91e993-379f-4299-befa-cef5eca62277",
    "ExecuteTime": {
     "end_time": "2025-05-24T17:49:41.735765Z",
     "start_time": "2025-05-24T17:49:35.467844Z"
    }
   },
   "id": "6H0FBnT3ym36",
   "outputs": [
    {
     "name": "stdout",
     "output_type": "stream",
     "text": [
      "+--------------+-------+------------------+\n",
      "|  Hora_Periodo|  count|        porcentaje|\n",
      "+--------------+-------+------------------+\n",
      "|   Tarde-Noche|1438025|18.607035303841908|\n",
      "|Alta actividad|5515796| 71.37053312758123|\n",
      "|     Madrugada| 774573| 10.02243156857686|\n",
      "+--------------+-------+------------------+\n",
      "\n"
     ]
    }
   ],
   "execution_count": 24
  },
  {
   "cell_type": "code",
   "source": [
    "from pyspark.sql.functions import date_format\n",
    "\n",
    "# Paso 1: Extraer el día de la semana en formato abreviado (Mon, Tue, ..., Sun)\n",
    "df = df.withColumn(\"Dia_Semana\", date_format(\"Start_Time\", \"E\"))\n",
    "\n",
    "# Paso 2: Clasificar como \"Laboral\" o \"Fin de semana\"\n",
    "df = df.withColumn(\n",
    "    \"Tipo_Día\",\n",
    "    when(col(\"Dia_Semana\").isin(\"Sat\", \"Sun\"), \"Fin de semana\").otherwise(\"Laboral\")\n",
    ")\n",
    "\n",
    "# Paso 3: Calcular distribución porcentual\n",
    "df.groupBy(\"Tipo_Día\") \\\n",
    "  .count() \\\n",
    "  .withColumn(\"porcentaje\", col(\"count\") / df.count() * 100) \\\n",
    "  .show()"
   ],
   "metadata": {
    "colab": {
     "base_uri": "https://localhost:8080/"
    },
    "id": "nPBUyrzsz0Bu",
    "executionInfo": {
     "status": "ok",
     "timestamp": 1746233714888,
     "user_tz": 360,
     "elapsed": 39625,
     "user": {
      "displayName": "Luis Angel Herrera",
      "userId": "01372399337257934813"
     }
    },
    "outputId": "0aa44fce-d822-4901-aa99-dcb9a699640c",
    "ExecuteTime": {
     "end_time": "2025-05-24T17:49:58.498961Z",
     "start_time": "2025-05-24T17:49:51.915628Z"
    }
   },
   "id": "nPBUyrzsz0Bu",
   "outputs": [
    {
     "name": "stdout",
     "output_type": "stream",
     "text": [
      "+-------------+-------+------------------+\n",
      "|     Tipo_Día|  count|        porcentaje|\n",
      "+-------------+-------+------------------+\n",
      "|Fin de semana|1231427|15.933802029244367|\n",
      "|      Laboral|6496967| 84.06619797075562|\n",
      "+-------------+-------+------------------+\n",
      "\n"
     ]
    }
   ],
   "execution_count": 25
  },
  {
   "cell_type": "code",
   "source": [
    "# Revisar ocurrencia de variables booleanas\n",
    "variables_viales = [\"Junction\", \"Crossing\", \"Traffic_Signal\", \"Amenity\", \"Bump\", \"Give_Way\", \"No_Exit\", \"Railway\", \"Roundabout\", \"Station\", \"Stop\", \"Traffic_Calming\", \"Turning_Loop\"]\n",
    "\n",
    "for var in variables_viales:\n",
    "    df.groupBy(var) \\\n",
    "      .count() \\\n",
    "      .withColumn(\"porcentaje\", col(\"count\") / df.count() * 100) \\\n",
    "      .show()"
   ],
   "metadata": {
    "colab": {
     "base_uri": "https://localhost:8080/"
    },
    "id": "qfTa9Sn_8RN2",
    "executionInfo": {
     "status": "ok",
     "timestamp": 1746234141234,
     "user_tz": 360,
     "elapsed": 426348,
     "user": {
      "displayName": "Luis Angel Herrera",
      "userId": "01372399337257934813"
     }
    },
    "outputId": "a027dd73-48f9-49e1-8272-395d29135735",
    "ExecuteTime": {
     "end_time": "2025-05-24T17:51:07.664517Z",
     "start_time": "2025-05-24T17:50:07.878511Z"
    }
   },
   "id": "qfTa9Sn_8RN2",
   "outputs": [
    {
     "name": "stdout",
     "output_type": "stream",
     "text": [
      "+--------+-------+-----------------+\n",
      "|Junction|  count|       porcentaje|\n",
      "+--------+-------+-----------------+\n",
      "|    true| 571342|7.392764913383039|\n",
      "|   false|7157052|92.60723508661695|\n",
      "+--------+-------+-----------------+\n",
      "\n",
      "+--------+-------+------------------+\n",
      "|Crossing|  count|        porcentaje|\n",
      "+--------+-------+------------------+\n",
      "|    true| 873763|11.305880626686477|\n",
      "|   false|6854631| 88.69411937331353|\n",
      "+--------+-------+------------------+\n",
      "\n",
      "+--------------+-------+------------------+\n",
      "|Traffic_Signal|  count|        porcentaje|\n",
      "+--------------+-------+------------------+\n",
      "|          true|1143772|14.799607783971677|\n",
      "|         false|6584622| 85.20039221602832|\n",
      "+--------------+-------+------------------+\n",
      "\n",
      "+-------+-------+------------------+\n",
      "|Amenity|  count|        porcentaje|\n",
      "+-------+-------+------------------+\n",
      "|   true|  96334|1.2464944204449204|\n",
      "|  false|7632060| 98.75350557955508|\n",
      "+-------+-------+------------------+\n",
      "\n",
      "+-----+-------+--------------------+\n",
      "| Bump|  count|          porcentaje|\n",
      "+-----+-------+--------------------+\n",
      "| true|   3514|0.045468696342344864|\n",
      "|false|7724880|   99.95453130365766|\n",
      "+-----+-------+--------------------+\n",
      "\n",
      "+--------+-------+------------------+\n",
      "|Give_Way|  count|        porcentaje|\n",
      "+--------+-------+------------------+\n",
      "|    true|  36582|0.4733454324404268|\n",
      "|   false|7691812| 99.52665456755958|\n",
      "+--------+-------+------------------+\n",
      "\n",
      "+-------+-------+------------------+\n",
      "|No_Exit|  count|        porcentaje|\n",
      "+-------+-------+------------------+\n",
      "|   true|  19545|0.2528985970435772|\n",
      "|  false|7708849| 99.74710140295642|\n",
      "+-------+-------+------------------+\n",
      "\n",
      "+-------+-------+------------------+\n",
      "|Railway|  count|        porcentaje|\n",
      "+-------+-------+------------------+\n",
      "|   true|  66979|0.8666613011707218|\n",
      "|  false|7661415| 99.13333869882928|\n",
      "+-------+-------+------------------+\n",
      "\n",
      "+----------+-------+--------------------+\n",
      "|Roundabout|  count|          porcentaje|\n",
      "+----------+-------+--------------------+\n",
      "|      true|    249|0.003221885426648797|\n",
      "|     false|7728145|   99.99677811457335|\n",
      "+----------+-------+--------------------+\n",
      "\n",
      "+-------+-------+------------------+\n",
      "|Station|  count|        porcentaje|\n",
      "+-------+-------+------------------+\n",
      "|   true| 201901|2.6124573876538904|\n",
      "|  false|7526493| 97.38754261234611|\n",
      "+-------+-------+------------------+\n",
      "\n",
      "+-----+-------+------------------+\n",
      "| Stop|  count|        porcentaje|\n",
      "+-----+-------+------------------+\n",
      "| true| 214371|2.7738104449643743|\n",
      "|false|7514023| 97.22618955503563|\n",
      "+-----+-------+------------------+\n",
      "\n",
      "+---------------+-------+-------------------+\n",
      "|Traffic_Calming|  count|         porcentaje|\n",
      "+---------------+-------+-------------------+\n",
      "|           true|   7598|0.09831279305894602|\n",
      "|          false|7720796|  99.90168720694106|\n",
      "+---------------+-------+-------------------+\n",
      "\n",
      "+------------+-------+----------+\n",
      "|Turning_Loop|  count|porcentaje|\n",
      "+------------+-------+----------+\n",
      "|       false|7728394|     100.0|\n",
      "+------------+-------+----------+\n",
      "\n"
     ]
    }
   ],
   "execution_count": 26
  },
  {
   "cell_type": "code",
   "source": [
    "from pyspark.sql.functions import count, round\n",
    "\n",
    "# Paso 1: Filtrar registros válidos (sin valores nulos en variables clave)\n",
    "df_filtrado = df.filter(\n",
    "    (col(\"Severity\").isNotNull()) &\n",
    "    (col(\"Hora_Periodo\").isNotNull()) &\n",
    "    (col(\"Tipo_Día\").isNotNull()) &\n",
    "    (col(\"Weather_Type\").isNotNull())\n",
    ")\n",
    "\n",
    "# Paso 2: Contar el total de registros filtrados\n",
    "total_registros = df_filtrado.count()\n",
    "\n",
    "# Paso 3: Agrupar por combinación de estratos y calcular frecuencia y probabilidad empírica\n",
    "estratos = df_filtrado.groupBy(\"Severity\", \"Hora_Periodo\", \"Tipo_Día\", \"Weather_Type\") \\\n",
    "    .agg(count(\"*\").alias(\"frecuencia\")) \\\n",
    "    .withColumn(\"probabilidad\", round(col(\"frecuencia\") / total_registros, 6)) \\\n",
    "    .orderBy(col(\"probabilidad\").desc())\n",
    "\n",
    "# Paso 4 (opcional): Mostrar tabla en consola\n",
    "estratos.show(n=72, truncate=False)\n",
    "\n",
    "# Paso 5 (opcional): Exportar a CSV para integrarlo al documento\n",
    "estratos_pd = estratos.toPandas()\n",
    "estratos_pd.to_csv(\"probabilidades_estratos.csv\", index=False)"
   ],
   "metadata": {
    "colab": {
     "base_uri": "https://localhost:8080/"
    },
    "id": "F08kOS1Vl7oB",
    "executionInfo": {
     "status": "ok",
     "timestamp": 1746234271745,
     "user_tz": 360,
     "elapsed": 130513,
     "user": {
      "displayName": "Luis Angel Herrera",
      "userId": "01372399337257934813"
     }
    },
    "outputId": "0d315350-3cd9-4380-afbb-2891002c6db5",
    "ExecuteTime": {
     "end_time": "2025-05-24T17:51:34.597872Z",
     "start_time": "2025-05-24T17:51:16.119465Z"
    }
   },
   "id": "F08kOS1Vl7oB",
   "outputs": [
    {
     "name": "stdout",
     "output_type": "stream",
     "text": [
      "+--------+--------------+-------------+------------+----------+------------+\n",
      "|Severity|Hora_Periodo  |Tipo_Día     |Weather_Type|frecuencia|probabilidad|\n",
      "+--------+--------------+-------------+------------+----------+------------+\n",
      "|2       |Alta actividad|Laboral      |Favorable   |3284990   |0.425055    |\n",
      "|2       |Tarde-Noche   |Laboral      |Favorable   |769153    |0.099523    |\n",
      "|3       |Alta actividad|Laboral      |Favorable   |668374    |0.086483    |\n",
      "|2       |Alta actividad|Fin de semana|Favorable   |474374    |0.061381    |\n",
      "|2       |Alta actividad|Laboral      |Adverso     |471166    |0.060966    |\n",
      "|2       |Madrugada     |Laboral      |Favorable   |387436    |0.050132    |\n",
      "|2       |Tarde-Noche   |Fin de semana|Favorable   |203195    |0.026292    |\n",
      "|3       |Tarde-Noche   |Laboral      |Favorable   |172912    |0.022374    |\n",
      "|2       |Madrugada     |Fin de semana|Favorable   |129078    |0.016702    |\n",
      "|3       |Alta actividad|Fin de semana|Favorable   |125639    |0.016257    |\n",
      "|3       |Alta actividad|Laboral      |Adverso     |106102    |0.013729    |\n",
      "|2       |Tarde-Noche   |Laboral      |Adverso     |103297    |0.013366    |\n",
      "|4       |Alta actividad|Laboral      |Favorable   |81996     |0.01061     |\n",
      "|2       |Alta actividad|Fin de semana|Adverso     |75466     |0.009765    |\n",
      "|2       |Alta actividad|Laboral      |Desconocido |75252     |0.009737    |\n",
      "|2       |Madrugada     |Laboral      |Adverso     |71839     |0.009295    |\n",
      "|3       |Madrugada     |Laboral      |Favorable   |67200     |0.008695    |\n",
      "|1       |Alta actividad|Laboral      |Favorable   |43985     |0.005691    |\n",
      "|3       |Tarde-Noche   |Fin de semana|Favorable   |38047     |0.004923    |\n",
      "|4       |Tarde-Noche   |Laboral      |Favorable   |31060     |0.004019    |\n",
      "|2       |Tarde-Noche   |Fin de semana|Adverso     |29489     |0.003816    |\n",
      "|3       |Tarde-Noche   |Laboral      |Adverso     |24186     |0.003129    |\n",
      "|3       |Alta actividad|Fin de semana|Adverso     |24028     |0.003109    |\n",
      "|2       |Tarde-Noche   |Laboral      |Desconocido |20498     |0.002652    |\n",
      "|2       |Madrugada     |Fin de semana|Adverso     |19793     |0.002561    |\n",
      "|4       |Madrugada     |Laboral      |Favorable   |19476     |0.00252     |\n",
      "|3       |Madrugada     |Fin de semana|Favorable   |18557     |0.002401    |\n",
      "|3       |Alta actividad|Laboral      |Desconocido |18386     |0.002379    |\n",
      "|4       |Alta actividad|Fin de semana|Favorable   |17595     |0.002277    |\n",
      "|2       |Alta actividad|Fin de semana|Desconocido |16202     |0.002096    |\n",
      "|3       |Madrugada     |Laboral      |Adverso     |14991     |0.00194     |\n",
      "|4       |Alta actividad|Laboral      |Adverso     |13397     |0.001733    |\n",
      "|2       |Madrugada     |Laboral      |Desconocido |12551     |0.001624    |\n",
      "|4       |Tarde-Noche   |Fin de semana|Favorable   |10718     |0.001387    |\n",
      "|4       |Madrugada     |Fin de semana|Favorable   |9523      |0.001232    |\n",
      "|2       |Tarde-Noche   |Fin de semana|Desconocido |7601      |9.84E-4     |\n",
      "|1       |Tarde-Noche   |Laboral      |Favorable   |6919      |8.95E-4     |\n",
      "|1       |Madrugada     |Laboral      |Favorable   |6156      |7.97E-4     |\n",
      "|3       |Tarde-Noche   |Fin de semana|Adverso     |6011      |7.78E-4     |\n",
      "|2       |Madrugada     |Fin de semana|Desconocido |5601      |7.25E-4     |\n",
      "|3       |Tarde-Noche   |Laboral      |Desconocido |4504      |5.83E-4     |\n",
      "|4       |Tarde-Noche   |Laboral      |Adverso     |4348      |5.63E-4     |\n",
      "|3       |Alta actividad|Fin de semana|Desconocido |4143      |5.36E-4     |\n",
      "|1       |Alta actividad|Laboral      |Adverso     |3783      |4.89E-4     |\n",
      "|4       |Alta actividad|Laboral      |Desconocido |3613      |4.67E-4     |\n",
      "|4       |Madrugada     |Laboral      |Adverso     |3422      |4.43E-4     |\n",
      "|4       |Alta actividad|Fin de semana|Adverso     |2860      |3.7E-4      |\n",
      "|3       |Madrugada     |Fin de semana|Adverso     |2791      |3.61E-4     |\n",
      "|1       |Alta actividad|Fin de semana|Favorable   |2521      |3.26E-4     |\n",
      "|3       |Madrugada     |Laboral      |Desconocido |1969      |2.55E-4     |\n",
      "|4       |Tarde-Noche   |Fin de semana|Adverso     |1443      |1.87E-4     |\n",
      "|4       |Madrugada     |Fin de semana|Adverso     |1320      |1.71E-4     |\n",
      "|4       |Tarde-Noche   |Laboral      |Desconocido |1245      |1.61E-4     |\n",
      "|3       |Tarde-Noche   |Fin de semana|Desconocido |1067      |1.38E-4     |\n",
      "|1       |Tarde-Noche   |Fin de semana|Favorable   |1054      |1.36E-4     |\n",
      "|4       |Alta actividad|Fin de semana|Desconocido |857       |1.11E-4     |\n",
      "|4       |Madrugada     |Laboral      |Desconocido |828       |1.07E-4     |\n",
      "|1       |Alta actividad|Laboral      |Desconocido |709       |9.2E-5      |\n",
      "|1       |Tarde-Noche   |Laboral      |Adverso     |578       |7.5E-5      |\n",
      "|4       |Tarde-Noche   |Fin de semana|Desconocido |512       |6.6E-5      |\n",
      "|1       |Madrugada     |Fin de semana|Favorable   |500       |6.5E-5      |\n",
      "|4       |Madrugada     |Fin de semana|Desconocido |497       |6.4E-5      |\n",
      "|1       |Madrugada     |Laboral      |Adverso     |441       |5.7E-5      |\n",
      "|3       |Madrugada     |Fin de semana|Desconocido |430       |5.6E-5      |\n",
      "|1       |Alta actividad|Fin de semana|Adverso     |336       |4.3E-5      |\n",
      "|1       |Madrugada     |Laboral      |Desconocido |115       |1.5E-5      |\n",
      "|1       |Tarde-Noche   |Laboral      |Desconocido |90        |1.2E-5      |\n",
      "|1       |Tarde-Noche   |Fin de semana|Adverso     |87        |1.1E-5      |\n",
      "|1       |Madrugada     |Fin de semana|Adverso     |51        |7.0E-6      |\n",
      "|1       |Alta actividad|Fin de semana|Desconocido |22        |3.0E-6      |\n",
      "|1       |Madrugada     |Fin de semana|Desconocido |8         |1.0E-6      |\n",
      "|1       |Tarde-Noche   |Fin de semana|Desconocido |11        |1.0E-6      |\n",
      "+--------+--------------+-------------+------------+----------+------------+\n",
      "\n"
     ]
    }
   ],
   "execution_count": 27
  },
  {
   "cell_type": "code",
   "source": [
    "# from google.colab import files\n",
    "# files.download(\"probabilidades_estratos.csv\")"
   ],
   "metadata": {
    "colab": {
     "base_uri": "https://localhost:8080/",
     "height": 17
    },
    "id": "5ojLJDxhr49H",
    "executionInfo": {
     "status": "ok",
     "timestamp": 1746234483400,
     "user_tz": 360,
     "elapsed": 25,
     "user": {
      "displayName": "Luis Angel Herrera",
      "userId": "01372399337257934813"
     }
    },
    "outputId": "9a861987-d8bf-4f2b-b212-a2047740868e",
    "ExecuteTime": {
     "end_time": "2025-05-24T17:51:51.295805Z",
     "start_time": "2025-05-24T17:51:51.292102Z"
    }
   },
   "id": "5ojLJDxhr49H",
   "outputs": [],
   "execution_count": 28
  },
  {
   "cell_type": "code",
   "source": [
    "# Tamaño total de muestra deseado\n",
    "tamanio_muestra_total = 10000\n",
    "\n",
    "# Calcular n_estrato para cada combinación\n",
    "estratos = estratos.withColumn(\n",
    "    \"n_estrato\",\n",
    "    round(col(\"probabilidad\") * tamanio_muestra_total).cast(\"integer\")\n",
    ")"
   ],
   "metadata": {
    "id": "BChqe7HRBaa-",
    "ExecuteTime": {
     "end_time": "2025-05-24T17:52:07.839862Z",
     "start_time": "2025-05-24T17:52:07.813228Z"
    }
   },
   "id": "BChqe7HRBaa-",
   "outputs": [],
   "execution_count": 29
  },
  {
   "cell_type": "code",
   "source": [
    "from pyspark.sql.functions import concat_ws\n",
    "\n",
    "# En df_filtrado (base depurada sin nulos en variables clave)\n",
    "df_filtrado = df_filtrado.withColumn(\n",
    "    \"estrato_id\",\n",
    "    concat_ws(\"_\", \"Severity\", \"Hora_Periodo\", \"Tipo_Día\", \"Weather_Type\")\n",
    ")\n",
    "\n",
    "# Igual en la tabla de estratos con probabilidades y n_estrato\n",
    "estratos = estratos.withColumn(\n",
    "    \"estrato_id\",\n",
    "    concat_ws(\"_\", \"Severity\", \"Hora_Periodo\", \"Tipo_Día\", \"Weather_Type\")\n",
    ")"
   ],
   "metadata": {
    "id": "LaXJrANbEXzf",
    "ExecuteTime": {
     "end_time": "2025-05-24T17:52:24.364238Z",
     "start_time": "2025-05-24T17:52:24.336461Z"
    }
   },
   "id": "LaXJrANbEXzf",
   "outputs": [],
   "execution_count": 30
  },
  {
   "cell_type": "code",
   "source": [
    "# Join para agregar columna de tamaño muestral a cada registro según su estrato\n",
    "df_muestreo = df_filtrado.join(\n",
    "    estratos.select(\"estrato_id\", \"n_estrato\"),\n",
    "    on=\"estrato_id\",\n",
    "    how=\"inner\"\n",
    ")"
   ],
   "metadata": {
    "id": "wZxM1ysZEisF",
    "ExecuteTime": {
     "end_time": "2025-05-24T17:52:39.361114Z",
     "start_time": "2025-05-24T17:52:39.322254Z"
    }
   },
   "id": "wZxM1ysZEisF",
   "outputs": [],
   "execution_count": 31
  },
  {
   "cell_type": "code",
   "source": [
    "from pyspark.sql.functions import rand\n",
    "from pyspark.sql.window import Window\n",
    "from pyspark.sql.functions import row_number\n",
    "\n",
    "# Asignar un número aleatorio y calcular el orden por estrato\n",
    "df_muestreo = df_muestreo.withColumn(\"rand\", rand(seed=42))\n",
    "\n",
    "window = Window.partitionBy(\"estrato_id\").orderBy(\"rand\")\n",
    "\n",
    "df_muestreo = df_muestreo.withColumn(\"row_num\", row_number().over(window))"
   ],
   "metadata": {
    "id": "2KD7I063EpiX",
    "ExecuteTime": {
     "end_time": "2025-05-24T17:53:22.254792Z",
     "start_time": "2025-05-24T17:53:22.207652Z"
    }
   },
   "id": "2KD7I063EpiX",
   "outputs": [],
   "execution_count": 32
  },
  {
   "cell_type": "code",
   "source": [
    "# Seleccionar solo las filas dentro del tamaño asignado por estrato\n",
    "df_muestra_final = df_muestreo.filter(col(\"row_num\") <= col(\"n_estrato\"))"
   ],
   "metadata": {
    "id": "jf2MWSiIE2Ja",
    "ExecuteTime": {
     "end_time": "2025-05-24T17:54:04.194841Z",
     "start_time": "2025-05-24T17:54:04.179379Z"
    }
   },
   "id": "jf2MWSiIE2Ja",
   "outputs": [],
   "execution_count": 33
  },
  {
   "cell_type": "code",
   "source": [
    "from pyspark.sql.functions import count, col\n",
    "\n",
    "# Paso 1: Contar observaciones extraídas por estrato en la muestra final\n",
    "conteo_muestra = df_muestra_final.groupBy(\"estrato_id\") \\\n",
    "    .agg(count(\"*\").alias(\"observaciones_extraidas\"))\n",
    "\n",
    "# Paso 2: Unir con la tabla de tamaños esperados (n_estrato)\n",
    "validacion = conteo_muestra.join(\n",
    "    estratos.select(\"estrato_id\", \"n_estrato\"),\n",
    "    on=\"estrato_id\",\n",
    "    how=\"inner\"\n",
    ")\n",
    "\n",
    "# Paso 3: Calcular diferencia entre lo observado y lo esperado\n",
    "validacion = validacion.withColumn(\n",
    "    \"diferencia\",\n",
    "    col(\"observaciones_extraidas\") - col(\"n_estrato\")\n",
    ")\n",
    "\n",
    "# Mostrar resultados en consola\n",
    "validacion.orderBy(\"diferencia\").show(truncate=False)\n"
   ],
   "metadata": {
    "colab": {
     "base_uri": "https://localhost:8080/"
    },
    "id": "L9WUciwIFd0O",
    "executionInfo": {
     "status": "ok",
     "timestamp": 1746241330799,
     "user_tz": 360,
     "elapsed": 143494,
     "user": {
      "displayName": "Luis Angel Herrera",
      "userId": "01372399337257934813"
     }
    },
    "outputId": "8ec2fb1b-b7df-411f-d6eb-1af9bc6f1f20",
    "ExecuteTime": {
     "end_time": "2025-05-24T17:55:53.206586Z",
     "start_time": "2025-05-24T17:55:28.089241Z"
    }
   },
   "id": "L9WUciwIFd0O",
   "outputs": [
    {
     "name": "stdout",
     "output_type": "stream",
     "text": [
      "+------------------------------------------+-----------------------+---------+----------+\n",
      "|estrato_id                                |observaciones_extraidas|n_estrato|diferencia|\n",
      "+------------------------------------------+-----------------------+---------+----------+\n",
      "|1_Alta actividad_Fin de semana_Favorable  |3                      |3        |0         |\n",
      "|1_Madrugada_Laboral_Adverso               |1                      |1        |0         |\n",
      "|1_Alta actividad_Laboral_Adverso          |5                      |5        |0         |\n",
      "|1_Madrugada_Laboral_Favorable             |8                      |8        |0         |\n",
      "|1_Alta actividad_Laboral_Desconocido      |1                      |1        |0         |\n",
      "|1_Tarde-Noche_Fin de semana_Favorable     |1                      |1        |0         |\n",
      "|1_Alta actividad_Laboral_Favorable        |57                     |57       |0         |\n",
      "|2_Alta actividad_Laboral_Favorable        |4251                   |4251     |0         |\n",
      "|1_Madrugada_Fin de semana_Favorable       |1                      |1        |0         |\n",
      "|2_Madrugada_Fin de semana_Adverso         |26                     |26       |0         |\n",
      "|1_Tarde-Noche_Laboral_Adverso             |1                      |1        |0         |\n",
      "|2_Madrugada_Laboral_Adverso               |93                     |93       |0         |\n",
      "|1_Tarde-Noche_Laboral_Favorable           |9                      |9        |0         |\n",
      "|2_Madrugada_Laboral_Favorable             |501                    |501      |0         |\n",
      "|2_Alta actividad_Fin de semana_Adverso    |98                     |98       |0         |\n",
      "|2_Tarde-Noche_Fin de semana_Favorable     |263                    |263      |0         |\n",
      "|2_Alta actividad_Fin de semana_Desconocido|21                     |21       |0         |\n",
      "|3_Alta actividad_Fin de semana_Desconocido|5                      |5        |0         |\n",
      "|2_Alta actividad_Fin de semana_Favorable  |614                    |614      |0         |\n",
      "|3_Alta actividad_Fin de semana_Favorable  |163                    |163      |0         |\n",
      "+------------------------------------------+-----------------------+---------+----------+\n",
      "only showing top 20 rows\n",
      "\n"
     ]
    }
   ],
   "execution_count": 34
  },
  {
   "cell_type": "code",
   "source": [
    "validacion.filter(col(\"diferencia\") < 0).orderBy(\"diferencia\").show(truncate=False)"
   ],
   "metadata": {
    "colab": {
     "base_uri": "https://localhost:8080/"
    },
    "id": "4c81sI5VJ8jl",
    "executionInfo": {
     "status": "ok",
     "timestamp": 1746242512319,
     "user_tz": 360,
     "elapsed": 148972,
     "user": {
      "displayName": "Luis Angel Herrera",
      "userId": "01372399337257934813"
     }
    },
    "outputId": "606ffdb4-6cf4-4e71-f788-931e84875f4b",
    "ExecuteTime": {
     "end_time": "2025-05-24T17:58:03.708685Z",
     "start_time": "2025-05-24T17:57:39.922147Z"
    }
   },
   "id": "4c81sI5VJ8jl",
   "outputs": [
    {
     "name": "stdout",
     "output_type": "stream",
     "text": [
      "+----------+-----------------------+---------+----------+\n",
      "|estrato_id|observaciones_extraidas|n_estrato|diferencia|\n",
      "+----------+-----------------------+---------+----------+\n",
      "+----------+-----------------------+---------+----------+\n",
      "\n"
     ]
    }
   ],
   "execution_count": 35
  },
  {
   "cell_type": "markdown",
   "id": "2c1675e0e5c33d36",
   "metadata": {
    "id": "2c1675e0e5c33d36"
   },
   "source": [
    "# References\n",
    "\n",
    "- Moosavi, Sobhan, Mohammad Hossein Samavatian, Srinivasan Parthasarathy, and Rajiv Ramnath. “A Countrywide Traffic Accident Dataset.”, 2019.\n",
    "- Moosavi, Sobhan, Mohammad Hossein Samavatian, Srinivasan Parthasarathy, Radu Teodorescu, and Rajiv Ramnath. \"Accident Risk Prediction based on Heterogeneous Sparse Data: New Dataset and Insights.\" In proceedings of the 27th ACM SIGSPATIAL International Conference on Advances in Geographic Information Systems, ACM, 2019."
   ]
  }
 ],
 "metadata": {
  "colab": {
   "provenance": []
  },
  "kernelspec": {
   "display_name": "Python 3",
   "language": "python",
   "name": "python3"
  },
  "language_info": {
   "codemirror_mode": {
    "name": "ipython",
    "version": 2
   },
   "file_extension": ".py",
   "mimetype": "text/x-python",
   "name": "python",
   "nbconvert_exporter": "python",
   "pygments_lexer": "ipython2",
   "version": "2.7.6"
  }
 },
 "nbformat": 4,
 "nbformat_minor": 5
}
