{
 "cells": [
  {
   "metadata": {},
   "cell_type": "markdown",
   "source": [
    "# Proyecto | Base de Datos de Big Data\n",
    "\n",
    "## Descripción de la base de datos\n",
    "\n",
    "La base de datos contiene información sobre accidentes de tráfico en los Estados Unidos. La base de datos cuenta con 7 millones de registros y 49 variables por accidente. Estas variables incluye información en dimensiones temporales, geográfica, meteorológica y estructural (Moosavi, Samavatian, Parthasarathy, & Ramnath, 2019).\n",
    "\n",
    "Enlace de descarga: https://www.kaggle.com/datasets/sobhanmoosavi/us-accidents\n",
    "\n",
    "## Reglas de particionamiento\n",
    "\n"
   ],
   "id": "360175c61452cf4"
  },
  {
   "metadata": {},
   "cell_type": "markdown",
   "source": "## Carga de la base de datos",
   "id": "241e15a4f6322cd6"
  },
  {
   "metadata": {
    "ExecuteTime": {
     "end_time": "2025-05-03T01:56:39.625564Z",
     "start_time": "2025-05-03T01:56:39.321547Z"
    }
   },
   "cell_type": "code",
   "source": [
    "import os\n",
    "\n",
    "import kagglehub\n",
    "from pyspark.sql import SparkSession"
   ],
   "id": "initial_id",
   "outputs": [
    {
     "name": "stderr",
     "output_type": "stream",
     "text": [
      "C:\\Users\\danie\\anaconda3\\envs\\env_pyspark\\Lib\\site-packages\\tqdm\\auto.py:21: TqdmWarning: IProgress not found. Please update jupyter and ipywidgets. See https://ipywidgets.readthedocs.io/en/stable/user_install.html\n",
      "  from .autonotebook import tqdm as notebook_tqdm\n"
     ]
    }
   ],
   "execution_count": 1
  },
  {
   "metadata": {},
   "cell_type": "markdown",
   "source": "Descarga de la base de datos utilizando el cliente de Kaggle. Este cliente permite descargar la base de datos directamente desde Kaggle sin necesidad de descargarla manualmente desde el sitio web de Kaggle.",
   "id": "5c8659fd7a06fece"
  },
  {
   "metadata": {
    "ExecuteTime": {
     "end_time": "2025-05-03T01:56:40.520007Z",
     "start_time": "2025-05-03T01:56:39.652160Z"
    }
   },
   "cell_type": "code",
   "source": [
    "# Download the latest version\n",
    "path = kagglehub.dataset_download(\"sobhanmoosavi/us-accidents\")\n",
    "\n",
    "print(\"Path to dataset files:\", path)"
   ],
   "id": "369d274e9342e114",
   "outputs": [
    {
     "name": "stdout",
     "output_type": "stream",
     "text": [
      "Path to dataset files: C:\\Users\\danie\\.cache\\kagglehub\\datasets\\sobhanmoosavi\\us-accidents\\versions\\13\n"
     ]
    }
   ],
   "execution_count": 2
  },
  {
   "metadata": {
    "ExecuteTime": {
     "end_time": "2025-05-03T01:56:41.039138Z",
     "start_time": "2025-05-03T01:56:41.033465Z"
    }
   },
   "cell_type": "code",
   "source": [
    "dataset_path = path + \"/US_Accidents_March23.csv\"\n",
    "print(f\"Filesize of the dataset: {os.path.getsize(dataset_path) / (1024 * 1024 * 1024):.2f} GB\")"
   ],
   "id": "6997c3709c55a6a7",
   "outputs": [
    {
     "name": "stdout",
     "output_type": "stream",
     "text": [
      "Filesize of the dataset: 2.85 GB\n"
     ]
    }
   ],
   "execution_count": 3
  },
  {
   "metadata": {},
   "cell_type": "markdown",
   "source": "Creación de la sesión de PySpark. Esta sesión permite cargar la base de datos en un dataframe de PySpark.",
   "id": "3566fefa383fda8c"
  },
  {
   "metadata": {
    "ExecuteTime": {
     "end_time": "2025-05-03T01:56:53.775698Z",
     "start_time": "2025-05-03T01:56:41.097389Z"
    }
   },
   "cell_type": "code",
   "source": [
    "# Create a Spark session\n",
    "spark = SparkSession.builder \\\n",
    "    .appName(\"USTrafficAccidents\") \\\n",
    "    .getOrCreate()\n",
    "\n",
    "spark.conf.set(\"spark.sql.repl.eagerEval.enabled\", True)\n",
    "\n",
    "spark"
   ],
   "id": "56e6bee9bc0c7951",
   "outputs": [
    {
     "data": {
      "text/plain": [
       "<pyspark.sql.session.SparkSession at 0x20f7f6e7260>"
      ],
      "text/html": [
       "\n",
       "            <div>\n",
       "                <p><b>SparkSession - in-memory</b></p>\n",
       "                \n",
       "        <div>\n",
       "            <p><b>SparkContext</b></p>\n",
       "\n",
       "            <p><a href=\"http://DESKTOP-DIU142O:4040\">Spark UI</a></p>\n",
       "\n",
       "            <dl>\n",
       "              <dt>Version</dt>\n",
       "                <dd><code>v3.5.4</code></dd>\n",
       "              <dt>Master</dt>\n",
       "                <dd><code>local[*]</code></dd>\n",
       "              <dt>AppName</dt>\n",
       "                <dd><code>USTrafficAccidents</code></dd>\n",
       "            </dl>\n",
       "        </div>\n",
       "        \n",
       "            </div>\n",
       "        "
      ]
     },
     "execution_count": 4,
     "metadata": {},
     "output_type": "execute_result"
    }
   ],
   "execution_count": 4
  },
  {
   "metadata": {},
   "cell_type": "markdown",
   "source": "Carga de la base de datos en un dataframe de PySpark.",
   "id": "94299a8f10ef871e"
  },
  {
   "metadata": {
    "ExecuteTime": {
     "end_time": "2025-05-03T02:09:24.267964Z",
     "start_time": "2025-05-03T02:09:15.633495Z"
    }
   },
   "cell_type": "code",
   "source": [
    "df = spark.read.csv(dataset_path, header=True, inferSchema=True)\n",
    "\n",
    "# Show the first row of the DataFrame\n",
    "df.show(1, vertical=True)"
   ],
   "id": "691127f19bcc0cdd",
   "outputs": [
    {
     "name": "stdout",
     "output_type": "stream",
     "text": [
      "-RECORD 0-------------------------------------\n",
      " ID                    | A-1                  \n",
      " Source                | Source2              \n",
      " Severity              | 3                    \n",
      " Start_Time            | 2016-02-08 05:46:00  \n",
      " End_Time              | 2016-02-08 11:00:00  \n",
      " Start_Lat             | 39.865147            \n",
      " Start_Lng             | -84.058723           \n",
      " End_Lat               | NULL                 \n",
      " End_Lng               | NULL                 \n",
      " Distance(mi)          | 0.01                 \n",
      " Description           | Right lane blocke... \n",
      " Street                | I-70 E               \n",
      " City                  | Dayton               \n",
      " County                | Montgomery           \n",
      " State                 | OH                   \n",
      " Zipcode               | 45424                \n",
      " Country               | US                   \n",
      " Timezone              | US/Eastern           \n",
      " Airport_Code          | KFFO                 \n",
      " Weather_Timestamp     | 2016-02-08 05:58:00  \n",
      " Temperature(F)        | 36.9                 \n",
      " Wind_Chill(F)         | NULL                 \n",
      " Humidity(%)           | 91.0                 \n",
      " Pressure(in)          | 29.68                \n",
      " Visibility(mi)        | 10.0                 \n",
      " Wind_Direction        | Calm                 \n",
      " Wind_Speed(mph)       | NULL                 \n",
      " Precipitation(in)     | 0.02                 \n",
      " Weather_Condition     | Light Rain           \n",
      " Amenity               | false                \n",
      " Bump                  | false                \n",
      " Crossing              | false                \n",
      " Give_Way              | false                \n",
      " Junction              | false                \n",
      " No_Exit               | false                \n",
      " Railway               | false                \n",
      " Roundabout            | false                \n",
      " Station               | false                \n",
      " Stop                  | false                \n",
      " Traffic_Calming       | false                \n",
      " Traffic_Signal        | false                \n",
      " Turning_Loop          | false                \n",
      " Sunrise_Sunset        | Night                \n",
      " Civil_Twilight        | Night                \n",
      " Nautical_Twilight     | Night                \n",
      " Astronomical_Twilight | Night                \n",
      "only showing top 1 row\n",
      "\n"
     ]
    }
   ],
   "execution_count": 7
  },
  {
   "metadata": {},
   "cell_type": "markdown",
   "source": "## Extracción de submuestras",
   "id": "ee50767037bc932c"
  }
 ],
 "metadata": {
  "kernelspec": {
   "display_name": "Python 3",
   "language": "python",
   "name": "python3"
  },
  "language_info": {
   "codemirror_mode": {
    "name": "ipython",
    "version": 2
   },
   "file_extension": ".py",
   "mimetype": "text/x-python",
   "name": "python",
   "nbconvert_exporter": "python",
   "pygments_lexer": "ipython2",
   "version": "2.7.6"
  }
 },
 "nbformat": 4,
 "nbformat_minor": 5
}
