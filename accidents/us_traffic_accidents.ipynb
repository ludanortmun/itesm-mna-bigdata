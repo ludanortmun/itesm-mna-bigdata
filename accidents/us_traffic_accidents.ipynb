{
 "cells": [
  {
   "metadata": {
    "id": "2d57b5512337920b"
   },
   "cell_type": "markdown",
   "source": [
    "# Traffic Accidents analysis\n",
    "\n",
    "## Dataset summary\n",
    "\n",
    "The dataset to use in this exercise is \"US Accidents (2016 - 2023)\" by Sobhan Moosavi, which can be downloaded from Kaggle using this URL: https://www.kaggle.com/datasets/sobhanmoosavi/us-accidents.\n",
    "\n",
    "This dataset contains information about traffic accidents in the United States from 2016 to 2023. It includes various features such as the date and time of the accident, location, weather conditions, and more."
   ],
   "id": "2d57b5512337920b"
  },
  {
   "metadata": {
    "id": "705d7887d3550367",
    "executionInfo": {
     "status": "ok",
     "timestamp": 1745899242458,
     "user_tz": 360,
     "elapsed": 12925,
     "user": {
      "displayName": "Anuar Olmos López",
      "userId": "16625735633940260954"
     }
    },
    "ExecuteTime": {
     "end_time": "2025-04-29T04:29:49.837740Z",
     "start_time": "2025-04-29T04:29:49.346465Z"
    }
   },
   "cell_type": "code",
   "source": [
    "import os\n",
    "\n",
    "import kagglehub\n",
    "import matplotlib.pyplot as plt\n",
    "import seaborn as sns\n",
    "from pyspark.sql import SparkSession\n",
    "from pyspark.sql.functions import hour, weekday"
   ],
   "id": "705d7887d3550367",
   "outputs": [
    {
     "name": "stderr",
     "output_type": "stream",
     "text": [
      "C:\\Users\\danie\\anaconda3\\envs\\env_pyspark\\Lib\\site-packages\\tqdm\\auto.py:21: TqdmWarning: IProgress not found. Please update jupyter and ipywidgets. See https://ipywidgets.readthedocs.io/en/stable/user_install.html\n",
      "  from .autonotebook import tqdm as notebook_tqdm\n"
     ]
    }
   ],
   "execution_count": 1
  },
  {
   "metadata": {
    "id": "75a9a1975f439e35"
   },
   "cell_type": "markdown",
   "source": [
    "## Downloading the dataset\n",
    "\n",
    "We can leverage the kagglehub package to download the dataset directly from Kaggle. This package allows us to download datasets without needing to manually download them from the Kaggle website."
   ],
   "id": "75a9a1975f439e35"
  },
  {
   "metadata": {
    "colab": {
     "base_uri": "https://localhost:8080/"
    },
    "id": "initial_id",
    "executionInfo": {
     "status": "ok",
     "timestamp": 1745899246298,
     "user_tz": 360,
     "elapsed": 3837,
     "user": {
      "displayName": "Anuar Olmos López",
      "userId": "16625735633940260954"
     }
    },
    "outputId": "64752125-6568-4aea-a4f8-933a4d2496a8",
    "ExecuteTime": {
     "end_time": "2025-04-29T04:29:51.254221Z",
     "start_time": "2025-04-29T04:29:50.141056Z"
    }
   },
   "cell_type": "code",
   "source": [
    "# Download the latest version\n",
    "path = kagglehub.dataset_download(\"sobhanmoosavi/us-accidents\")\n",
    "\n",
    "print(\"Path to dataset files:\", path)"
   ],
   "id": "initial_id",
   "outputs": [
    {
     "name": "stdout",
     "output_type": "stream",
     "text": [
      "Path to dataset files: C:\\Users\\danie\\.cache\\kagglehub\\datasets\\sobhanmoosavi\\us-accidents\\versions\\13\n"
     ]
    }
   ],
   "execution_count": 2
  },
  {
   "metadata": {
    "id": "dc380606f79efd05"
   },
   "cell_type": "markdown",
   "source": [
    "If you have already downloaded the dataset to your local machine, you can set the path to the dataset instead of using the kagglehub package. Uncomment the following line and set the path to your local dataset."
   ],
   "id": "dc380606f79efd05"
  },
  {
   "metadata": {
    "id": "f9567287541dbee7",
    "executionInfo": {
     "status": "ok",
     "timestamp": 1745899246327,
     "user_tz": 360,
     "elapsed": 27,
     "user": {
      "displayName": "Anuar Olmos López",
      "userId": "16625735633940260954"
     }
    },
    "ExecuteTime": {
     "end_time": "2025-04-29T04:29:51.376777Z",
     "start_time": "2025-04-29T04:29:51.371678Z"
    }
   },
   "cell_type": "code",
   "source": [
    "# path = \"your-local-path\""
   ],
   "id": "f9567287541dbee7",
   "outputs": [],
   "execution_count": 3
  },
  {
   "metadata": {
    "id": "c460c27f2a41a7c6"
   },
   "cell_type": "markdown",
   "source": [
    "This dataset contains a single CSV file named `US_Accidents_March23.csv`. This file contains the data we will be working with in this exercise. Update the path variable to point to this file."
   ],
   "id": "c460c27f2a41a7c6"
  },
  {
   "metadata": {
    "colab": {
     "base_uri": "https://localhost:8080/"
    },
    "id": "314b41611595c912",
    "executionInfo": {
     "status": "ok",
     "timestamp": 1745899246345,
     "user_tz": 360,
     "elapsed": 5,
     "user": {
      "displayName": "Anuar Olmos López",
      "userId": "16625735633940260954"
     }
    },
    "outputId": "0684d12e-aa74-453c-f9b2-fa598d21972b",
    "ExecuteTime": {
     "end_time": "2025-04-29T04:29:51.480001Z",
     "start_time": "2025-04-29T04:29:51.472373Z"
    }
   },
   "cell_type": "code",
   "source": [
    "dataset_path = path + \"/US_Accidents_March23.csv\"\n",
    "print(f\"Filesize of the dataset: {os.path.getsize(dataset_path) / (1024 * 1024 * 1024):.2f} GB\")"
   ],
   "id": "314b41611595c912",
   "outputs": [
    {
     "name": "stdout",
     "output_type": "stream",
     "text": [
      "Filesize of the dataset: 2.85 GB\n"
     ]
    }
   ],
   "execution_count": 4
  },
  {
   "metadata": {
    "id": "76c76f644de1ec9a"
   },
   "cell_type": "markdown",
   "source": [
    "## Loading the dataset with PySpark\n",
    "\n",
    "The first thing we need to do is to create a PySpark session."
   ],
   "id": "76c76f644de1ec9a"
  },
  {
   "metadata": {
    "colab": {
     "base_uri": "https://localhost:8080/",
     "height": 222
    },
    "id": "c89e4c7707f85f79",
    "executionInfo": {
     "status": "ok",
     "timestamp": 1745899265602,
     "user_tz": 360,
     "elapsed": 19245,
     "user": {
      "displayName": "Anuar Olmos López",
      "userId": "16625735633940260954"
     }
    },
    "outputId": "6202559a-78b6-4846-800f-960635787d0f",
    "ExecuteTime": {
     "end_time": "2025-04-29T04:30:13.451728Z",
     "start_time": "2025-04-29T04:29:51.537704Z"
    }
   },
   "cell_type": "code",
   "source": [
    "# Create a Spark session\n",
    "spark = SparkSession.builder \\\n",
    "    .appName(\"USTrafficAccidents\") \\\n",
    "    .getOrCreate()\n",
    "\n",
    "spark.conf.set(\"spark.sql.repl.eagerEval.enabled\", True)\n",
    "\n",
    "spark"
   ],
   "id": "c89e4c7707f85f79",
   "outputs": [
    {
     "data": {
      "text/plain": [
       "<pyspark.sql.session.SparkSession at 0x14a71f470b0>"
      ],
      "text/html": [
       "\n",
       "            <div>\n",
       "                <p><b>SparkSession - in-memory</b></p>\n",
       "                \n",
       "        <div>\n",
       "            <p><b>SparkContext</b></p>\n",
       "\n",
       "            <p><a href=\"http://DESKTOP-DIU142O:4040\">Spark UI</a></p>\n",
       "\n",
       "            <dl>\n",
       "              <dt>Version</dt>\n",
       "                <dd><code>v3.5.4</code></dd>\n",
       "              <dt>Master</dt>\n",
       "                <dd><code>local[*]</code></dd>\n",
       "              <dt>AppName</dt>\n",
       "                <dd><code>USTrafficAccidents</code></dd>\n",
       "            </dl>\n",
       "        </div>\n",
       "        \n",
       "            </div>\n",
       "        "
      ]
     },
     "execution_count": 5,
     "metadata": {},
     "output_type": "execute_result"
    }
   ],
   "execution_count": 5
  },
  {
   "metadata": {
    "id": "967ecf42b7a69d2a"
   },
   "cell_type": "markdown",
   "source": [
    "We can now simply load the dataset into a PySpark dataframe:"
   ],
   "id": "967ecf42b7a69d2a"
  },
  {
   "metadata": {
    "colab": {
     "base_uri": "https://localhost:8080/"
    },
    "id": "9bf659e73a95d3cd",
    "executionInfo": {
     "status": "ok",
     "timestamp": 1745899380805,
     "user_tz": 360,
     "elapsed": 115204,
     "user": {
      "displayName": "Anuar Olmos López",
      "userId": "16625735633940260954"
     }
    },
    "outputId": "6d1e8ecc-0198-4425-c5f4-5e5955e24e64",
    "ExecuteTime": {
     "end_time": "2025-04-29T04:30:33.297029Z",
     "start_time": "2025-04-29T04:30:13.477067Z"
    }
   },
   "cell_type": "code",
   "source": [
    "df = spark.read.csv(dataset_path, header=True, inferSchema=True)\n",
    "\n",
    "# Show the first 5 rows of the DataFrame\n",
    "df.show(5)"
   ],
   "id": "9bf659e73a95d3cd",
   "outputs": [
    {
     "name": "stdout",
     "output_type": "stream",
     "text": [
      "+---+-------+--------+-------------------+-------------------+-----------------+------------------+-------+-------+------------+--------------------+--------------------+------------+----------+-----+----------+-------+----------+------------+-------------------+--------------+-------------+-----------+------------+--------------+--------------+---------------+-----------------+-----------------+-------+-----+--------+--------+--------+-------+-------+----------+-------+-----+---------------+--------------+------------+--------------+--------------+-----------------+---------------------+\n",
      "| ID| Source|Severity|         Start_Time|           End_Time|        Start_Lat|         Start_Lng|End_Lat|End_Lng|Distance(mi)|         Description|              Street|        City|    County|State|   Zipcode|Country|  Timezone|Airport_Code|  Weather_Timestamp|Temperature(F)|Wind_Chill(F)|Humidity(%)|Pressure(in)|Visibility(mi)|Wind_Direction|Wind_Speed(mph)|Precipitation(in)|Weather_Condition|Amenity| Bump|Crossing|Give_Way|Junction|No_Exit|Railway|Roundabout|Station| Stop|Traffic_Calming|Traffic_Signal|Turning_Loop|Sunrise_Sunset|Civil_Twilight|Nautical_Twilight|Astronomical_Twilight|\n",
      "+---+-------+--------+-------------------+-------------------+-----------------+------------------+-------+-------+------------+--------------------+--------------------+------------+----------+-----+----------+-------+----------+------------+-------------------+--------------+-------------+-----------+------------+--------------+--------------+---------------+-----------------+-----------------+-------+-----+--------+--------+--------+-------+-------+----------+-------+-----+---------------+--------------+------------+--------------+--------------+-----------------+---------------------+\n",
      "|A-1|Source2|       3|2016-02-08 05:46:00|2016-02-08 11:00:00|        39.865147|        -84.058723|   NULL|   NULL|        0.01|Right lane blocke...|              I-70 E|      Dayton|Montgomery|   OH|     45424|     US|US/Eastern|        KFFO|2016-02-08 05:58:00|          36.9|         NULL|       91.0|       29.68|          10.0|          Calm|           NULL|             0.02|       Light Rain|  false|false|   false|   false|   false|  false|  false|     false|  false|false|          false|         false|       false|         Night|         Night|            Night|                Night|\n",
      "|A-2|Source2|       2|2016-02-08 06:07:59|2016-02-08 06:37:59|39.92805900000001|        -82.831184|   NULL|   NULL|        0.01|Accident on Brice...|            Brice Rd|Reynoldsburg|  Franklin|   OH|43068-3402|     US|US/Eastern|        KCMH|2016-02-08 05:51:00|          37.9|         NULL|      100.0|       29.65|          10.0|          Calm|           NULL|              0.0|       Light Rain|  false|false|   false|   false|   false|  false|  false|     false|  false|false|          false|         false|       false|         Night|         Night|            Night|                  Day|\n",
      "|A-3|Source2|       2|2016-02-08 06:49:27|2016-02-08 07:19:27|        39.063148|        -84.032608|   NULL|   NULL|        0.01|Accident on OH-32...|      State Route 32|Williamsburg|  Clermont|   OH|     45176|     US|US/Eastern|        KI69|2016-02-08 06:56:00|          36.0|         33.3|      100.0|       29.67|          10.0|            SW|            3.5|             NULL|         Overcast|  false|false|   false|   false|   false|  false|  false|     false|  false|false|          false|          true|       false|         Night|         Night|              Day|                  Day|\n",
      "|A-4|Source2|       3|2016-02-08 07:23:34|2016-02-08 07:53:34|        39.747753|-84.20558199999998|   NULL|   NULL|        0.01|Accident on I-75 ...|              I-75 S|      Dayton|Montgomery|   OH|     45417|     US|US/Eastern|        KDAY|2016-02-08 07:38:00|          35.1|         31.0|       96.0|       29.64|           9.0|            SW|            4.6|             NULL|    Mostly Cloudy|  false|false|   false|   false|   false|  false|  false|     false|  false|false|          false|         false|       false|         Night|           Day|              Day|                  Day|\n",
      "|A-5|Source2|       2|2016-02-08 07:39:07|2016-02-08 08:09:07|        39.627781|        -84.188354|   NULL|   NULL|        0.01|Accident on McEwe...|Miamisburg Center...|      Dayton|Montgomery|   OH|     45459|     US|US/Eastern|        KMGY|2016-02-08 07:53:00|          36.0|         33.3|       89.0|       29.65|           6.0|            SW|            3.5|             NULL|    Mostly Cloudy|  false|false|   false|   false|   false|  false|  false|     false|  false|false|          false|          true|       false|           Day|           Day|              Day|                  Day|\n",
      "+---+-------+--------+-------------------+-------------------+-----------------+------------------+-------+-------+------------+--------------------+--------------------+------------+----------+-----+----------+-------+----------+------------+-------------------+--------------+-------------+-----------+------------+--------------+--------------+---------------+-----------------+-----------------+-------+-----+--------+--------+--------+-------+-------+----------+-------+-----+---------------+--------------+------------+--------------+--------------+-----------------+---------------------+\n",
      "only showing top 5 rows\n",
      "\n"
     ]
    }
   ],
   "execution_count": 6
  },
  {
   "metadata": {
    "id": "6aebf7f92f684032"
   },
   "cell_type": "markdown",
   "source": [
    "## Exploring the dataset\n",
    "\n",
    "Now that the dataset is loaded, we can explore its contents. We can start by checking the schema of the DataFrame to understand the data types of each column."
   ],
   "id": "6aebf7f92f684032"
  },
  {
   "metadata": {
    "colab": {
     "base_uri": "https://localhost:8080/"
    },
    "id": "d532b08463752dd8",
    "executionInfo": {
     "status": "ok",
     "timestamp": 1745899380823,
     "user_tz": 360,
     "elapsed": 20,
     "user": {
      "displayName": "Anuar Olmos López",
      "userId": "16625735633940260954"
     }
    },
    "outputId": "df862ded-d587-43ca-f6b5-2e1e151a468e",
    "ExecuteTime": {
     "end_time": "2025-04-29T04:30:33.605015Z",
     "start_time": "2025-04-29T04:30:33.595269Z"
    }
   },
   "cell_type": "code",
   "source": [
    "df.printSchema()"
   ],
   "id": "d532b08463752dd8",
   "outputs": [
    {
     "name": "stdout",
     "output_type": "stream",
     "text": [
      "root\n",
      " |-- ID: string (nullable = true)\n",
      " |-- Source: string (nullable = true)\n",
      " |-- Severity: integer (nullable = true)\n",
      " |-- Start_Time: timestamp (nullable = true)\n",
      " |-- End_Time: timestamp (nullable = true)\n",
      " |-- Start_Lat: double (nullable = true)\n",
      " |-- Start_Lng: double (nullable = true)\n",
      " |-- End_Lat: double (nullable = true)\n",
      " |-- End_Lng: double (nullable = true)\n",
      " |-- Distance(mi): double (nullable = true)\n",
      " |-- Description: string (nullable = true)\n",
      " |-- Street: string (nullable = true)\n",
      " |-- City: string (nullable = true)\n",
      " |-- County: string (nullable = true)\n",
      " |-- State: string (nullable = true)\n",
      " |-- Zipcode: string (nullable = true)\n",
      " |-- Country: string (nullable = true)\n",
      " |-- Timezone: string (nullable = true)\n",
      " |-- Airport_Code: string (nullable = true)\n",
      " |-- Weather_Timestamp: timestamp (nullable = true)\n",
      " |-- Temperature(F): double (nullable = true)\n",
      " |-- Wind_Chill(F): double (nullable = true)\n",
      " |-- Humidity(%): double (nullable = true)\n",
      " |-- Pressure(in): double (nullable = true)\n",
      " |-- Visibility(mi): double (nullable = true)\n",
      " |-- Wind_Direction: string (nullable = true)\n",
      " |-- Wind_Speed(mph): double (nullable = true)\n",
      " |-- Precipitation(in): double (nullable = true)\n",
      " |-- Weather_Condition: string (nullable = true)\n",
      " |-- Amenity: boolean (nullable = true)\n",
      " |-- Bump: boolean (nullable = true)\n",
      " |-- Crossing: boolean (nullable = true)\n",
      " |-- Give_Way: boolean (nullable = true)\n",
      " |-- Junction: boolean (nullable = true)\n",
      " |-- No_Exit: boolean (nullable = true)\n",
      " |-- Railway: boolean (nullable = true)\n",
      " |-- Roundabout: boolean (nullable = true)\n",
      " |-- Station: boolean (nullable = true)\n",
      " |-- Stop: boolean (nullable = true)\n",
      " |-- Traffic_Calming: boolean (nullable = true)\n",
      " |-- Traffic_Signal: boolean (nullable = true)\n",
      " |-- Turning_Loop: boolean (nullable = true)\n",
      " |-- Sunrise_Sunset: string (nullable = true)\n",
      " |-- Civil_Twilight: string (nullable = true)\n",
      " |-- Nautical_Twilight: string (nullable = true)\n",
      " |-- Astronomical_Twilight: string (nullable = true)\n",
      "\n"
     ]
    }
   ],
   "execution_count": 7
  },
  {
   "metadata": {
    "id": "6dad3557442e0ccf"
   },
   "cell_type": "markdown",
   "source": [
    "We can also apply simple queries to get a better understanding of the data. For example, we can find the weather conditions with the most accidents."
   ],
   "id": "6dad3557442e0ccf"
  },
  {
   "metadata": {
    "colab": {
     "base_uri": "https://localhost:8080/"
    },
    "id": "666236f48eb6e0d5",
    "executionInfo": {
     "status": "ok",
     "timestamp": 1745899420319,
     "user_tz": 360,
     "elapsed": 39494,
     "user": {
      "displayName": "Anuar Olmos López",
      "userId": "16625735633940260954"
     }
    },
    "outputId": "9e75b152-c648-4bdf-ff3d-64424801aad5",
    "ExecuteTime": {
     "end_time": "2025-04-29T04:30:44.778508Z",
     "start_time": "2025-04-29T04:30:35.574523Z"
    }
   },
   "cell_type": "code",
   "source": [
    "df.groupBy(\"Weather_Condition\") \\\n",
    "    .count() \\\n",
    "    .orderBy(\"count\", ascending=False) \\\n",
    "    .show(10, False)"
   ],
   "id": "666236f48eb6e0d5",
   "outputs": [
    {
     "name": "stdout",
     "output_type": "stream",
     "text": [
      "+-----------------+-------+\n",
      "|Weather_Condition|count  |\n",
      "+-----------------+-------+\n",
      "|Fair             |2560802|\n",
      "|Mostly Cloudy    |1016195|\n",
      "|Cloudy           |817082 |\n",
      "|Clear            |808743 |\n",
      "|Partly Cloudy    |698972 |\n",
      "|Overcast         |382866 |\n",
      "|Light Rain       |352957 |\n",
      "|Scattered Clouds |204829 |\n",
      "|NULL             |173459 |\n",
      "|Light Snow       |128680 |\n",
      "+-----------------+-------+\n",
      "only showing top 10 rows\n",
      "\n"
     ]
    }
   ],
   "execution_count": 8
  },
  {
   "metadata": {
    "id": "55629ca97f6d774d"
   },
   "cell_type": "markdown",
   "source": [
    "We can also do some basic data visualization. For example, we can plot a histogram with the number of accidents per time of day. For this, we extract the hour from the `Start_Time` column and group the data by hour. To make this easier, we execute the query using PySpark and convert the result to a Pandas DataFrame"
   ],
   "id": "55629ca97f6d774d"
  },
  {
   "metadata": {
    "colab": {
     "base_uri": "https://localhost:8080/",
     "height": 802
    },
    "id": "7391382ea7e9d054",
    "executionInfo": {
     "status": "ok",
     "timestamp": 1745899459484,
     "user_tz": 360,
     "elapsed": 39167,
     "user": {
      "displayName": "Anuar Olmos López",
      "userId": "16625735633940260954"
     }
    },
    "outputId": "96cf17a1-81dc-439a-f99b-2d4463274a05",
    "ExecuteTime": {
     "end_time": "2025-04-29T04:30:53.197975Z",
     "start_time": "2025-04-29T04:30:45.067755Z"
    }
   },
   "cell_type": "code",
   "source": [
    "by_hour = df.select(hour(\"Start_Time\").alias(\"Hour\")) \\\n",
    "    .groupBy(\"Hour\") \\\n",
    "    .count() \\\n",
    "    .orderBy(\"Hour\") \\\n",
    "    .toPandas()\n",
    "\n",
    "by_hour"
   ],
   "id": "7391382ea7e9d054",
   "outputs": [
    {
     "data": {
      "text/plain": [
       "    Hour   count\n",
       "0      0  112378\n",
       "1      1   97071\n",
       "2      2   93226\n",
       "3      3   83864\n",
       "4      4  159852\n",
       "5      5  228182\n",
       "6      6  405837\n",
       "7      7  587472\n",
       "8      8  577576\n",
       "9      9  363034\n",
       "10    10  342706\n",
       "11    11  355040\n",
       "12    12  355001\n",
       "13    13  396445\n",
       "14    14  448846\n",
       "15    15  525855\n",
       "16    16  581969\n",
       "17    17  576015\n",
       "18    18  432042\n",
       "19    19  295121\n",
       "20    20  225226\n",
       "21    21  191452\n",
       "22    22  167645\n",
       "23    23  126539"
      ],
      "text/html": [
       "<div>\n",
       "<style scoped>\n",
       "    .dataframe tbody tr th:only-of-type {\n",
       "        vertical-align: middle;\n",
       "    }\n",
       "\n",
       "    .dataframe tbody tr th {\n",
       "        vertical-align: top;\n",
       "    }\n",
       "\n",
       "    .dataframe thead th {\n",
       "        text-align: right;\n",
       "    }\n",
       "</style>\n",
       "<table border=\"1\" class=\"dataframe\">\n",
       "  <thead>\n",
       "    <tr style=\"text-align: right;\">\n",
       "      <th></th>\n",
       "      <th>Hour</th>\n",
       "      <th>count</th>\n",
       "    </tr>\n",
       "  </thead>\n",
       "  <tbody>\n",
       "    <tr>\n",
       "      <th>0</th>\n",
       "      <td>0</td>\n",
       "      <td>112378</td>\n",
       "    </tr>\n",
       "    <tr>\n",
       "      <th>1</th>\n",
       "      <td>1</td>\n",
       "      <td>97071</td>\n",
       "    </tr>\n",
       "    <tr>\n",
       "      <th>2</th>\n",
       "      <td>2</td>\n",
       "      <td>93226</td>\n",
       "    </tr>\n",
       "    <tr>\n",
       "      <th>3</th>\n",
       "      <td>3</td>\n",
       "      <td>83864</td>\n",
       "    </tr>\n",
       "    <tr>\n",
       "      <th>4</th>\n",
       "      <td>4</td>\n",
       "      <td>159852</td>\n",
       "    </tr>\n",
       "    <tr>\n",
       "      <th>5</th>\n",
       "      <td>5</td>\n",
       "      <td>228182</td>\n",
       "    </tr>\n",
       "    <tr>\n",
       "      <th>6</th>\n",
       "      <td>6</td>\n",
       "      <td>405837</td>\n",
       "    </tr>\n",
       "    <tr>\n",
       "      <th>7</th>\n",
       "      <td>7</td>\n",
       "      <td>587472</td>\n",
       "    </tr>\n",
       "    <tr>\n",
       "      <th>8</th>\n",
       "      <td>8</td>\n",
       "      <td>577576</td>\n",
       "    </tr>\n",
       "    <tr>\n",
       "      <th>9</th>\n",
       "      <td>9</td>\n",
       "      <td>363034</td>\n",
       "    </tr>\n",
       "    <tr>\n",
       "      <th>10</th>\n",
       "      <td>10</td>\n",
       "      <td>342706</td>\n",
       "    </tr>\n",
       "    <tr>\n",
       "      <th>11</th>\n",
       "      <td>11</td>\n",
       "      <td>355040</td>\n",
       "    </tr>\n",
       "    <tr>\n",
       "      <th>12</th>\n",
       "      <td>12</td>\n",
       "      <td>355001</td>\n",
       "    </tr>\n",
       "    <tr>\n",
       "      <th>13</th>\n",
       "      <td>13</td>\n",
       "      <td>396445</td>\n",
       "    </tr>\n",
       "    <tr>\n",
       "      <th>14</th>\n",
       "      <td>14</td>\n",
       "      <td>448846</td>\n",
       "    </tr>\n",
       "    <tr>\n",
       "      <th>15</th>\n",
       "      <td>15</td>\n",
       "      <td>525855</td>\n",
       "    </tr>\n",
       "    <tr>\n",
       "      <th>16</th>\n",
       "      <td>16</td>\n",
       "      <td>581969</td>\n",
       "    </tr>\n",
       "    <tr>\n",
       "      <th>17</th>\n",
       "      <td>17</td>\n",
       "      <td>576015</td>\n",
       "    </tr>\n",
       "    <tr>\n",
       "      <th>18</th>\n",
       "      <td>18</td>\n",
       "      <td>432042</td>\n",
       "    </tr>\n",
       "    <tr>\n",
       "      <th>19</th>\n",
       "      <td>19</td>\n",
       "      <td>295121</td>\n",
       "    </tr>\n",
       "    <tr>\n",
       "      <th>20</th>\n",
       "      <td>20</td>\n",
       "      <td>225226</td>\n",
       "    </tr>\n",
       "    <tr>\n",
       "      <th>21</th>\n",
       "      <td>21</td>\n",
       "      <td>191452</td>\n",
       "    </tr>\n",
       "    <tr>\n",
       "      <th>22</th>\n",
       "      <td>22</td>\n",
       "      <td>167645</td>\n",
       "    </tr>\n",
       "    <tr>\n",
       "      <th>23</th>\n",
       "      <td>23</td>\n",
       "      <td>126539</td>\n",
       "    </tr>\n",
       "  </tbody>\n",
       "</table>\n",
       "</div>"
      ]
     },
     "execution_count": 9,
     "metadata": {},
     "output_type": "execute_result"
    }
   ],
   "execution_count": 9
  },
  {
   "metadata": {
    "colab": {
     "base_uri": "https://localhost:8080/",
     "height": 467
    },
    "id": "572f9418e9c50b20",
    "executionInfo": {
     "status": "ok",
     "timestamp": 1745899460237,
     "user_tz": 360,
     "elapsed": 755,
     "user": {
      "displayName": "Anuar Olmos López",
      "userId": "16625735633940260954"
     }
    },
    "outputId": "1c1217fd-0156-402c-dbf1-bb775ed425fd",
    "ExecuteTime": {
     "end_time": "2025-04-29T04:30:54.031027Z",
     "start_time": "2025-04-29T04:30:53.524056Z"
    }
   },
   "cell_type": "code",
   "source": [
    "sns.barplot(data=by_hour, x=\"Hour\", y=\"count\")"
   ],
   "id": "572f9418e9c50b20",
   "outputs": [
    {
     "data": {
      "text/plain": [
       "<Axes: xlabel='Hour', ylabel='count'>"
      ]
     },
     "execution_count": 10,
     "metadata": {},
     "output_type": "execute_result"
    },
    {
     "data": {
      "text/plain": [
       "<Figure size 640x480 with 1 Axes>"
      ],
      "image/png": "[encoded data removed]"
     },
     "metadata": {},
     "output_type": "display_data"
    }
   ],
   "execution_count": 10
  },
  {
   "metadata": {
    "id": "af1b764c9ab268fc"
   },
   "cell_type": "markdown",
   "source": [
    "We can even go further. For example, we can compare the number of accidents on weekdays and weekends. To do this, we can extract the weekday from the `Start_Time` column and group the data by weekday and hour."
   ],
   "id": "af1b764c9ab268fc"
  },
  {
   "metadata": {
    "colab": {
     "base_uri": "https://localhost:8080/",
     "height": 423
    },
    "id": "9f17cbba54d2ec21",
    "executionInfo": {
     "status": "ok",
     "timestamp": 1745899499277,
     "user_tz": 360,
     "elapsed": 39039,
     "user": {
      "displayName": "Anuar Olmos López",
      "userId": "16625735633940260954"
     }
    },
    "outputId": "0cc7bbbd-eea4-486e-f30a-59f6e2dd441e",
    "ExecuteTime": {
     "end_time": "2025-04-29T04:31:07.801943Z",
     "start_time": "2025-04-29T04:30:54.304575Z"
    }
   },
   "cell_type": "code",
   "source": [
    "by_day_hour = df.select(\n",
    "    weekday(\"Start_Time\").alias(\"Weekday\"),\n",
    "    hour(\"Start_Time\").alias(\"Hour\")) \\\n",
    "    .groupBy(\"Weekday\", \"Hour\") \\\n",
    "    .count() \\\n",
    "    .orderBy(\"Weekday\", \"Hour\") \\\n",
    "    .toPandas()\n",
    "\n",
    "by_day_hour"
   ],
   "id": "9f17cbba54d2ec21",
   "outputs": [
    {
     "data": {
      "text/plain": [
       "     Weekday  Hour  count\n",
       "0          0     0  13895\n",
       "1          0     1  11676\n",
       "2          0     2  11397\n",
       "3          0     3  11316\n",
       "4          0     4  26924\n",
       "..       ...   ...    ...\n",
       "163        6    19  26534\n",
       "164        6    20  23975\n",
       "165        6    21  22922\n",
       "166        6    22  19137\n",
       "167        6    23  15757\n",
       "\n",
       "[168 rows x 3 columns]"
      ],
      "text/html": [
       "<div>\n",
       "<style scoped>\n",
       "    .dataframe tbody tr th:only-of-type {\n",
       "        vertical-align: middle;\n",
       "    }\n",
       "\n",
       "    .dataframe tbody tr th {\n",
       "        vertical-align: top;\n",
       "    }\n",
       "\n",
       "    .dataframe thead th {\n",
       "        text-align: right;\n",
       "    }\n",
       "</style>\n",
       "<table border=\"1\" class=\"dataframe\">\n",
       "  <thead>\n",
       "    <tr style=\"text-align: right;\">\n",
       "      <th></th>\n",
       "      <th>Weekday</th>\n",
       "      <th>Hour</th>\n",
       "      <th>count</th>\n",
       "    </tr>\n",
       "  </thead>\n",
       "  <tbody>\n",
       "    <tr>\n",
       "      <th>0</th>\n",
       "      <td>0</td>\n",
       "      <td>0</td>\n",
       "      <td>13895</td>\n",
       "    </tr>\n",
       "    <tr>\n",
       "      <th>1</th>\n",
       "      <td>0</td>\n",
       "      <td>1</td>\n",
       "      <td>11676</td>\n",
       "    </tr>\n",
       "    <tr>\n",
       "      <th>2</th>\n",
       "      <td>0</td>\n",
       "      <td>2</td>\n",
       "      <td>11397</td>\n",
       "    </tr>\n",
       "    <tr>\n",
       "      <th>3</th>\n",
       "      <td>0</td>\n",
       "      <td>3</td>\n",
       "      <td>11316</td>\n",
       "    </tr>\n",
       "    <tr>\n",
       "      <th>4</th>\n",
       "      <td>0</td>\n",
       "      <td>4</td>\n",
       "      <td>26924</td>\n",
       "    </tr>\n",
       "    <tr>\n",
       "      <th>...</th>\n",
       "      <td>...</td>\n",
       "      <td>...</td>\n",
       "      <td>...</td>\n",
       "    </tr>\n",
       "    <tr>\n",
       "      <th>163</th>\n",
       "      <td>6</td>\n",
       "      <td>19</td>\n",
       "      <td>26534</td>\n",
       "    </tr>\n",
       "    <tr>\n",
       "      <th>164</th>\n",
       "      <td>6</td>\n",
       "      <td>20</td>\n",
       "      <td>23975</td>\n",
       "    </tr>\n",
       "    <tr>\n",
       "      <th>165</th>\n",
       "      <td>6</td>\n",
       "      <td>21</td>\n",
       "      <td>22922</td>\n",
       "    </tr>\n",
       "    <tr>\n",
       "      <th>166</th>\n",
       "      <td>6</td>\n",
       "      <td>22</td>\n",
       "      <td>19137</td>\n",
       "    </tr>\n",
       "    <tr>\n",
       "      <th>167</th>\n",
       "      <td>6</td>\n",
       "      <td>23</td>\n",
       "      <td>15757</td>\n",
       "    </tr>\n",
       "  </tbody>\n",
       "</table>\n",
       "<p>168 rows × 3 columns</p>\n",
       "</div>"
      ]
     },
     "execution_count": 11,
     "metadata": {},
     "output_type": "execute_result"
    }
   ],
   "execution_count": 11
  },
  {
   "metadata": {
    "id": "b6dbe1d3f8f77dc9",
    "executionInfo": {
     "status": "ok",
     "timestamp": 1745899499284,
     "user_tz": 360,
     "elapsed": 2,
     "user": {
      "displayName": "Anuar Olmos López",
      "userId": "16625735633940260954"
     }
    },
    "ExecuteTime": {
     "end_time": "2025-04-29T04:31:08.194060Z",
     "start_time": "2025-04-29T04:31:08.180963Z"
    }
   },
   "cell_type": "code",
   "source": [
    "# Weekdays 5 and 6 are Saturday and Sunday, respectively\n",
    "by_hour_workdays = by_day_hour.loc[by_day_hour[\"Weekday\"] < 5] \\\n",
    "    .groupby(\"Hour\") \\\n",
    "    .sum()\n",
    "\n",
    "by_hour_weekends = by_day_hour.loc[by_day_hour[\"Weekday\"] >= 5] \\\n",
    "    .groupby(\"Hour\") \\\n",
    "    .sum()"
   ],
   "id": "b6dbe1d3f8f77dc9",
   "outputs": [],
   "execution_count": 12
  },
  {
   "metadata": {
    "colab": {
     "base_uri": "https://localhost:8080/",
     "height": 507
    },
    "id": "7c10993cb9c3653d",
    "executionInfo": {
     "status": "ok",
     "timestamp": 1745899500599,
     "user_tz": 360,
     "elapsed": 1314,
     "user": {
      "displayName": "Anuar Olmos López",
      "userId": "16625735633940260954"
     }
    },
    "outputId": "963c42df-b290-4cb8-fd0f-06d4625bf8bc",
    "ExecuteTime": {
     "end_time": "2025-04-29T04:31:09.450539Z",
     "start_time": "2025-04-29T04:31:08.642721Z"
    }
   },
   "cell_type": "code",
   "source": [
    "# Create a figure with two subplots side by side\n",
    "fig, (ax1, ax2) = plt.subplots(1, 2, figsize=(15, 5))\n",
    "\n",
    "# Plot workdays\n",
    "sns.barplot(data=by_hour_workdays, x=\"Hour\", y=\"count\", ax=ax1)\n",
    "ax1.set_title(\"Accidents by Hour (Workdays)\")\n",
    "ax1.set_xlabel(\"Hour of Day\")\n",
    "ax1.set_ylabel(\"Number of Accidents\")\n",
    "\n",
    "# Plot weekends\n",
    "sns.barplot(data=by_hour_weekends, x=\"Hour\", y=\"count\", ax=ax2)\n",
    "ax2.set_title(\"Accidents by Hour (Weekends)\")\n",
    "ax2.set_xlabel(\"Hour of Day\")\n",
    "ax2.set_ylabel(\"Number of Accidents\")\n",
    "\n",
    "# Adjust layout to prevent overlap\n",
    "plt.tight_layout()"
   ],
   "id": "7c10993cb9c3653d",
   "outputs": [
    {
     "data": {
      "text/plain": [
       "<Figure size 1500x500 with 2 Axes>"
      ],
      "image/png": "[encoded data removed]"
     },
     "metadata": {},
     "output_type": "display_data"
    }
   ],
   "execution_count": 13
  },
  {
   "cell_type": "code",
   "source": [
    "from pyspark.sql.functions import col, sum as _sum\n",
    "\n",
    "def contar_nulos_por_columna(df):\n",
    "    \"\"\"\n",
    "    Cuenta los valores nulos en cada columna de un DataFrame de PySpark.\n",
    "\n",
    "    Parámetros:\n",
    "    df (pyspark.sql.DataFrame): El DataFrame que deseas analizar.\n",
    "\n",
    "    Retorna:\n",
    "    pyspark.sql.DataFrame: Un DataFrame con dos columnas: 'columna' y 'nulos'.\n",
    "    \"\"\"\n",
    "    return df.select([\n",
    "        _sum(col(c).isNull().cast(\"int\")).alias(c) for c in df.columns\n",
    "    ]).toDF(*[f\"{c}_nulos\" for c in df.columns])"
   ],
   "metadata": {
    "id": "tKB55w4RuqTm",
    "executionInfo": {
     "status": "ok",
     "timestamp": 1745899666172,
     "user_tz": 360,
     "elapsed": 16,
     "user": {
      "displayName": "Anuar Olmos López",
      "userId": "16625735633940260954"
     }
    },
    "ExecuteTime": {
     "end_time": "2025-04-29T04:31:09.911852Z",
     "start_time": "2025-04-29T04:31:09.904737Z"
    }
   },
   "id": "tKB55w4RuqTm",
   "outputs": [],
   "execution_count": 14
  },
  {
   "cell_type": "code",
   "source": [
    "# Supongamos que tienes un DataFrame llamado df:\n",
    "nulos_df = contar_nulos_por_columna(df)\n",
    "nulos_df.show()"
   ],
   "metadata": {
    "colab": {
     "base_uri": "https://localhost:8080/"
    },
    "id": "L-SktEQHusXg",
    "executionInfo": {
     "status": "ok",
     "timestamp": 1745899858403,
     "user_tz": 360,
     "elapsed": 102126,
     "user": {
      "displayName": "Anuar Olmos López",
      "userId": "16625735633940260954"
     }
    },
    "outputId": "7bd22684-459c-4c19-d034-f069ff01241f",
    "jupyter": {
     "is_executing": true
    },
    "ExecuteTime": {
     "start_time": "2025-04-29T04:31:10.258736Z"
    }
   },
   "id": "L-SktEQHusXg",
   "outputs": [],
   "execution_count": null
  },
  {
   "cell_type": "code",
   "source": [
    "from pyspark.sql.functions import col, sum, when\n",
    "\n",
    "# Para cada columna, sumamos 1 cuando el valor es nulo, y 0 en caso contrario\n",
    "null_counts = df.select([\n",
    "    sum(when(col(c).isNull(), 1).otherwise(0)).alias(c)\n",
    "    for c in df.columns\n",
    "])\n",
    "\n",
    "null_counts.show()"
   ],
   "metadata": {
    "colab": {
     "base_uri": "https://localhost:8080/"
    },
    "id": "ik7k2Cy5vr75",
    "executionInfo": {
     "status": "ok",
     "timestamp": 1745900060447,
     "user_tz": 360,
     "elapsed": 105676,
     "user": {
      "displayName": "Anuar Olmos López",
      "userId": "16625735633940260954"
     }
    },
    "outputId": "7f9aaaa9-2490-4795-d1c8-697bbaad71f6"
   },
   "id": "ik7k2Cy5vr75",
   "execution_count": 16,
   "outputs": [
    {
     "output_type": "stream",
     "name": "stdout",
     "text": [
      "+---+------+--------+----------+--------+---------+---------+-------+-------+------------+-----------+------+----+------+-----+-------+-------+--------+------------+-----------------+--------------+-------------+-----------+------------+--------------+--------------+---------------+-----------------+-----------------+-------+----+--------+--------+--------+-------+-------+----------+-------+----+---------------+--------------+------------+--------------+--------------+-----------------+---------------------+\n",
      "| ID|Source|Severity|Start_Time|End_Time|Start_Lat|Start_Lng|End_Lat|End_Lng|Distance(mi)|Description|Street|City|County|State|Zipcode|Country|Timezone|Airport_Code|Weather_Timestamp|Temperature(F)|Wind_Chill(F)|Humidity(%)|Pressure(in)|Visibility(mi)|Wind_Direction|Wind_Speed(mph)|Precipitation(in)|Weather_Condition|Amenity|Bump|Crossing|Give_Way|Junction|No_Exit|Railway|Roundabout|Station|Stop|Traffic_Calming|Traffic_Signal|Turning_Loop|Sunrise_Sunset|Civil_Twilight|Nautical_Twilight|Astronomical_Twilight|\n",
      "+---+------+--------+----------+--------+---------+---------+-------+-------+------------+-----------+------+----+------+-----+-------+-------+--------+------------+-----------------+--------------+-------------+-----------+------------+--------------+--------------+---------------+-----------------+-----------------+-------+----+--------+--------+--------+-------+-------+----------+-------+----+---------------+--------------+------------+--------------+--------------+-----------------+---------------------+\n",
      "|  0|     0|       0|         0|       0|        0|        0|3402762|3402762|           0|          5| 10869| 253|     0|    0|   1915|      0|    7808|       22635|           120228|        163853|      1999019|     174144|      140679|        177098|        175206|         571233|          2203586|           173459|      0|   0|       0|       0|       0|      0|      0|         0|      0|   0|              0|             0|           0|         23246|         23246|            23246|                23246|\n",
      "+---+------+--------+----------+--------+---------+---------+-------+-------+------------+-----------+------+----+------+-----+-------+-------+--------+------------+-----------------+--------------+-------------+-----------+------------+--------------+--------------+---------------+-----------------+-----------------+-------+----+--------+--------+--------+-------+-------+----------+-------+----+---------------+--------------+------------+--------------+--------------+-----------------+---------------------+\n",
      "\n"
     ]
    }
   ]
  },
  {
   "cell_type": "code",
   "source": [
    "from pyspark.sql.functions import col, sum as _sum, lit\n",
    "from pyspark.sql import Row\n",
    "\n",
    "def contar_nulos_por_columna(df):\n",
    "    \"\"\"\n",
    "    Cuenta los valores nulos en cada columna de un DataFrame de PySpark,\n",
    "    muestra el resultado en formato vertical y filtra solo columnas con nulos.\n",
    "    \"\"\"\n",
    "    # Contar nulos por columna\n",
    "    nulos = df.select([\n",
    "        _sum(col(c).isNull().cast(\"int\")).alias(c) for c in df.columns\n",
    "    ]).collect()[0].asDict()\n",
    "\n",
    "    # Crear una lista de Row solo con columnas que tengan nulos > 0\n",
    "    columnas_con_nulos = [Row(columna=col_name, nulos=count) for col_name, count in nulos.items() if count > 0]\n",
    "\n",
    "    # Convertir la lista a un DataFrame\n",
    "    return df.sparkSession.createDataFrame(columnas_con_nulos)"
   ],
   "metadata": {
    "id": "o2ICNm8HxGXr",
    "executionInfo": {
     "status": "ok",
     "timestamp": 1745900303538,
     "user_tz": 360,
     "elapsed": 13,
     "user": {
      "displayName": "Anuar Olmos López",
      "userId": "16625735633940260954"
     }
    }
   },
   "id": "o2ICNm8HxGXr",
   "execution_count": 19,
   "outputs": []
  },
  {
   "cell_type": "code",
   "source": [
    "nulos_df = contar_nulos_por_columna(df)\n",
    "nulos_df.show()"
   ],
   "metadata": {
    "colab": {
     "base_uri": "https://localhost:8080/"
    },
    "id": "kBW8M8onxLjh",
    "executionInfo": {
     "status": "ok",
     "timestamp": 1745900426696,
     "user_tz": 360,
     "elapsed": 101344,
     "user": {
      "displayName": "Anuar Olmos López",
      "userId": "16625735633940260954"
     }
    },
    "outputId": "e06dd9fb-717b-45b9-fd9a-ba6801804d2c"
   },
   "id": "kBW8M8onxLjh",
   "execution_count": 20,
   "outputs": [
    {
     "output_type": "stream",
     "name": "stdout",
     "text": [
      "+-----------------+-------+\n",
      "|          columna|  nulos|\n",
      "+-----------------+-------+\n",
      "|          End_Lat|3402762|\n",
      "|          End_Lng|3402762|\n",
      "|      Description|      5|\n",
      "|           Street|  10869|\n",
      "|             City|    253|\n",
      "|          Zipcode|   1915|\n",
      "|         Timezone|   7808|\n",
      "|     Airport_Code|  22635|\n",
      "|Weather_Timestamp| 120228|\n",
      "|   Temperature(F)| 163853|\n",
      "|    Wind_Chill(F)|1999019|\n",
      "|      Humidity(%)| 174144|\n",
      "|     Pressure(in)| 140679|\n",
      "|   Visibility(mi)| 177098|\n",
      "|   Wind_Direction| 175206|\n",
      "|  Wind_Speed(mph)| 571233|\n",
      "|Precipitation(in)|2203586|\n",
      "|Weather_Condition| 173459|\n",
      "|   Sunrise_Sunset|  23246|\n",
      "|   Civil_Twilight|  23246|\n",
      "+-----------------+-------+\n",
      "only showing top 20 rows\n",
      "\n"
     ]
    }
   ]
  },
  {
   "metadata": {
    "id": "2c1675e0e5c33d36"
   },
   "cell_type": "markdown",
   "source": [
    "# References\n",
    "\n",
    "- Moosavi, Sobhan, Mohammad Hossein Samavatian, Srinivasan Parthasarathy, and Rajiv Ramnath. “A Countrywide Traffic Accident Dataset.”, 2019.\n",
    "- Moosavi, Sobhan, Mohammad Hossein Samavatian, Srinivasan Parthasarathy, Radu Teodorescu, and Rajiv Ramnath. \"Accident Risk Prediction based on Heterogeneous Sparse Data: New Dataset and Insights.\" In proceedings of the 27th ACM SIGSPATIAL International Conference on Advances in Geographic Information Systems, ACM, 2019."
   ],
   "id": "2c1675e0e5c33d36"
  }
 ],
 "metadata": {
  "kernelspec": {
   "display_name": "Python 3",
   "language": "python",
   "name": "python3"
  },
  "language_info": {
   "codemirror_mode": {
    "name": "ipython",
    "version": 2
   },
   "file_extension": ".py",
   "mimetype": "text/x-python",
   "name": "python",
   "nbconvert_exporter": "python",
   "pygments_lexer": "ipython2",
   "version": "2.7.6"
  },
  "colab": {
   "provenance": []
  }
 },
 "nbformat": 4,
 "nbformat_minor": 5
}
