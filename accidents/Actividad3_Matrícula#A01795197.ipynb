{
 "cells": [
  {
   "metadata": {},
   "cell_type": "markdown",
   "source": [
    "# Actividad 3 | Aprendizaje supervisado y no supervisado\n",
    "\n",
    "Curso: Análisis de grandes volúmenes de datos\n",
    "\n",
    "Alumno: Luis Daniel Ortega Muñoz | A01795197"
   ],
   "id": "59aa221361d3a410"
  },
  {
   "metadata": {
    "ExecuteTime": {
     "end_time": "2025-05-24T19:26:54.381686Z",
     "start_time": "2025-05-24T19:26:54.132851Z"
    }
   },
   "cell_type": "code",
   "source": [
    "import kagglehub\n",
    "from pyspark.sql import SparkSession\n",
    "from pyspark.sql.functions import when, col, hour, date_format, count, round, concat_ws"
   ],
   "id": "edc18bba85d21f9b",
   "outputs": [
    {
     "name": "stderr",
     "output_type": "stream",
     "text": [
      "C:\\Users\\danie\\anaconda3\\envs\\env_pyspark\\Lib\\site-packages\\tqdm\\auto.py:21: TqdmWarning: IProgress not found. Please update jupyter and ipywidgets. See https://ipywidgets.readthedocs.io/en/stable/user_install.html\n",
      "  from .autonotebook import tqdm as notebook_tqdm\n"
     ]
    }
   ],
   "execution_count": 1
  },
  {
   "metadata": {},
   "cell_type": "markdown",
   "source": "## Introducción teórica\n",
   "id": "68ec472df4b917a"
  },
  {
   "metadata": {},
   "cell_type": "markdown",
   "source": "## Selección de los datos",
   "id": "3edb094c293f94f7"
  },
  {
   "metadata": {},
   "cell_type": "markdown",
   "source": "### Carga del conjunto de datos con PySpark",
   "id": "ae1700fb41679cbc"
  },
  {
   "metadata": {
    "ExecuteTime": {
     "end_time": "2025-05-24T19:26:55.395320Z",
     "start_time": "2025-05-24T19:26:54.587540Z"
    }
   },
   "cell_type": "code",
   "source": [
    "# Download the latest version\n",
    "path = kagglehub.dataset_download(\"sobhanmoosavi/us-accidents\")\n",
    "\n",
    "print(\"Path to dataset files:\", path)\n",
    "\n",
    "dataset_path = path + \"/US_Accidents_March23.csv\""
   ],
   "id": "f884e3285535a5ac",
   "outputs": [
    {
     "name": "stdout",
     "output_type": "stream",
     "text": [
      "Path to dataset files: C:\\Users\\danie\\.cache\\kagglehub\\datasets\\sobhanmoosavi\\us-accidents\\versions\\13\n"
     ]
    }
   ],
   "execution_count": 2
  },
  {
   "metadata": {
    "ExecuteTime": {
     "end_time": "2025-05-24T19:26:58.811712Z",
     "start_time": "2025-05-24T19:26:55.415461Z"
    }
   },
   "cell_type": "code",
   "source": [
    "# Create a Spark session\n",
    "spark = SparkSession.builder \\\n",
    "    .appName(\"USTrafficAccidents_ML\") \\\n",
    "    .getOrCreate()\n",
    "\n",
    "spark.conf.set(\"spark.sql.repl.eagerEval.enabled\", True)\n",
    "\n",
    "spark"
   ],
   "id": "b742ca62fd04a9db",
   "outputs": [
    {
     "data": {
      "text/plain": [
       "<pyspark.sql.session.SparkSession at 0x1c6b4337110>"
      ],
      "text/html": [
       "\n",
       "            <div>\n",
       "                <p><b>SparkSession - in-memory</b></p>\n",
       "                \n",
       "        <div>\n",
       "            <p><b>SparkContext</b></p>\n",
       "\n",
       "            <p><a href=\"http://raspberrypi:4041\">Spark UI</a></p>\n",
       "\n",
       "            <dl>\n",
       "              <dt>Version</dt>\n",
       "                <dd><code>v3.5.4</code></dd>\n",
       "              <dt>Master</dt>\n",
       "                <dd><code>local[*]</code></dd>\n",
       "              <dt>AppName</dt>\n",
       "                <dd><code>USTrafficAccidents_ML</code></dd>\n",
       "            </dl>\n",
       "        </div>\n",
       "        \n",
       "            </div>\n",
       "        "
      ]
     },
     "execution_count": 3,
     "metadata": {},
     "output_type": "execute_result"
    }
   ],
   "execution_count": 3
  },
  {
   "metadata": {
    "ExecuteTime": {
     "end_time": "2025-05-24T19:27:09.851790Z",
     "start_time": "2025-05-24T19:26:58.825397Z"
    }
   },
   "cell_type": "code",
   "source": [
    "df = spark.read.csv(dataset_path, header=True, inferSchema=True)\n",
    "\n",
    "df.show(5)"
   ],
   "id": "8ec0c0a980b82139",
   "outputs": [
    {
     "name": "stdout",
     "output_type": "stream",
     "text": [
      "+---+-------+--------+-------------------+-------------------+-----------------+------------------+-------+-------+------------+--------------------+--------------------+------------+----------+-----+----------+-------+----------+------------+-------------------+--------------+-------------+-----------+------------+--------------+--------------+---------------+-----------------+-----------------+-------+-----+--------+--------+--------+-------+-------+----------+-------+-----+---------------+--------------+------------+--------------+--------------+-----------------+---------------------+\n",
      "| ID| Source|Severity|         Start_Time|           End_Time|        Start_Lat|         Start_Lng|End_Lat|End_Lng|Distance(mi)|         Description|              Street|        City|    County|State|   Zipcode|Country|  Timezone|Airport_Code|  Weather_Timestamp|Temperature(F)|Wind_Chill(F)|Humidity(%)|Pressure(in)|Visibility(mi)|Wind_Direction|Wind_Speed(mph)|Precipitation(in)|Weather_Condition|Amenity| Bump|Crossing|Give_Way|Junction|No_Exit|Railway|Roundabout|Station| Stop|Traffic_Calming|Traffic_Signal|Turning_Loop|Sunrise_Sunset|Civil_Twilight|Nautical_Twilight|Astronomical_Twilight|\n",
      "+---+-------+--------+-------------------+-------------------+-----------------+------------------+-------+-------+------------+--------------------+--------------------+------------+----------+-----+----------+-------+----------+------------+-------------------+--------------+-------------+-----------+------------+--------------+--------------+---------------+-----------------+-----------------+-------+-----+--------+--------+--------+-------+-------+----------+-------+-----+---------------+--------------+------------+--------------+--------------+-----------------+---------------------+\n",
      "|A-1|Source2|       3|2016-02-08 05:46:00|2016-02-08 11:00:00|        39.865147|        -84.058723|   NULL|   NULL|        0.01|Right lane blocke...|              I-70 E|      Dayton|Montgomery|   OH|     45424|     US|US/Eastern|        KFFO|2016-02-08 05:58:00|          36.9|         NULL|       91.0|       29.68|          10.0|          Calm|           NULL|             0.02|       Light Rain|  false|false|   false|   false|   false|  false|  false|     false|  false|false|          false|         false|       false|         Night|         Night|            Night|                Night|\n",
      "|A-2|Source2|       2|2016-02-08 06:07:59|2016-02-08 06:37:59|39.92805900000001|        -82.831184|   NULL|   NULL|        0.01|Accident on Brice...|            Brice Rd|Reynoldsburg|  Franklin|   OH|43068-3402|     US|US/Eastern|        KCMH|2016-02-08 05:51:00|          37.9|         NULL|      100.0|       29.65|          10.0|          Calm|           NULL|              0.0|       Light Rain|  false|false|   false|   false|   false|  false|  false|     false|  false|false|          false|         false|       false|         Night|         Night|            Night|                  Day|\n",
      "|A-3|Source2|       2|2016-02-08 06:49:27|2016-02-08 07:19:27|        39.063148|        -84.032608|   NULL|   NULL|        0.01|Accident on OH-32...|      State Route 32|Williamsburg|  Clermont|   OH|     45176|     US|US/Eastern|        KI69|2016-02-08 06:56:00|          36.0|         33.3|      100.0|       29.67|          10.0|            SW|            3.5|             NULL|         Overcast|  false|false|   false|   false|   false|  false|  false|     false|  false|false|          false|          true|       false|         Night|         Night|              Day|                  Day|\n",
      "|A-4|Source2|       3|2016-02-08 07:23:34|2016-02-08 07:53:34|        39.747753|-84.20558199999998|   NULL|   NULL|        0.01|Accident on I-75 ...|              I-75 S|      Dayton|Montgomery|   OH|     45417|     US|US/Eastern|        KDAY|2016-02-08 07:38:00|          35.1|         31.0|       96.0|       29.64|           9.0|            SW|            4.6|             NULL|    Mostly Cloudy|  false|false|   false|   false|   false|  false|  false|     false|  false|false|          false|         false|       false|         Night|           Day|              Day|                  Day|\n",
      "|A-5|Source2|       2|2016-02-08 07:39:07|2016-02-08 08:09:07|        39.627781|        -84.188354|   NULL|   NULL|        0.01|Accident on McEwe...|Miamisburg Center...|      Dayton|Montgomery|   OH|     45459|     US|US/Eastern|        KMGY|2016-02-08 07:53:00|          36.0|         33.3|       89.0|       29.65|           6.0|            SW|            3.5|             NULL|    Mostly Cloudy|  false|false|   false|   false|   false|  false|  false|     false|  false|false|          false|          true|       false|           Day|           Day|              Day|                  Day|\n",
      "+---+-------+--------+-------------------+-------------------+-----------------+------------------+-------+-------+------------+--------------------+--------------------+------------+----------+-----+----------+-------+----------+------------+-------------------+--------------+-------------+-----------+------------+--------------+--------------+---------------+-----------------+-----------------+-------+-----+--------+--------+--------+-------+-------+----------+-------+-----+---------------+--------------+------------+--------------+--------------+-----------------+---------------------+\n",
      "only showing top 5 rows\n",
      "\n"
     ]
    }
   ],
   "execution_count": 4
  },
  {
   "metadata": {},
   "cell_type": "markdown",
   "source": "### Sub-muestreo del conjunto de datos",
   "id": "2c6c9672d0adf48a"
  },
  {
   "metadata": {
    "ExecuteTime": {
     "end_time": "2025-05-24T19:27:16.567360Z",
     "start_time": "2025-05-24T19:27:10.032795Z"
    }
   },
   "cell_type": "code",
   "source": [
    "df = df.withColumn(\"Weather_Type\",\n",
    "    when(col(\"Weather_Condition\").isNull(), \"Desconocido\")\n",
    "    .when(col(\"Weather_Condition\").rlike(\"(?i)null|N/A\"), \"Desconocido\")\n",
    "    .when(col(\"Weather_Condition\").rlike(\"(?i)Rain|Drizzle|Thunder|Storm|Snow|Sleet|Hail|Ice|Fog|Haze|Mist|Dust|Sand|Smoke|Wintry|Squall|Tornado|Ash|Funnel\"), \"Adverso\")\n",
    "    .otherwise(\"Favorable\")\n",
    ")\n",
    "df.groupBy(\"Weather_Type\").count().withColumn(\"porcentaje\", col(\"count\") / df.count() * 100).show()"
   ],
   "id": "25b471117dac9b97",
   "outputs": [
    {
     "name": "stdout",
     "output_type": "stream",
     "text": [
      "+------------+-------+------------------+\n",
      "|Weather_Type|  count|        porcentaje|\n",
      "+------------+-------+------------------+\n",
      "| Desconocido| 176711|2.2865164483073714|\n",
      "|     Adverso| 981225|12.696363565315123|\n",
      "|   Favorable|6570458| 85.01711998637751|\n",
      "+------------+-------+------------------+\n",
      "\n"
     ]
    }
   ],
   "execution_count": 5
  },
  {
   "metadata": {
    "ExecuteTime": {
     "end_time": "2025-05-24T19:27:22.939704Z",
     "start_time": "2025-05-24T19:27:17.807064Z"
    }
   },
   "cell_type": "code",
   "source": [
    "df = df.withColumn(\n",
    "    \"Hora_Periodo\",\n",
    "    when(hour(\"Start_Time\") < 6, \"Madrugada\")\n",
    "    .when(hour(\"Start_Time\") < 18, \"Alta actividad\")\n",
    "    .otherwise(\"Tarde-Noche\")\n",
    ")\n",
    "\n",
    "df.groupBy(\"Hora_Periodo\").count().withColumn(\"porcentaje\", col(\"count\") / df.count() * 100).show()"
   ],
   "id": "9c0d5f7090fbf514",
   "outputs": [
    {
     "name": "stdout",
     "output_type": "stream",
     "text": [
      "+--------------+-------+------------------+\n",
      "|  Hora_Periodo|  count|        porcentaje|\n",
      "+--------------+-------+------------------+\n",
      "|   Tarde-Noche|1438025|18.607035303841908|\n",
      "|Alta actividad|5515796| 71.37053312758123|\n",
      "|     Madrugada| 774573| 10.02243156857686|\n",
      "+--------------+-------+------------------+\n",
      "\n"
     ]
    }
   ],
   "execution_count": 6
  },
  {
   "metadata": {
    "ExecuteTime": {
     "end_time": "2025-05-24T19:27:23.181233Z",
     "start_time": "2025-05-24T19:27:23.150001Z"
    }
   },
   "cell_type": "code",
   "source": [
    "# Paso 1: Extraer el día de la semana en formato abreviado (Mon, Tue, ..., Sun)\n",
    "df = df.withColumn(\"Dia_Semana\", date_format(\"Start_Time\", \"E\"))\n",
    "\n",
    "# Paso 2: Clasificar como \"Laboral\" o \"Fin de semana\"\n",
    "df = df.withColumn(\n",
    "    \"Tipo_Día\",\n",
    "    when(col(\"Dia_Semana\").isin(\"Sat\", \"Sun\"), \"Fin de semana\").otherwise(\"Laboral\")\n",
    ")\n",
    "\n",
    "# # Paso 3: Calcular distribución porcentual\n",
    "# df.groupBy(\"Tipo_Día\") \\\n",
    "#   .count() \\\n",
    "#   .withColumn(\"porcentaje\", col(\"count\") / df.count() * 100) \\\n",
    "#   .show()"
   ],
   "id": "4275356e13ff757b",
   "outputs": [],
   "execution_count": 7
  },
  {
   "metadata": {
    "ExecuteTime": {
     "end_time": "2025-05-24T19:27:23.416500Z",
     "start_time": "2025-05-24T19:27:23.412362Z"
    }
   },
   "cell_type": "code",
   "source": [
    "# # Revisar ocurrencia de variables booleanas\n",
    "# variables_viales = [\"Junction\", \"Crossing\", \"Traffic_Signal\", \"Amenity\", \"Bump\", \"Give_Way\", \"No_Exit\", \"Railway\", \"Roundabout\", \"Station\", \"Stop\", \"Traffic_Calming\", \"Turning_Loop\"]\n",
    "#\n",
    "# for var in variables_viales:\n",
    "#     df.groupBy(var) \\\n",
    "#       .count() \\\n",
    "#       .withColumn(\"porcentaje\", col(\"count\") / df.count() * 100) \\\n",
    "#       .show()"
   ],
   "id": "a9fe286165ac2641",
   "outputs": [],
   "execution_count": 8
  },
  {
   "metadata": {
    "ExecuteTime": {
     "end_time": "2025-05-24T19:27:26.748629Z",
     "start_time": "2025-05-24T19:27:23.614348Z"
    }
   },
   "cell_type": "code",
   "source": [
    "df_filtrado = df.filter(\n",
    "    (col(\"Severity\").isNotNull()) &\n",
    "    (col(\"Hora_Periodo\").isNotNull()) &\n",
    "    (col(\"Tipo_Día\").isNotNull()) &\n",
    "    (col(\"Weather_Type\").isNotNull())\n",
    ")\n",
    "\n",
    "# Paso 2: Contar el total de registros filtrados\n",
    "total_registros = df_filtrado.count()\n",
    "\n",
    "# Paso 3: Agrupar por combinación de estratos y calcular frecuencia y probabilidad empírica\n",
    "estratos = df_filtrado.groupBy(\"Severity\", \"Hora_Periodo\", \"Tipo_Día\", \"Weather_Type\") \\\n",
    "    .agg(count(\"*\").alias(\"frecuencia\")) \\\n",
    "    .withColumn(\"probabilidad\", round(col(\"frecuencia\") / total_registros, 6)) \\\n",
    "    .orderBy(col(\"probabilidad\").desc())"
   ],
   "id": "63226ed1513c5c58",
   "outputs": [],
   "execution_count": 9
  },
  {
   "metadata": {
    "ExecuteTime": {
     "end_time": "2025-05-24T19:27:34.044763Z",
     "start_time": "2025-05-24T19:27:34.021727Z"
    }
   },
   "cell_type": "code",
   "source": [
    "# Tamaño total de muestra deseado\n",
    "tamanio_muestra_total = 10000\n",
    "\n",
    "# Calcular n_estrato para cada combinación\n",
    "estratos = estratos.withColumn(\n",
    "    \"n_estrato\",\n",
    "    round(col(\"probabilidad\") * tamanio_muestra_total).cast(\"integer\")\n",
    ")"
   ],
   "id": "65a11235caea4c32",
   "outputs": [],
   "execution_count": 10
  },
  {
   "metadata": {
    "ExecuteTime": {
     "end_time": "2025-05-24T19:27:40.411973Z",
     "start_time": "2025-05-24T19:27:40.378926Z"
    }
   },
   "cell_type": "code",
   "source": [
    "# En df_filtrado (base depurada sin nulos en variables clave)\n",
    "df_filtrado = df_filtrado.withColumn(\n",
    "    \"estrato_id\",\n",
    "    concat_ws(\"_\", \"Severity\", \"Hora_Periodo\", \"Tipo_Día\", \"Weather_Type\")\n",
    ")\n",
    "\n",
    "# Igual en la tabla de estratos con probabilidades y n_estrato\n",
    "estratos = estratos.withColumn(\n",
    "    \"estrato_id\",\n",
    "    concat_ws(\"_\", \"Severity\", \"Hora_Periodo\", \"Tipo_Día\", \"Weather_Type\")\n",
    ")"
   ],
   "id": "7d702c4e789b6bf7",
   "outputs": [],
   "execution_count": 11
  },
  {
   "metadata": {
    "ExecuteTime": {
     "end_time": "2025-05-24T19:27:46.543991Z",
     "start_time": "2025-05-24T19:27:46.497665Z"
    }
   },
   "cell_type": "code",
   "source": [
    "df_muestreo = df_filtrado.join(\n",
    "    estratos.select(\"estrato_id\", \"n_estrato\"),\n",
    "    on=\"estrato_id\",\n",
    "    how=\"inner\"\n",
    ")"
   ],
   "id": "d94aded91c262920",
   "outputs": [],
   "execution_count": 12
  },
  {
   "metadata": {
    "ExecuteTime": {
     "end_time": "2025-05-24T19:28:19.034513Z",
     "start_time": "2025-05-24T19:28:18.990971Z"
    }
   },
   "cell_type": "code",
   "source": [
    "from pyspark.sql.functions import rand\n",
    "from pyspark.sql.window import Window\n",
    "from pyspark.sql.functions import row_number\n",
    "\n",
    "# Asignar un número aleatorio y calcular el orden por estrato\n",
    "df_muestreo = df_muestreo.withColumn(\"rand\", rand(seed=42))\n",
    "\n",
    "window = Window.partitionBy(\"estrato_id\").orderBy(\"rand\")\n",
    "\n",
    "df_muestreo = df_muestreo.withColumn(\"row_num\", row_number().over(window))"
   ],
   "id": "d2bfb0724eecb860",
   "outputs": [],
   "execution_count": 13
  },
  {
   "metadata": {
    "ExecuteTime": {
     "end_time": "2025-05-24T19:30:43.689377Z",
     "start_time": "2025-05-24T19:28:52.226668Z"
    }
   },
   "cell_type": "code",
   "source": [
    "df_muestra_final = df_muestreo.filter(col(\"row_num\") <= col(\"n_estrato\"))\n",
    "df_muestra_final.summary()"
   ],
   "id": "e3d9d5fad83cd8b3",
   "outputs": [
    {
     "data": {
      "text/plain": [
       "+-------+--------------------+---------+-------+-------------------+------------------+------------------+-----------------+------------------+------------------+--------------------+--------+---------+---------+-----+------------------+-------+----------+------------+-----------------+------------------+-----------------+------------------+------------------+--------------+-----------------+--------------------+-----------------+--------------+--------------+-----------------+---------------------+------------+--------------+----------+-------------+------------------+--------------------+------------------+\n",
       "|summary|          estrato_id|       ID| Source|           Severity|         Start_Lat|         Start_Lng|          End_Lat|           End_Lng|      Distance(mi)|         Description|  Street|     City|   County|State|           Zipcode|Country|  Timezone|Airport_Code|   Temperature(F)|     Wind_Chill(F)|      Humidity(%)|      Pressure(in)|    Visibility(mi)|Wind_Direction|  Wind_Speed(mph)|   Precipitation(in)|Weather_Condition|Sunrise_Sunset|Civil_Twilight|Nautical_Twilight|Astronomical_Twilight|Weather_Type|  Hora_Periodo|Dia_Semana|     Tipo_Día|         n_estrato|                rand|           row_num|\n",
       "+-------+--------------------+---------+-------+-------------------+------------------+------------------+-----------------+------------------+------------------+--------------------+--------+---------+---------+-----+------------------+-------+----------+------------+-----------------+------------------+-----------------+------------------+------------------+--------------+-----------------+--------------------+-----------------+--------------+--------------+-----------------+---------------------+------------+--------------+----------+-------------+------------------+--------------------+------------------+\n",
       "|  count|               10003|    10003|  10003|              10003|             10003|             10003|             5595|              5595|             10003|               10003|    9992|    10003|    10003|10003|             10001|  10003|      9999|        9976|             9790|              7470|             9776|              9823|              9774|          9771|             9323|                7202|             9774|          9978|          9978|             9978|                 9978|       10003|         10003|     10003|        10003|             10003|               10003|             10003|\n",
       "|   mean|                NULL|     NULL|   NULL|  2.212636209137259| 36.24469909840036|-94.61993688756752|36.34681220541541| -95.7346700438495|0.5559247225484412|                NULL|    NULL|     NULL|     NULL| NULL| 56379.03567874911|   NULL|      NULL|        NULL|61.71598569969356|58.311485943775125|64.96389116202946| 29.53263870507992| 9.099752404338043|          NULL|7.593403410919228|0.007060538739239098|             NULL|          NULL|          NULL|             NULL|                 NULL|        NULL|          NULL|      NULL|         NULL| 2107.662801159652|6.466151770978525E-4| 1054.331400579826|\n",
       "| stddev|                NULL|     NULL|   NULL|0.48787772380159755| 5.070605427026113| 17.38554958180918|5.263693355873905|18.136207202853882| 1.597624680398425|                NULL|    NULL|     NULL|     NULL| NULL|31097.037297564257|   NULL|      NULL|        NULL| 18.9999059851054| 22.32139247726831|22.82312340594708|1.0044580229406097|2.5724033627643097|          NULL|5.192230141415713|0.041519987983880714|             NULL|          NULL|          NULL|             NULL|                 NULL|        NULL|          NULL|      NULL|         NULL|1861.2403085753288|3.789342770944724E-4|1234.8936379224372|\n",
       "|    min|1_Alta actividad_...|A-1000027|Source1|                  1|24.954442999999998|       -124.486977|        25.451418|       -124.486179|               0.0|#1 #2 #3 lane blo...|  1/2 Rd|Abbeville|Abbeville|   AL|        01373-9764|     US|US/Central|        K04W|            -15.0|             -31.0|              2.0|             19.82|               0.0|          CALM|              0.0|                 0.0|     Blowing Snow|           Day|           Day|              Day|                  Day|     Adverso|Alta actividad|       Fri|Fin de semana|                 1| 3.88564060815888E-7|                 1|\n",
       "|    25%|                NULL|     NULL|   NULL|                  2|         33.427165|       -117.217077|        33.547271|       -117.809275|               0.0|                NULL|    NULL|     NULL|     NULL| NULL|           29334.0|   NULL|      NULL|        NULL|             49.0|              43.0|             49.0|             29.36|              10.0|          NULL|              4.6|                 0.0|             NULL|          NULL|          NULL|             NULL|                 NULL|        NULL|          NULL|      NULL|         NULL|               501|3.258897606087663E-4|               119|\n",
       "|    50%|                NULL|     NULL|   NULL|                  2| 35.87199000000001|        -87.630844|         36.54587|         -87.92061|             0.034|                NULL|    NULL|     NULL|     NULL| NULL|           55413.0|   NULL|      NULL|        NULL|             64.0|              62.0|             67.0|             29.85|              10.0|          NULL|              7.0|                 0.0|             NULL|          NULL|          NULL|             NULL|                 NULL|        NULL|          NULL|      NULL|         NULL|               995|6.423893092273314E-4|               473|\n",
       "|    75%|                NULL|     NULL|   NULL|                  2|40.106846000000004|        -80.315125|      40.25729854|          -80.2061|             0.489|                NULL|    NULL|     NULL|     NULL| NULL|           90650.0|   NULL|      NULL|        NULL|             76.0|              75.0|             84.0|             30.03|              10.0|          NULL|             10.0|                 0.0|             NULL|          NULL|          NULL|             NULL|                 NULL|        NULL|          NULL|      NULL|         NULL|              4251| 9.60305785783433E-4|              1751|\n",
       "|    max|4_Tarde-Noche_Lab...|  A-99962|Source3|                  4|         48.930842|        -69.907569|         48.93099|        -69.884072| 37.27999877929688|sb 29 jso 11th. 7...|Zorn Ave| Zumbrota|     Yuma|   WY|             99338|     US|US/Pacific|        KZZV|            113.0|             111.0|            100.0|             30.87|              60.0|          West|             33.0|                0.99|       Wintry Mix|         Night|         Night|            Night|                Night|   Favorable|   Tarde-Noche|       Wed|      Laboral|              4251|0.005325347834556515|              4251|\n",
       "+-------+--------------------+---------+-------+-------------------+------------------+------------------+-----------------+------------------+------------------+--------------------+--------+---------+---------+-----+------------------+-------+----------+------------+-----------------+------------------+-----------------+------------------+------------------+--------------+-----------------+--------------------+-----------------+--------------+--------------+-----------------+---------------------+------------+--------------+----------+-------------+------------------+--------------------+------------------+"
      ],
      "text/html": [
       "<table border='1'>\n",
       "<tr><th>summary</th><th>estrato_id</th><th>ID</th><th>Source</th><th>Severity</th><th>Start_Lat</th><th>Start_Lng</th><th>End_Lat</th><th>End_Lng</th><th>Distance(mi)</th><th>Description</th><th>Street</th><th>City</th><th>County</th><th>State</th><th>Zipcode</th><th>Country</th><th>Timezone</th><th>Airport_Code</th><th>Temperature(F)</th><th>Wind_Chill(F)</th><th>Humidity(%)</th><th>Pressure(in)</th><th>Visibility(mi)</th><th>Wind_Direction</th><th>Wind_Speed(mph)</th><th>Precipitation(in)</th><th>Weather_Condition</th><th>Sunrise_Sunset</th><th>Civil_Twilight</th><th>Nautical_Twilight</th><th>Astronomical_Twilight</th><th>Weather_Type</th><th>Hora_Periodo</th><th>Dia_Semana</th><th>Tipo_D&iacute;a</th><th>n_estrato</th><th>rand</th><th>row_num</th></tr>\n",
       "<tr><td>count</td><td>10003</td><td>10003</td><td>10003</td><td>10003</td><td>10003</td><td>10003</td><td>5595</td><td>5595</td><td>10003</td><td>10003</td><td>9992</td><td>10003</td><td>10003</td><td>10003</td><td>10001</td><td>10003</td><td>9999</td><td>9976</td><td>9790</td><td>7470</td><td>9776</td><td>9823</td><td>9774</td><td>9771</td><td>9323</td><td>7202</td><td>9774</td><td>9978</td><td>9978</td><td>9978</td><td>9978</td><td>10003</td><td>10003</td><td>10003</td><td>10003</td><td>10003</td><td>10003</td><td>10003</td></tr>\n",
       "<tr><td>mean</td><td>NULL</td><td>NULL</td><td>NULL</td><td>2.212636209137259</td><td>36.24469909840036</td><td>-94.61993688756752</td><td>36.34681220541541</td><td>-95.7346700438495</td><td>0.5559247225484412</td><td>NULL</td><td>NULL</td><td>NULL</td><td>NULL</td><td>NULL</td><td>56379.03567874911</td><td>NULL</td><td>NULL</td><td>NULL</td><td>61.71598569969356</td><td>58.311485943775125</td><td>64.96389116202946</td><td>29.53263870507992</td><td>9.099752404338043</td><td>NULL</td><td>7.593403410919228</td><td>0.007060538739239098</td><td>NULL</td><td>NULL</td><td>NULL</td><td>NULL</td><td>NULL</td><td>NULL</td><td>NULL</td><td>NULL</td><td>NULL</td><td>2107.662801159652</td><td>6.466151770978525E-4</td><td>1054.331400579826</td></tr>\n",
       "<tr><td>stddev</td><td>NULL</td><td>NULL</td><td>NULL</td><td>0.48787772380159755</td><td>5.070605427026113</td><td>17.38554958180918</td><td>5.263693355873905</td><td>18.136207202853882</td><td>1.597624680398425</td><td>NULL</td><td>NULL</td><td>NULL</td><td>NULL</td><td>NULL</td><td>31097.037297564257</td><td>NULL</td><td>NULL</td><td>NULL</td><td>18.9999059851054</td><td>22.32139247726831</td><td>22.82312340594708</td><td>1.0044580229406097</td><td>2.5724033627643097</td><td>NULL</td><td>5.192230141415713</td><td>0.041519987983880714</td><td>NULL</td><td>NULL</td><td>NULL</td><td>NULL</td><td>NULL</td><td>NULL</td><td>NULL</td><td>NULL</td><td>NULL</td><td>1861.2403085753288</td><td>3.789342770944724E-4</td><td>1234.8936379224372</td></tr>\n",
       "<tr><td>min</td><td>1_Alta actividad_...</td><td>A-1000027</td><td>Source1</td><td>1</td><td>24.954442999999998</td><td>-124.486977</td><td>25.451418</td><td>-124.486179</td><td>0.0</td><td>#1 #2 #3 lane blo...</td><td> 1/2 Rd</td><td>Abbeville</td><td>Abbeville</td><td>AL</td><td>01373-9764</td><td>US</td><td>US/Central</td><td>K04W</td><td>-15.0</td><td>-31.0</td><td>2.0</td><td>19.82</td><td>0.0</td><td>CALM</td><td>0.0</td><td>0.0</td><td>Blowing Snow</td><td>Day</td><td>Day</td><td>Day</td><td>Day</td><td>Adverso</td><td>Alta actividad</td><td>Fri</td><td>Fin de semana</td><td>1</td><td>3.88564060815888E-7</td><td>1</td></tr>\n",
       "<tr><td>25%</td><td>NULL</td><td>NULL</td><td>NULL</td><td>2</td><td>33.427165</td><td>-117.217077</td><td>33.547271</td><td>-117.809275</td><td>0.0</td><td>NULL</td><td>NULL</td><td>NULL</td><td>NULL</td><td>NULL</td><td>29334.0</td><td>NULL</td><td>NULL</td><td>NULL</td><td>49.0</td><td>43.0</td><td>49.0</td><td>29.36</td><td>10.0</td><td>NULL</td><td>4.6</td><td>0.0</td><td>NULL</td><td>NULL</td><td>NULL</td><td>NULL</td><td>NULL</td><td>NULL</td><td>NULL</td><td>NULL</td><td>NULL</td><td>501</td><td>3.258897606087663E-4</td><td>119</td></tr>\n",
       "<tr><td>50%</td><td>NULL</td><td>NULL</td><td>NULL</td><td>2</td><td>35.87199000000001</td><td>-87.630844</td><td>36.54587</td><td>-87.92061</td><td>0.034</td><td>NULL</td><td>NULL</td><td>NULL</td><td>NULL</td><td>NULL</td><td>55413.0</td><td>NULL</td><td>NULL</td><td>NULL</td><td>64.0</td><td>62.0</td><td>67.0</td><td>29.85</td><td>10.0</td><td>NULL</td><td>7.0</td><td>0.0</td><td>NULL</td><td>NULL</td><td>NULL</td><td>NULL</td><td>NULL</td><td>NULL</td><td>NULL</td><td>NULL</td><td>NULL</td><td>995</td><td>6.423893092273314E-4</td><td>473</td></tr>\n",
       "<tr><td>75%</td><td>NULL</td><td>NULL</td><td>NULL</td><td>2</td><td>40.106846000000004</td><td>-80.315125</td><td>40.25729854</td><td>-80.2061</td><td>0.489</td><td>NULL</td><td>NULL</td><td>NULL</td><td>NULL</td><td>NULL</td><td>90650.0</td><td>NULL</td><td>NULL</td><td>NULL</td><td>76.0</td><td>75.0</td><td>84.0</td><td>30.03</td><td>10.0</td><td>NULL</td><td>10.0</td><td>0.0</td><td>NULL</td><td>NULL</td><td>NULL</td><td>NULL</td><td>NULL</td><td>NULL</td><td>NULL</td><td>NULL</td><td>NULL</td><td>4251</td><td>9.60305785783433E-4</td><td>1751</td></tr>\n",
       "<tr><td>max</td><td>4_Tarde-Noche_Lab...</td><td>A-99962</td><td>Source3</td><td>4</td><td>48.930842</td><td>-69.907569</td><td>48.93099</td><td>-69.884072</td><td>37.27999877929688</td><td>sb 29 jso 11th. 7...</td><td>Zorn Ave</td><td>Zumbrota</td><td>Yuma</td><td>WY</td><td>99338</td><td>US</td><td>US/Pacific</td><td>KZZV</td><td>113.0</td><td>111.0</td><td>100.0</td><td>30.87</td><td>60.0</td><td>West</td><td>33.0</td><td>0.99</td><td>Wintry Mix</td><td>Night</td><td>Night</td><td>Night</td><td>Night</td><td>Favorable</td><td>Tarde-Noche</td><td>Wed</td><td>Laboral</td><td>4251</td><td>0.005325347834556515</td><td>4251</td></tr>\n",
       "</table>\n"
      ]
     },
     "execution_count": 14,
     "metadata": {},
     "output_type": "execute_result"
    }
   ],
   "execution_count": 14
  },
  {
   "metadata": {},
   "cell_type": "markdown",
   "source": "## Preparación de los datos",
   "id": "8e537900d2c54b3d"
  },
  {
   "metadata": {},
   "cell_type": "markdown",
   "source": "## Preparación del conjunto de entrenamiento y prueba",
   "id": "cb6b87cc9499a83d"
  },
  {
   "metadata": {},
   "cell_type": "markdown",
   "source": "## Construcción de modelos de aprendizaje supervisado y no supervisado",
   "id": "7dfc4f2ee8d935a4"
  },
  {
   "metadata": {},
   "cell_type": "markdown",
   "source": "### Aprendizaje supervisado: Regresión lineal",
   "id": "50a1fae248d50cea"
  },
  {
   "metadata": {},
   "cell_type": "markdown",
   "source": "### Aprendizaje no supervisado: K-Means",
   "id": "b25295cf1d474882"
  }
 ],
 "metadata": {
  "kernelspec": {
   "display_name": "Python 3",
   "language": "python",
   "name": "python3"
  },
  "language_info": {
   "codemirror_mode": {
    "name": "ipython",
    "version": 2
   },
   "file_extension": ".py",
   "mimetype": "text/x-python",
   "name": "python",
   "nbconvert_exporter": "python",
   "pygments_lexer": "ipython2",
   "version": "2.7.6"
  }
 },
 "nbformat": 4,
 "nbformat_minor": 5
}
